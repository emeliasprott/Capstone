{
 "cells": [
  {
   "cell_type": "markdown",
   "metadata": {},
   "source": [
    "# Fixing Parsed Text"
   ]
  },
  {
   "cell_type": "code",
   "execution_count": null,
   "metadata": {},
   "outputs": [],
   "source": [
    "import pandas as pd\n",
    "import re\n",
    "from wordsegment import load, segment\n",
    "from rapidfuzz import fuzz\n",
    "from collections import defaultdict\n",
    "from sklearn.cluster import AgglomerativeClustering\n",
    "import numpy as np\n",
    "load()"
   ]
  },
  {
   "cell_type": "markdown",
   "metadata": {},
   "source": [
    "### Senate Committees"
   ]
  },
  {
   "cell_type": "code",
   "execution_count": 5,
   "metadata": {},
   "outputs": [],
   "source": [
    "senate = pd.read_csv('senators_committees.csv')"
   ]
  },
  {
   "cell_type": "code",
   "execution_count": 13,
   "metadata": {},
   "outputs": [],
   "source": [
    "import spacy\n",
    "nlp = spacy.load(\"en_core_web_md\", disable=[\"ner\", \"parser\", \"lemmatizer\", \"senter\", \"tagger\"])"
   ]
  },
  {
   "cell_type": "code",
   "execution_count": 26,
   "metadata": {},
   "outputs": [],
   "source": [
    "sen_coms = senate['committee'].unique().tolist()\n",
    "\n",
    "def fuzzy_strings(sen_coms):\n",
    "    def preprocess_name(name):\n",
    "        name = name.lower()\n",
    "        name = re.sub(r'\\(.*\\)', '', name)\n",
    "        name = re.sub(r'[^A-Za-z\\s]', ' ', name)\n",
    "        name = re.sub(r'\\s+', ' ', name).strip()\n",
    "        name = re.sub(r'select|joint|standing (?:subcommittee on|committee on)*', '', name).strip()\n",
    "        return name\n",
    "\n",
    "    def clean_nlp(text):\n",
    "        text = preprocess_name(text)\n",
    "        text = re.sub(r'\\s+', '', text).strip()\n",
    "        text = segment(text)\n",
    "        text = ' '.join(text)\n",
    "        return nlp(text)\n",
    "\n",
    "    clean_sen = [preprocess_name(c) for c in sen_coms]\n",
    "    nlp_sen = [clean_nlp(c) for c in clean_sen]\n",
    "\n",
    "    def fuzzy_distance(a, b):\n",
    "        n_a = re.sub(r'\\s+', '', a)\n",
    "        n_b = re.sub(r'\\s+', '', b)\n",
    "        if n_a == n_b:\n",
    "            return 0\n",
    "        ratio1 = fuzz.token_sort_ratio(n_a, n_b)\n",
    "        ratio2 = fuzz.partial_ratio(n_a, n_b)\n",
    "        ratio3 = fuzz.token_set_ratio(n_a, n_b)\n",
    "        weighted_ratio = (ratio1 * 0.4) + (ratio2 * 0.2) + (ratio3 * 0.4)\n",
    "        return 100 - weighted_ratio\n",
    "\n",
    "    n = len(clean_sen)\n",
    "    distance_matrix = np.zeros((n, n))\n",
    "    for i in range(n):\n",
    "        for j in range(i, n):\n",
    "            distance = fuzzy_distance(clean_sen[i], clean_sen[j])\n",
    "            spacy_dist = nlp_sen[i].similarity(nlp_sen[j]) * 100\n",
    "            distance_matrix[i, j] = (distance * 0.4) + (spacy_dist * 0.6)\n",
    "            distance_matrix[j, i] = (distance * 0.4) + (spacy_dist * 0.6)\n",
    "\n",
    "    threshold = 15\n",
    "    clustering_model = AgglomerativeClustering(\n",
    "    metric='precomputed',\n",
    "    linkage='average',\n",
    "    distance_threshold=threshold,\n",
    "    n_clusters=None\n",
    "    )\n",
    "    labels = clustering_model.fit_predict(distance_matrix)\n",
    "    clusters = defaultdict(list)\n",
    "    for label, name in zip(labels, sen_coms):\n",
    "        clusters[label].append(name)\n",
    "    cluster_mapping = {variant: label for label, variants in clusters.items() for variant in variants}\n",
    "\n",
    "    return cluster_mapping"
   ]
  },
  {
   "cell_type": "code",
   "execution_count": 27,
   "metadata": {},
   "outputs": [],
   "source": [
    "cluster_frame_sen = pd.DataFrame.from_dict(fuzzy_strings(sen_coms), orient='index').reset_index().rename(columns={'index': 'committee', 0: 'cluster'})"
   ]
  },
  {
   "cell_type": "code",
   "execution_count": 28,
   "metadata": {},
   "outputs": [],
   "source": [
    "cframe = cluster_frame_sen.groupby('cluster').agg('first').reset_index()\n",
    "cframe['committee'] = cframe['committee'].apply(lambda x: \" \".join(segment(x)))"
   ]
  },
  {
   "cell_type": "code",
   "execution_count": 29,
   "metadata": {},
   "outputs": [],
   "source": [
    "cluster_frame_sen = cluster_frame_sen.merge(cframe, on='cluster', how='left')\n",
    "sen_full_mappings = {x: y for x, y in zip(cluster_frame_sen['committee_x'], cluster_frame_sen['committee_y'])}"
   ]
  },
  {
   "cell_type": "code",
   "execution_count": 40,
   "metadata": {},
   "outputs": [],
   "source": [
    "cluster_frame_sen.loc[cluster_frame_sen['committee_x'].str.contains('Wine'), ['cluster', 'committee_y']] = [200, \"California's Wine Industry\"]"
   ]
  },
  {
   "cell_type": "code",
   "execution_count": 42,
   "metadata": {},
   "outputs": [],
   "source": [
    "senate['committee_clean'] = senate['committee'].map(sen_full_mappings)\n",
    "senate.loc[senate['committee_clean'].isna(), 'committee_clean'] = senate['committee']\n",
    "senate.to_csv('senate_committees_cleaned.csv', index=False)"
   ]
  },
  {
   "cell_type": "markdown",
   "metadata": {},
   "source": [
    "### Assembly Committees"
   ]
  },
  {
   "cell_type": "code",
   "execution_count": 43,
   "metadata": {},
   "outputs": [],
   "source": [
    "assembly = pd.read_csv('assembly_committees.csv')"
   ]
  },
  {
   "cell_type": "code",
   "execution_count": 44,
   "metadata": {},
   "outputs": [],
   "source": [
    "assembly_coms = assembly['committee'].unique().tolist()\n",
    "assembly_frame_com = pd.DataFrame.from_dict(fuzzy_strings(assembly_coms), orient='index').reset_index().rename(columns={'index': 'committee', 0: 'cluster'})"
   ]
  },
  {
   "cell_type": "code",
   "execution_count": 45,
   "metadata": {},
   "outputs": [],
   "source": [
    "aframe = assembly_frame_com.groupby('cluster').agg('first').reset_index()\n",
    "aframe['committee'] = aframe['committee'].apply(lambda x: \" \".join(segment(x)))"
   ]
  },
  {
   "cell_type": "code",
   "execution_count": 46,
   "metadata": {},
   "outputs": [],
   "source": [
    "assembly_frame_com = assembly_frame_com.merge(aframe, on='cluster', how='left')\n",
    "assembly_full_mappings = {x: y for x, y in zip(assembly_frame_com['committee_x'], assembly_frame_com['committee_y'])}\n",
    "assembly['committee_clean'] = assembly['committee'].map(assembly_full_mappings)\n",
    "assembly.loc[assembly['committee_clean'].isna(), 'committee_clean'] = assembly['committee']"
   ]
  },
  {
   "cell_type": "code",
   "execution_count": 48,
   "metadata": {},
   "outputs": [],
   "source": [
    "assembly.to_csv('assembly_committees_clean.csv', index=False)"
   ]
  },
  {
   "cell_type": "code",
   "execution_count": null,
   "metadata": {},
   "outputs": [],
   "source": []
  }
 ],
 "metadata": {
  "kernelspec": {
   "display_name": "ca_leg_etl",
   "language": "python",
   "name": "python3"
  },
  "language_info": {
   "codemirror_mode": {
    "name": "ipython",
    "version": 3
   },
   "file_extension": ".py",
   "mimetype": "text/x-python",
   "name": "python",
   "nbconvert_exporter": "python",
   "pygments_lexer": "ipython3",
   "version": "3.11.6"
  }
 },
 "nbformat": 4,
 "nbformat_minor": 2
}
