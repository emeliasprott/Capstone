{
 "cells": [
  {
   "cell_type": "markdown",
   "metadata": {},
   "source": [
    "# Fixing Parsed Text"
   ]
  },
  {
   "cell_type": "code",
   "execution_count": 144,
   "metadata": {},
   "outputs": [],
   "source": [
    "import pandas as pd\n",
    "import re\n",
    "from wordsegment import load, segment\n",
    "from rapidfuzz import process, fuzz\n",
    "from collections import defaultdict\n",
    "from unidecode import unidecode\n",
    "from sklearn.cluster import AgglomerativeClustering\n",
    "import numpy as np\n",
    "from textblob import TextBlob\n",
    "load()"
   ]
  },
  {
   "cell_type": "markdown",
   "metadata": {},
   "source": [
    "### Senate Committees"
   ]
  },
  {
   "cell_type": "code",
   "execution_count": 102,
   "metadata": {},
   "outputs": [],
   "source": [
    "senate = pd.read_csv('senators_committees.csv')"
   ]
  },
  {
   "cell_type": "code",
   "execution_count": 136,
   "metadata": {},
   "outputs": [],
   "source": [
    "sen_coms = senate['committee'].unique().tolist()\n",
    "\n",
    "def fuzzy_strings(sen_coms):\n",
    "    def clean_text(text):\n",
    "        t = unidecode(text)\n",
    "        te = t.lower().strip()\n",
    "        tex = re.sub(r'[^\\w\\s]', '', te)\n",
    "        t1 = re.sub(r'S\\s*e\\s*l\\s*e\\s*c\\s*t\\s*C\\s*o\\s*m\\s*m\\s*i\\s*t\\s*t\\s*e\\s*e\\s*s', '', tex)\n",
    "        t2 = re.sub(r'S\\s*u\\s*b\\s*c\\s*o\\s*m\\s*m\\s*i\\s*t\\s*t\\s*e\\s*e\\s*s', '', t1)\n",
    "        t3 = re.sub(r'J\\s*o\\s*i\\s*n\\s*t\\s*C\\s*o\\s*m\\s*m\\s*i\\s*t\\s*t\\s*e\\s*e\\s*s', '', t2)\n",
    "        t4 = re.sub(r'B\\s*o\\s*a\\s*r\\s*d\\s*,\\s*C\\s*o\\s*m\\s*m\\s*i\\s*s*i\\s*o\\s*n\\s*s*,\\s*a\\s*n\\s*d\\s*C\\s*o\\s*u\\s*n\\s*c\\s*i\\s*l\\s*s', '', t3)\n",
    "        t5 = t4.strip()\n",
    "        t6 = \" \".join(segment(re.sub(r' ', '', t5)))\n",
    "        return t6\n",
    "\n",
    "    clean_sen = [clean_text(c) for c in sen_coms]\n",
    "\n",
    "    def fuzzy_distance(a, b):\n",
    "        ratio = fuzz.token_sort_ratio(a, b)\n",
    "        return 100 - ratio\n",
    "\n",
    "    n = len(clean_sen)\n",
    "    distance_matrix = np.zeros((n, n))\n",
    "    for i in range(n):\n",
    "        for j in range(i, n):\n",
    "            distance = fuzzy_distance(clean_sen[i], clean_sen[j])\n",
    "            distance_matrix[i, j] = distance\n",
    "            distance_matrix[j, i] = distance\n",
    "\n",
    "    threshold = 15\n",
    "    clustering_model = AgglomerativeClustering(\n",
    "    metric='precomputed',\n",
    "    linkage='average',\n",
    "    distance_threshold=threshold,\n",
    "    n_clusters=None\n",
    "    )\n",
    "    labels = clustering_model.fit_predict(distance_matrix)\n",
    "    clusters = defaultdict(list)\n",
    "    for label, name in zip(labels, sen_coms):\n",
    "        clusters[label].append(name)\n",
    "    cluster_mapping = {v: k for k, val in clusters.items() for v in val}\n",
    "    return cluster_mapping"
   ]
  },
  {
   "cell_type": "code",
   "execution_count": 148,
   "metadata": {},
   "outputs": [],
   "source": [
    "cluster_frame_sen = pd.DataFrame.from_dict(fuzzy_strings(sen_coms), orient='index').reset_index().rename(columns={'index': 'committee', 0: 'cluster'})"
   ]
  },
  {
   "cell_type": "code",
   "execution_count": 149,
   "metadata": {},
   "outputs": [],
   "source": [
    "cframe = cluster_frame_sen.groupby('cluster').agg('first').reset_index()\n",
    "cluster_frame_sen = cluster_frame_sen.merge(cframe, on='cluster', how='left')\n",
    "sen_full_mappings = {x: y for x, y in zip(cluster_frame_sen['committee_x'], cluster_frame_sen['committee_y'])}"
   ]
  },
  {
   "cell_type": "code",
   "execution_count": 153,
   "metadata": {},
   "outputs": [],
   "source": [
    "senate['committee_clean'] = senate['committee'].map(sen_full_mappings)\n",
    "senate.loc[senate['committee_clean'].isna(), 'committee_clean'] = senate['committee']\n",
    "senate.to_csv('senate_committees_cleaned.csv', index=False)"
   ]
  },
  {
   "cell_type": "markdown",
   "metadata": {},
   "source": [
    "### Assembly Committees"
   ]
  },
  {
   "cell_type": "code",
   "execution_count": 83,
   "metadata": {},
   "outputs": [],
   "source": [
    "assembly = pd.read_csv('assembly_committees.csv')"
   ]
  },
  {
   "cell_type": "code",
   "execution_count": 154,
   "metadata": {},
   "outputs": [],
   "source": [
    "assembly_coms = assembly['committee'].unique().tolist()\n",
    "assembly_frame_com = pd.DataFrame.from_dict(fuzzy_strings(assembly_coms), orient='index').reset_index().rename(columns={'index': 'committee', 0: 'cluster'})"
   ]
  },
  {
   "cell_type": "code",
   "execution_count": 155,
   "metadata": {},
   "outputs": [],
   "source": [
    "aframe = assembly_frame_com.groupby('cluster').agg('first').reset_index()\n",
    "assembly_frame_com = assembly_frame_com.merge(aframe, on='cluster', how='left')\n",
    "assembly_full_mappings = {x: y for x, y in zip(assembly_frame_com['committee_x'], assembly_frame_com['committee_y'])}\n",
    "assembly['committee_clean'] = assembly['committee'].map(assembly_full_mappings)\n",
    "assembly.loc[assembly['committee_clean'].isna(), 'committee_clean'] = assembly['committee']"
   ]
  },
  {
   "cell_type": "code",
   "execution_count": 157,
   "metadata": {},
   "outputs": [],
   "source": [
    "assembly.to_csv('assembly_committees_clean.csv', index=False)"
   ]
  },
  {
   "cell_type": "code",
   "execution_count": null,
   "metadata": {},
   "outputs": [],
   "source": []
  }
 ],
 "metadata": {
  "kernelspec": {
   "display_name": "tf",
   "language": "python",
   "name": "python3"
  },
  "language_info": {
   "codemirror_mode": {
    "name": "ipython",
    "version": 3
   },
   "file_extension": ".py",
   "mimetype": "text/x-python",
   "name": "python",
   "nbconvert_exporter": "python",
   "pygments_lexer": "ipython3",
   "version": "3.10.13"
  }
 },
 "nbformat": 4,
 "nbformat_minor": 2
}
