{
 "cells": [
  {
   "cell_type": "code",
   "execution_count": 1,
   "metadata": {},
   "outputs": [],
   "source": [
    "import os\n",
    "import re\n",
    "import zipfile\n",
    "import itertools\n",
    "from lxml import etree\n",
    "from io import BytesIO\n",
    "from tqdm import tqdm"
   ]
  },
  {
   "cell_type": "code",
   "execution_count": 2,
   "metadata": {},
   "outputs": [
    {
     "name": "stdout",
     "output_type": "stream",
     "text": [
      "Processed ../etl_data/LOB/1999_lob_files.zip\n",
      "Processed ../etl_data/LOB/2001_lob_files.zip\n",
      "Processed ../etl_data/LOB/2005_lob_files.zip\n",
      "Processed ../etl_data/LOB/2015_lob_files.zip\n",
      "Processed ../etl_data/LOB/1989_lob_files.zip\n",
      "Processed ../etl_data/LOB/2021_lob_files.zip\n",
      "Processed ../etl_data/LOB/1997_lob_files.zip\n",
      "Processed ../etl_data/LOB/2025_lob_files.zip\n",
      "Processed ../etl_data/LOB/1993_lob_files.zip\n",
      "Processed ../etl_data/LOB/2019_lob_files.zip\n",
      "Processed ../etl_data/LOB/1991_lob_files.zip\n",
      "Processed ../etl_data/LOB/2009_lob_files.zip\n",
      "Processed ../etl_data/LOB/1995_lob_files.zip\n",
      "Processed ../etl_data/LOB/2023_lob_files.zip\n",
      "Processed ../etl_data/LOB/2007_lob_files.zip\n",
      "Processed ../etl_data/LOB/2003_lob_files.zip\n",
      "Processed ../etl_data/LOB/2013_lob_files.zip\n",
      "Processed ../etl_data/LOB/2017_lob_files.zip\n"
     ]
    }
   ],
   "source": [
    "xml_files = []\n",
    "zipped_files = [file for file in os.listdir(os.path.dirname('../etl_data/LOB/')) if file.endswith('.zip')]\n",
    "\n",
    "for file in zipped_files:\n",
    "    zip_file = os.path.join('../etl_data/LOB/', file)\n",
    "    with zipfile.ZipFile(zip_file, 'r') as z:\n",
    "        bill_version_files = [f for f in z.namelist() if (f.startswith('bill_version/')) and (f.endswith('.lob'))]\n",
    "        for file in bill_version_files:\n",
    "            with z.open(file) as f:\n",
    "                try:\n",
    "                    tree = etree.parse(BytesIO(f.read()))\n",
    "                    xml_files.append(tree)\n",
    "                except:\n",
    "                    print(file)\n",
    "    print(f\"Processed {zip_file}\")\n",
    "\n"
   ]
  },
  {
   "cell_type": "code",
   "execution_count": 3,
   "metadata": {},
   "outputs": [],
   "source": [
    "def process_child_xml(child):\n",
    "    start_text = child.text\n",
    "    last_word = start_text.strip().split(' ')[-1]\n",
    "    xml_string = etree.tostring(child, encoding='unicode', method='xml')\n",
    "    xml_start = re.search(rf'{last_word}\\s*<\\?xm', xml_string)\n",
    "    if xml_start is not None:\n",
    "        text_ = xml_string[xml_start.end():]\n",
    "        text_begin = re.search(r'\\?>', text_).end()\n",
    "        batch = re.sub(r'(?:<\\?xm-insertion_mark_((?:start)|(?:end))\\?>)|(?:<\\?xm-deletion_mark data=\\\".*\\\"\\?>)|(?:</p>)', '', text_[text_begin:])\n",
    "        batch = re.sub(r'\\s+', ' ', batch)\n",
    "        return batch\n",
    "    else:\n",
    "        return child.text\n",
    "\n",
    "def xml_to_dict(xml_, digestText='Default', billContent='Default', title='Default'):\n",
    "    entry = {}\n",
    "    elements = xml_.getroot().getchildren()[1].getchildren() + xml_.getroot().getchildren()[2].getchildren()\n",
    "\n",
    "    bill_content = []\n",
    "    for e in elements:\n",
    "        id = e.tag.split(\"}\")[-1]\n",
    "        if id == 'VersionNum':\n",
    "            entry[id] = e.text\n",
    "        elif id == 'Title':\n",
    "            if title == 'Default':\n",
    "                entry[id] = e.text\n",
    "            else:\n",
    "                str_ = etree.tostring(e, encoding='unicode', method='xml')\n",
    "                content = re.search(r'(?<=instance\\\">)(.*)(?=</caml:Title>)', str_)\n",
    "                if content is not None:\n",
    "                    t_ = content.group(1)\n",
    "                    t__ = re.sub(r'(?:<\\?xm-insertion_mark_((?:start)|(?:end))\\?>)|(?:<\\?xm-deletion_mark data=\\\".*\\\"\\?>)|(?:</p>)', '', t_)\n",
    "                    t___ = re.sub(r'\\s+', ' ', t__)\n",
    "                    entry[id] = t___\n",
    "        elif id == 'History':\n",
    "            actions = {}\n",
    "            tags = [h.getchildren() for h in e.getchildren()]\n",
    "            for tag in tags:\n",
    "                actions[tag[0].text] = tag[1].text\n",
    "            entry[id] = actions\n",
    "        elif id == 'LegislativeInfo':\n",
    "            info = {}\n",
    "            children = [h for h in e.getchildren()]\n",
    "            for child in children:\n",
    "                info[child.tag.split(\"}\")[-1]] = child.text\n",
    "            entry.update(info)\n",
    "        elif id == 'Authors':\n",
    "            author_types = list(set([h.getchildren()[0].text for h in e.getchildren()]))\n",
    "            authors = {type: {} for type in author_types}\n",
    "            for author in e.getchildren():\n",
    "                author_type = author.getchildren()[0].text\n",
    "                author_name = author.getchildren()[1].text\n",
    "                author_house = author.getchildren()[2].text\n",
    "                authors[author_type].update({author_name: author_house})\n",
    "            entry[id] = authors\n",
    "        elif id == 'GeneralSubject':\n",
    "            entry[id] = e.getchildren()[0].text\n",
    "        elif id == 'DigestText':\n",
    "            if digestText == 'Default':\n",
    "                digest = \"\".join([h.text for h in e.getchildren()])\n",
    "                entry[id] = digest\n",
    "            else:\n",
    "                text = []\n",
    "                for child in e.getchildren():\n",
    "                    if len(child.getchildren()) < 2:\n",
    "                        if re.sub(r'\\(\\d\\)', '', child.text) != '':\n",
    "                            text.append(child.text)\n",
    "                    else:\n",
    "                        if (child.text is not None) and (re.sub(r'\\(\\d\\)', '', child.text) != ''):\n",
    "                            text.append(process_child_xml(child))\n",
    "                digest_text = \" \".join(text)\n",
    "                entry[id] = digest_text\n",
    "        elif id == 'BillSection':\n",
    "            if billContent == 'Default':\n",
    "                content = e.getchildren()[1].getchildren()\n",
    "                contents = [c.text for c in content if ('The Legislature hereby finds' not in c.text) and (re.search(r'\\(\\w\\)', c.text) is None)]\n",
    "                content = \" \".join(contents)\n",
    "                bill_content.append(content)\n",
    "            else:\n",
    "                for child in e.getchildren():\n",
    "                    if child.tag.split(\"}\")[-1] == 'Content':\n",
    "                        for c in child.getchildren():\n",
    "                            if len(c.getchildren()) == 0:\n",
    "                                bill_content.append(c.text)\n",
    "                            else:\n",
    "                                text_ = etree.tostring(c.getchildren()[0], encoding='unicode', method='xml')\n",
    "                                end = re.search(r'class=\\\".*\\\"/>', text_).end()\n",
    "                                if 'The legislature hereby finds' not in text_:\n",
    "                                    bill_content.append(text_[end:])\n",
    "    session_year = entry['SessionYear']\n",
    "    session_num = entry['SessionNum']\n",
    "    measure_type = entry['MeasureType']\n",
    "    measure_num = entry['MeasureNum']\n",
    "    version_num = entry['VersionNum']\n",
    "    measure_state = entry['MeasureState']\n",
    "    id = f\"{session_year}{session_num}{measure_type}__{measure_num}{version_num}{measure_state}\"\n",
    "\n",
    "\n",
    "    entry['BillContent'] = \" \".join(bill_content)\n",
    "    return id, entry"
   ]
  },
  {
   "cell_type": "code",
   "execution_count": 4,
   "metadata": {},
   "outputs": [
    {
     "name": "stderr",
     "output_type": "stream",
     "text": [
      "100%|██████████| 267408/267408 [01:42<00:00, 2613.00it/s]\n"
     ]
    }
   ],
   "source": [
    "bill_versions = {}\n",
    "for file in tqdm(xml_files):\n",
    "    try:\n",
    "        id, entry = xml_to_dict(file, digestText='Default', billContent='Default', title='Default')\n",
    "        bill_versions[id] = entry\n",
    "    except:\n",
    "        try:\n",
    "            id, entry = xml_to_dict(file, digestText='alt', billContent='alt', title='Default')\n",
    "            bill_versions[id] = entry\n",
    "        except:\n",
    "            try:\n",
    "                id, entry = xml_to_dict(file, digestText='alt', billContent='alt', title='alt')\n",
    "                bill_versions[id] = entry\n",
    "            except:\n",
    "                try:\n",
    "                    id, entry = xml_to_dict(file, digestText='Default', billContent='alt', title='alt')\n",
    "                    bill_versions[id] = entry\n",
    "                except Exception as e:\n",
    "                    pass\n"
   ]
  },
  {
   "cell_type": "code",
   "execution_count": 5,
   "metadata": {},
   "outputs": [],
   "source": [
    "import json"
   ]
  },
  {
   "cell_type": "code",
   "execution_count": 6,
   "metadata": {},
   "outputs": [],
   "source": [
    "with open(\"../legislation_data/bill_version_text.json\", \"w\") as f:\n",
    "    json.dump(bill_versions, f, indent=4)"
   ]
  },
  {
   "cell_type": "code",
   "execution_count": null,
   "metadata": {},
   "outputs": [],
   "source": []
  }
 ],
 "metadata": {
  "kernelspec": {
   "display_name": "ca_leg_etl",
   "language": "python",
   "name": "python3"
  },
  "language_info": {
   "codemirror_mode": {
    "name": "ipython",
    "version": 3
   },
   "file_extension": ".py",
   "mimetype": "text/x-python",
   "name": "python",
   "nbconvert_exporter": "python",
   "pygments_lexer": "ipython3",
   "version": "3.11.6"
  }
 },
 "nbformat": 4,
 "nbformat_minor": 2
}
