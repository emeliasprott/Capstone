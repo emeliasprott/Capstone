{
 "cells": [
  {
   "cell_type": "code",
   "execution_count": 23,
   "metadata": {},
   "outputs": [],
   "source": [
    "import pandas as pd\n",
    "import json\n",
    "import re\n",
    "import warnings\n",
    "warnings.filterwarnings('ignore', category=pd.errors.SettingWithCopyWarning)"
   ]
  },
  {
   "cell_type": "code",
   "execution_count": 2,
   "metadata": {},
   "outputs": [],
   "source": [
    "bills = pd.read_csv('ca_leg/legislation_data/bill_tbl.csv')"
   ]
  },
  {
   "cell_type": "code",
   "execution_count": 3,
   "metadata": {},
   "outputs": [],
   "source": [
    "bill_history = pd.read_csv('ca_leg/legislation_data/bill_history_tbl.csv', dtype={'action_status': str, 'primary_location': str, 'secondary_location': str, 'end_status': str})"
   ]
  },
  {
   "cell_type": "code",
   "execution_count": 4,
   "metadata": {},
   "outputs": [],
   "source": [
    "bill_versions = pd.read_csv('ca_leg/legislation_data/bill_version_tbl.csv')"
   ]
  },
  {
   "cell_type": "code",
   "execution_count": 5,
   "metadata": {},
   "outputs": [],
   "source": [
    "with open(\"ca_leg/legislation_data/bill_version_text.json\", \"r\") as f:\n",
    "    bill_text = json.load(f)\n",
    "    authors_data = {bill_id: bill_info['Authors']\n",
    "                   for bill_id, bill_info in bill_text.items()\n",
    "                   if 'Authors' in bill_info}\n"
   ]
  },
  {
   "cell_type": "code",
   "execution_count": 6,
   "metadata": {},
   "outputs": [
    {
     "data": {
      "text/plain": [
       "['null', 'PRINCIPAL_COAUTHOR', 'COAUTHOR', 'LEAD_AUTHOR']"
      ]
     },
     "execution_count": 6,
     "metadata": {},
     "output_type": "execute_result"
    }
   ],
   "source": [
    "list(set([a for b in [v.keys() for v in authors_data.values()] for a in b]))"
   ]
  },
  {
   "cell_type": "code",
   "execution_count": 7,
   "metadata": {},
   "outputs": [],
   "source": [
    "records = []\n",
    "for bill_id, authors in authors_data.items():\n",
    "    for author_type, house in authors.items():\n",
    "        for house_name, author_name in house.items():\n",
    "            records.append([bill_id, author_type, \"COMMITTEE\" if house_name == 'UNKNOWN' else house_name, author_name])\n",
    "\n",
    "df = pd.DataFrame(records, columns=['bill_id', 'author_type', 'house', 'author_name'])\n",
    "df['bill_id'] = df['bill_id'].apply(lambda x: re.sub(r'__', '', x))\n",
    "combined = df.merge(bill_versions, left_on='bill_id', right_on='bill_version_id', how='left')"
   ]
  },
  {
   "cell_type": "code",
   "execution_count": 8,
   "metadata": {},
   "outputs": [],
   "source": [
    "full = combined.loc[combined['bill_version_action'].notna()].merge(bills, left_on='bill_id_y', right_on='bill_id', how='left')"
   ]
  },
  {
   "cell_type": "code",
   "execution_count": 9,
   "metadata": {},
   "outputs": [],
   "source": [
    "full.to_csv('ca_leg/legislation_data/combined_table.csv', index=False)"
   ]
  },
  {
   "cell_type": "code",
   "execution_count": 5,
   "metadata": {},
   "outputs": [],
   "source": [
    "disclosure = pd.read_csv('lobbying/CVR_LOBBY_DISCLOSURE_CD.csv', dtype=str)"
   ]
  },
  {
   "cell_type": "code",
   "execution_count": 6,
   "metadata": {},
   "outputs": [],
   "source": [
    "expenditure = pd.read_csv('lobbying/LEXP_CD.csv', dtype=str)"
   ]
  },
  {
   "cell_type": "code",
   "execution_count": 10,
   "metadata": {},
   "outputs": [],
   "source": [
    "lobbying = disclosure[['FILING_ID', 'FIRM_NAME']].merge(expenditure, on='FILING_ID', how='left')\n",
    "lobbying.to_csv('lobbying/lobbying.csv', index=False)"
   ]
  },
  {
   "cell_type": "code",
   "execution_count": 30,
   "metadata": {},
   "outputs": [],
   "source": [
    "assembly_committees = pd.read_csv('pdf_parsing/assembly_committees_clean.csv')"
   ]
  },
  {
   "cell_type": "code",
   "execution_count": 36,
   "metadata": {},
   "outputs": [],
   "source": [
    "doubles = assembly_committees.loc[assembly_committees['politician'].str.contains(',')]\n",
    "hyphens = assembly_committees.loc[assembly_committees['politician'].str.contains('-')]\n",
    "neither = assembly_committees.loc[(~assembly_committees['politician'].str.contains(',')) & (~assembly_committees['politician'].str.contains('-'))]"
   ]
  },
  {
   "cell_type": "code",
   "execution_count": null,
   "metadata": {},
   "outputs": [
    {
     "data": {
      "application/vnd.microsoft.datawrangler.viewer.v0+json": {
       "columns": [
        {
         "name": "index",
         "rawType": "int64",
         "type": "integer"
        },
        {
         "name": "term",
         "rawType": "object",
         "type": "string"
        },
        {
         "name": "politician",
         "rawType": "object",
         "type": "string"
        },
        {
         "name": "committee",
         "rawType": "object",
         "type": "string"
        },
        {
         "name": "position",
         "rawType": "object",
         "type": "string"
        },
        {
         "name": "committee_clean",
         "rawType": "object",
         "type": "string"
        }
       ],
       "conversionMethod": "pd.DataFrame",
       "ref": "ac27442f-9aa6-4ac7-b83e-d76b5485445a",
       "rows": [
        [
         "0",
         "2001-2002",
         "Alquist",
         "Select Committee on the Aging of the Baby Boomers",
         "Chair",
         "Select Committee on the Aging of the Baby Boomers"
        ],
        [
         "1",
         "2001-2002",
         "Alquist",
         "Joint Committee to Develop a Master Plan for Education-Kindergarten through University",
         "Co-Vice Chair",
         "Joint Committee to Develop a Master Plan for Education-Kindergarten through University"
        ],
        [
         "2",
         "2001-2002",
         "Alquist",
         "Aging and Long-Term Care",
         "Member",
         "Aging and Long-Term Care"
        ],
        [
         "3",
         "2001-2002",
         "Alquist",
         "Appropriations",
         "Member",
         "Appropriations"
        ],
        [
         "4",
         "2001-2002",
         "Alquist",
         "Banking and Finance",
         "Member",
         "Banking and Finance"
        ],
        [
         "5",
         "2001-2002",
         "Alquist",
         "Education",
         "Member",
         "Education"
        ],
        [
         "6",
         "2001-2002",
         "Alquist",
         "Higher Education",
         "Member",
         "Higher Education"
        ],
        [
         "7",
         "2001-2002",
         "Alquist",
         "Revenue and Taxation",
         "Member",
         "Revenue and Taxation"
        ],
        [
         "8",
         "2001-2002",
         "Alquist",
         "Select Committee on Aerospace Industry",
         "Member",
         "Select Committee on Aerospace Industry"
        ],
        [
         "9",
         "2001-2002",
         "Alquist",
         "Select Committee on Community Colleges/School to Career",
         "Member",
         "Select Committee on Community Colleges/School to Career"
        ],
        [
         "10",
         "2001-2002",
         "Alquist",
         "Select Committee on theDevelopment of a 10 th University of California Campus",
         "Member",
         "Select Committee on theDevelopment of a 10 th University of California Campus"
        ],
        [
         "11",
         "2001-2002",
         "Alquist",
         "Select Committee on Earthquake Safety and Preparedness",
         "Member",
         "Select Committee on Earthquake Safety and Preparedness"
        ],
        [
         "12",
         "2001-2002",
         "Alquist",
         "Select Committee on Language and Access to Government",
         "Member",
         "Select Committee on Language and Access to Government"
        ],
        [
         "13",
         "2001-2002",
         "Aroner",
         "Human Services",
         "Chair",
         "Human Services"
        ],
        [
         "14",
         "2001-2002",
         "Aroner",
         "Select Committee on Palliative Care",
         "Chair",
         "Select Committee on Palliative Care"
        ],
        [
         "15",
         "2001-2002",
         "Aroner",
         "Aging and Long Term Care",
         "Member",
         "Aging and Long-Term Care"
        ],
        [
         "16",
         "2001-2002",
         "Aroner",
         "Appropriations",
         "Member",
         "Appropriations"
        ],
        [
         "17",
         "2001-2002",
         "Aroner",
         "Budget",
         "Member",
         "Budget"
        ],
        [
         "18",
         "2001-2002",
         "Aroner",
         "Revenue and Taxation",
         "Member",
         "Revenue and Taxation"
        ],
        [
         "19",
         "2001-2002",
         "Aroner",
         "Water, Parks and Wildlife",
         "Member",
         "Water, Parks and Wildlife"
        ],
        [
         "20",
         "2001-2002",
         "Aroner",
         "BudgetSubcommittee No. 1--Health and Human Services",
         "Member",
         "BudgetSubcommittee No. 1--Health and Human Services"
        ],
        [
         "21",
         "2001-2002",
         "Aroner",
         "Select Committee on Coastal Protection",
         "Member",
         "Select Committee on Coastal Protection"
        ],
        [
         "22",
         "2001-2002",
         "Aroner",
         "SelectCommittee on Gun Violence",
         "Member",
         "SelectCommittee on Gun Violence"
        ],
        [
         "23",
         "2001-2002",
         "Aroner",
         "Select Committee on Park and River Restoration",
         "Member",
         "Select Committee on Park and River Restoration"
        ],
        [
         "24",
         "2001-2002",
         "Aroner",
         "Select Committeeon the Protection of Inland Waterways",
         "Member",
         "Select Committeeon the Protection of Inland Waterways"
        ],
        [
         "25",
         "2001-2002",
         "Aroner",
         "Joint Committee on Preparing California for the 21 st Century",
         "Member",
         "Joint Committee on Preparing California for the 21 st Century"
        ],
        [
         "26",
         "2001-2002",
         "Ashburn",
         "Elections, Reapportionment and Constitutional Amendments",
         "Chair",
         "Elections, Reapportionment and Constitutional Amendments"
        ],
        [
         "27",
         "2001-2002",
         "Ashburn",
         "Appropriations",
         "Member",
         "Appropriations"
        ],
        [
         "28",
         "2001-2002",
         "Ashburn",
         "Human Services",
         "Member",
         "Human Services"
        ],
        [
         "29",
         "2001-2002",
         "Ashburn",
         "Jobs, Economic Development, and the Economy",
         "Member",
         "Jobs, Economic Development, and the Economy"
        ],
        [
         "30",
         "2001-2002",
         "Ashburn",
         "SelectCommittee on the Development of a 10 th University of California Campus",
         "Member",
         "Select Committee on theDevelopment of a 10 th University of California Campus"
        ],
        [
         "31",
         "2001-2002",
         "Ashburn",
         "Joint Committee on Legislative Budget",
         "Member",
         "Joint Committee on Legislative Budget"
        ],
        [
         "32",
         "2001-2002",
         "Bates",
         "Appropriations",
         "Chair",
         "Appropriations"
        ],
        [
         "33",
         "2001-2002",
         "Bates",
         "Select Committee on the Re-use of El Toro Marine Corps Air Station",
         "Chair",
         "Select Committee on the Re-use of El Toro Marine Corps Air Station"
        ],
        [
         "34",
         "2001-2002",
         "Bates",
         "Budget",
         "Member",
         "Budget"
        ],
        [
         "35",
         "2001-2002",
         "Bates",
         "Health",
         "Member",
         "Health"
        ],
        [
         "36",
         "2001-2002",
         "Bates",
         "Judiciary",
         "Member",
         "Judiciary"
        ],
        [
         "37",
         "2001-2002",
         "Bates",
         "Transportation",
         "Member",
         "Transportation"
        ],
        [
         "38",
         "2001-2002",
         "Bates",
         "Budget Subcommittee No. 5--Information Technology/Transportation",
         "Member",
         "Budget Subcommittee No. 5--Information Technology/Transportation"
        ],
        [
         "39",
         "2001-2002",
         "Bates",
         "Select Committee on the Aging of the Baby Boomers",
         "Member",
         "Select Committee on the Aging of the Baby Boomers"
        ],
        [
         "40",
         "2001-2002",
         "Bates",
         "Select Committee on Air and Water Quality",
         "Member",
         "Select Committee on Air and Water Quality"
        ],
        [
         "41",
         "2001-2002",
         "Bates",
         "Select Committee on California's Children's School Readiness and Health",
         "Member",
         "Select Committee on California's Children's School Readiness and Health"
        ],
        [
         "42",
         "2001-2002",
         "Bates",
         "Select Committee on Coastal Protection",
         "Member",
         "Select Committee on Coastal Protection"
        ],
        [
         "43",
         "2001-2002",
         "Bates",
         "Select Committee on DomesticViolence",
         "Member",
         "Select Committee on DomesticViolence"
        ],
        [
         "44",
         "2001-2002",
         "Bates",
         "Select Committee on Transportation Congestion Relief",
         "Member",
         "Select Committee on Transportation Congestion Relief"
        ],
        [
         "45",
         "2001-2002",
         "Bates",
         "Joint Committee on the Arts",
         "Member",
         "Joint Committee on the Arts"
        ],
        [
         "46",
         "2001-2002",
         "Bates",
         "Joint Committee on Preparing California for the 21 st Century",
         "Member",
         "Joint Committee on Preparing California for the 21 st Century"
        ],
        [
         "47",
         "2001-2002",
         "Bates",
         "Joint Committee on Prison Construction and Operations",
         "Member",
         "Joint Committee on Prison Construction and Operations"
        ],
        [
         "48",
         "2001-2002",
         "Bates",
         "Joint Committee on Legislative Budget Committee",
         "Member",
         "Joint Committee on Legislative Budget Committee"
        ],
        [
         "49",
         "2001-2002",
         "Bogh",
         "Higher Education",
         "Chair",
         "Higher Education"
        ]
       ],
       "shape": {
        "columns": 5,
        "rows": 10205
       }
      },
      "text/html": [
       "<div>\n",
       "<style scoped>\n",
       "    .dataframe tbody tr th:only-of-type {\n",
       "        vertical-align: middle;\n",
       "    }\n",
       "\n",
       "    .dataframe tbody tr th {\n",
       "        vertical-align: top;\n",
       "    }\n",
       "\n",
       "    .dataframe thead th {\n",
       "        text-align: right;\n",
       "    }\n",
       "</style>\n",
       "<table border=\"1\" class=\"dataframe\">\n",
       "  <thead>\n",
       "    <tr style=\"text-align: right;\">\n",
       "      <th></th>\n",
       "      <th>term</th>\n",
       "      <th>politician</th>\n",
       "      <th>committee</th>\n",
       "      <th>position</th>\n",
       "      <th>committee_clean</th>\n",
       "    </tr>\n",
       "  </thead>\n",
       "  <tbody>\n",
       "    <tr>\n",
       "      <th>0</th>\n",
       "      <td>2001-2002</td>\n",
       "      <td>Alquist</td>\n",
       "      <td>Select Committee on the Aging of the Baby Boomers</td>\n",
       "      <td>Chair</td>\n",
       "      <td>Select Committee on the Aging of the Baby Boomers</td>\n",
       "    </tr>\n",
       "    <tr>\n",
       "      <th>1</th>\n",
       "      <td>2001-2002</td>\n",
       "      <td>Alquist</td>\n",
       "      <td>Joint Committee to Develop a Master Plan for E...</td>\n",
       "      <td>Co-Vice Chair</td>\n",
       "      <td>Joint Committee to Develop a Master Plan for E...</td>\n",
       "    </tr>\n",
       "    <tr>\n",
       "      <th>2</th>\n",
       "      <td>2001-2002</td>\n",
       "      <td>Alquist</td>\n",
       "      <td>Aging and Long-Term Care</td>\n",
       "      <td>Member</td>\n",
       "      <td>Aging and Long-Term Care</td>\n",
       "    </tr>\n",
       "    <tr>\n",
       "      <th>3</th>\n",
       "      <td>2001-2002</td>\n",
       "      <td>Alquist</td>\n",
       "      <td>Appropriations</td>\n",
       "      <td>Member</td>\n",
       "      <td>Appropriations</td>\n",
       "    </tr>\n",
       "    <tr>\n",
       "      <th>4</th>\n",
       "      <td>2001-2002</td>\n",
       "      <td>Alquist</td>\n",
       "      <td>Banking and Finance</td>\n",
       "      <td>Member</td>\n",
       "      <td>Banking and Finance</td>\n",
       "    </tr>\n",
       "    <tr>\n",
       "      <th>...</th>\n",
       "      <td>...</td>\n",
       "      <td>...</td>\n",
       "      <td>...</td>\n",
       "      <td>...</td>\n",
       "      <td>...</td>\n",
       "    </tr>\n",
       "    <tr>\n",
       "      <th>10887</th>\n",
       "      <td>2025-2026</td>\n",
       "      <td>Zbur</td>\n",
       "      <td>Judiciary</td>\n",
       "      <td>Member</td>\n",
       "      <td>Judiciary</td>\n",
       "    </tr>\n",
       "    <tr>\n",
       "      <th>10888</th>\n",
       "      <td>2025-2026</td>\n",
       "      <td>Zbur</td>\n",
       "      <td>Natural Resources</td>\n",
       "      <td>Member</td>\n",
       "      <td>Natural Resources</td>\n",
       "    </tr>\n",
       "    <tr>\n",
       "      <th>10889</th>\n",
       "      <td>2025-2026</td>\n",
       "      <td>Zbur</td>\n",
       "      <td>Rules</td>\n",
       "      <td>Member</td>\n",
       "      <td>Rules</td>\n",
       "    </tr>\n",
       "    <tr>\n",
       "      <th>10890</th>\n",
       "      <td>2025-2026</td>\n",
       "      <td>Zbur</td>\n",
       "      <td>Utilities and Energy</td>\n",
       "      <td>Member</td>\n",
       "      <td>Utilities and Energy</td>\n",
       "    </tr>\n",
       "    <tr>\n",
       "      <th>10891</th>\n",
       "      <td>2025-2026</td>\n",
       "      <td>Zbur</td>\n",
       "      <td>Joint Committee on Rules.</td>\n",
       "      <td>Member</td>\n",
       "      <td>Joint Committee on Rules</td>\n",
       "    </tr>\n",
       "  </tbody>\n",
       "</table>\n",
       "<p>10205 rows × 5 columns</p>\n",
       "</div>"
      ],
      "text/plain": [
       "            term politician  \\\n",
       "0      2001-2002    Alquist   \n",
       "1      2001-2002    Alquist   \n",
       "2      2001-2002    Alquist   \n",
       "3      2001-2002    Alquist   \n",
       "4      2001-2002    Alquist   \n",
       "...          ...        ...   \n",
       "10887  2025-2026       Zbur   \n",
       "10888  2025-2026       Zbur   \n",
       "10889  2025-2026       Zbur   \n",
       "10890  2025-2026       Zbur   \n",
       "10891  2025-2026       Zbur   \n",
       "\n",
       "                                               committee       position  \\\n",
       "0      Select Committee on the Aging of the Baby Boomers          Chair   \n",
       "1      Joint Committee to Develop a Master Plan for E...  Co-Vice Chair   \n",
       "2                               Aging and Long-Term Care         Member   \n",
       "3                                         Appropriations         Member   \n",
       "4                                    Banking and Finance         Member   \n",
       "...                                                  ...            ...   \n",
       "10887                                          Judiciary         Member   \n",
       "10888                                  Natural Resources         Member   \n",
       "10889                                              Rules         Member   \n",
       "10890                               Utilities and Energy         Member   \n",
       "10891                          Joint Committee on Rules.         Member   \n",
       "\n",
       "                                         committee_clean  \n",
       "0      Select Committee on the Aging of the Baby Boomers  \n",
       "1      Joint Committee to Develop a Master Plan for E...  \n",
       "2                               Aging and Long-Term Care  \n",
       "3                                         Appropriations  \n",
       "4                                    Banking and Finance  \n",
       "...                                                  ...  \n",
       "10887                                          Judiciary  \n",
       "10888                                  Natural Resources  \n",
       "10889                                              Rules  \n",
       "10890                               Utilities and Energy  \n",
       "10891                           Joint Committee on Rules  \n",
       "\n",
       "[10205 rows x 5 columns]"
      ]
     },
     "execution_count": 34,
     "metadata": {},
     "output_type": "execute_result"
    }
   ],
   "source": [
    "\n"
   ]
  },
  {
   "cell_type": "code",
   "execution_count": 21,
   "metadata": {},
   "outputs": [],
   "source": [
    "assembly_roster = pd.read_csv('pdf_parsing/assembly_roster.csv')"
   ]
  },
  {
   "cell_type": "code",
   "execution_count": 20,
   "metadata": {},
   "outputs": [
    {
     "data": {
      "application/vnd.microsoft.datawrangler.viewer.v0+json": {
       "columns": [
        {
         "name": "index",
         "rawType": "int64",
         "type": "integer"
        },
        {
         "name": "Occupation",
         "rawType": "object",
         "type": "unknown"
        },
        {
         "name": "Party",
         "rawType": "object",
         "type": "unknown"
        },
        {
         "name": "District No.",
         "rawType": "float64",
         "type": "float"
        },
        {
         "name": "Seat No.",
         "rawType": "float64",
         "type": "float"
        },
        {
         "name": "Term",
         "rawType": "object",
         "type": "string"
        },
        {
         "name": "First",
         "rawType": "object",
         "type": "unknown"
        },
        {
         "name": "Last",
         "rawType": "object",
         "type": "unknown"
        },
        {
         "name": "Position",
         "rawType": "object",
         "type": "unknown"
        }
       ],
       "conversionMethod": "pd.DataFrame",
       "ref": "947a7adf-ca81-4e97-b878-c91d3bdc720d",
       "rows": [
        [
         "0",
         "OralSurgeon",
         "R",
         "3.0",
         "60.0",
         "2001-2002",
         "Sam",
         "Aanestad",
         null
        ],
        [
         "1",
         "Businesswoman/Educator",
         "D",
         "22.0",
         "15.0",
         "2001-2002",
         "Elaine",
         "Alquist",
         null
        ],
        [
         "2",
         "StateSocialServicesSpecialist",
         "D",
         "14.0",
         "8.0",
         "2001-2002",
         "Dion",
         "Aroner",
         null
        ],
        [
         "3",
         "Legislator",
         "R",
         "32.0",
         "65.0",
         "2001-2002",
         "Roy",
         "Ashburn",
         null
        ],
        [
         "4",
         "Legislator",
         "R",
         "73.0",
         "64.0",
         "2001-2002",
         "Patricia",
         "Bates",
         null
        ],
        [
         "5",
         "Businessman/Legislator",
         "R",
         "65.0",
         "53.0",
         "2001-2002",
         "Russ",
         "Bogh",
         null
        ],
        [
         "6",
         "Legislator",
         "R",
         "29.0",
         "49.0",
         "2001-2002",
         "Mike",
         "Briggs",
         null
        ],
        [
         "7",
         "Legislator",
         "D",
         "58.0",
         "61.0",
         "2001-2002",
         "Thomas M",
         "Calderon",
         null
        ],
        [
         "8",
         "Businessman/Legislator",
         "R",
         "71.0",
         "66.0",
         "2001-2002",
         "Bill",
         "Campbell",
         null
        ],
        [
         "9",
         "BusinessOwner/CPA",
         "R",
         "70.0",
         "14.0",
         "2001-2002",
         "John",
         "Campbell",
         null
        ],
        [
         "10",
         "CountySupervisor",
         "D",
         "11.0",
         "41.0",
         "2001-2002",
         "Joe",
         "Canciamilla",
         null
        ],
        [
         "11",
         "Businessman/Engineer",
         "D",
         "39.0",
         "11.0",
         "2001-2002",
         "Tony",
         "Cardenas",
         null
        ],
        [
         "12",
         "Businessman",
         "D",
         "26.0",
         "4.0",
         "2001-2002",
         "Dennis",
         "Cardoza",
         null
        ],
        [
         "13",
         "FulltimeLegislator",
         "D",
         "46.0",
         "38.0",
         "2001-2002",
         "Gil",
         "Cedillo",
         null
        ],
        [
         "14",
         "MajorityLeader",
         "D",
         "16.0",
         "18.0",
         "2001-2002",
         "Wilma",
         "Chan",
         "MajorityLeader"
        ],
        [
         "15",
         "FulltimeLegislator",
         "D",
         "57.0",
         "68.0",
         "2001-2002",
         "Ed",
         "Chavez",
         null
        ],
        [
         "16",
         "CommunityCollegeProfessor",
         "D",
         "49.0",
         "34.0",
         "2001-2002",
         "Judy",
         "Chu",
         null
        ],
        [
         "17",
         "SmallBusinessOwner",
         "R",
         "25.0",
         "19.0",
         "2001-2002",
         "David",
         "Cogdill",
         null
        ],
        [
         "18",
         "ManagementConsultant",
         "D",
         "24.0",
         "58.0",
         "2001-2002",
         "Rebecca",
         "Cohn",
         null
        ],
        [
         "19",
         "FulltimeLegislator",
         "D",
         "18.0",
         "23.0",
         "2001-2002",
         "Ellen M",
         "Corbett",
         null
        ],
        [
         "20",
         "Legislator",
         "D",
         "69.0",
         "73.0",
         "2001-2002",
         "Lou",
         "Correa",
         null
        ],
        [
         "21",
         "MinorityFloorLeader",
         "R",
         "5.0",
         "6.0",
         "2001-2002",
         "Dave",
         "Cox",
         "MinorityFloorLeader"
        ],
        [
         "22",
         "Legislator",
         "R",
         "72.0",
         "63.0",
         "2001-2002",
         "Lynn",
         "Daucher",
         null
        ],
        [
         "23",
         "FulltimeLegislator",
         "D",
         "23.0",
         "67.0",
         "2001-2002",
         "Manny",
         "Diaz",
         null
        ],
        [
         "24",
         "Legislator",
         "R",
         "2.0",
         "54.0",
         "2001-2002",
         "Richard",
         "Dickerson",
         null
        ],
        [
         "25",
         "Businessman/Legislator",
         "D",
         "20.0",
         "21.0",
         "2001-2002",
         "John",
         "Dutra",
         null
        ],
        [
         "26",
         "MajorityFloorLeader",
         "D",
         "50.0",
         "7.0",
         "2001-2002",
         "Marco A",
         "Firebaugh",
         "MajorityFloorLeader"
        ],
        [
         "27",
         "Businessman",
         "D",
         "30.0",
         "79.0",
         "2001-2002",
         "Dean",
         "Florez",
         null
        ],
        [
         "28",
         "Legislator",
         "D",
         "43.0",
         "51.0",
         "2001-2002",
         "Dario",
         "Frommer",
         null
        ],
        [
         "29",
         "Teacher/Legislator",
         "D",
         "45.0",
         "71.0",
         "2001-2002",
         "Jackie",
         "Goldberg",
         null
        ],
        [
         "30",
         "Attorney",
         "R",
         "67.0",
         "69.0",
         "2001-2002",
         "Tom",
         "Harman",
         null
        ],
        [
         "31",
         "Legislator",
         "D",
         "56.0",
         "37.0",
         "2001-2002",
         "Sally",
         "Havice",
         null
        ],
        [
         "32",
         "Attorney",
         "D",
         "40.0",
         "45.0",
         "2001-2002",
         "Robert M",
         "Hertzberg",
         null
        ],
        [
         "33",
         "FarmersRepresentative/Businessman",
         "R",
         "66.0",
         "32.0",
         "2001-2002",
         "Dennis",
         "Hollingsworth",
         null
        ],
        [
         "34",
         "Accountant/BusinessTaxSpecialist",
         "D",
         "51.0",
         "80.0",
         "2001-2002",
         "Jerome E",
         "Horton",
         null
        ],
        [
         "35",
         "Attorney/Legislator",
         "D",
         "35.0",
         "75.0",
         "2001-2002",
         "Hannah Beth",
         "Jackson",
         null
        ],
        [
         "36",
         "SpeakerproTempore",
         "D",
         "27.0",
         "77.0",
         "2001-2002",
         "Fred",
         "Keeley",
         "SpeakerproTempore"
        ],
        [
         "37",
         "AssistantSpeakerproTempore",
         "D",
         "76.0",
         "33.0",
         "2001-2002",
         "Christine",
         "Kehoe",
         "AssistantSpeakerproTempore"
        ],
        [
         "38",
         "CitrusRancher",
         "R",
         "80.0",
         "27.0",
         "2001-2002",
         "Dave",
         "Kelley",
         null
        ],
        [
         "39",
         "Legislator",
         "D",
         "42.0",
         "74.0",
         "2001-2002",
         "Paul",
         "Koretz",
         null
        ],
        [
         "40",
         "Legislator",
         "R",
         "77.0",
         "59.0",
         "2001-2002",
         "Jay",
         "La Suer",
         null
        ],
        [
         "41",
         "SmallBusinessOwner",
         "R",
         "15.0",
         "35.0",
         "2001-2002",
         "Lynne C",
         "Leach",
         null
        ],
        [
         "42",
         "Legislator/Businessman",
         "R",
         "63.0",
         "20.0",
         "2001-2002",
         "Bill",
         "Leonard",
         null
        ],
        [
         "43",
         "Legislator",
         "R",
         "4.0",
         "47.0",
         "2001-2002",
         "Tim",
         "Leslie",
         null
        ],
        [
         "44",
         "Educator",
         "D",
         "44.0",
         "12.0",
         "2001-2002",
         "Carol",
         "Liu",
         null
        ],
        [
         "45",
         "FulltimeLegislator",
         "D",
         "62.0",
         "72.0",
         "2001-2002",
         "John",
         "Longville",
         null
        ],
        [
         "46",
         "Legislator",
         "D",
         "54.0",
         "62.0",
         "2001-2002",
         "Alan",
         "Lowenthal",
         null
        ],
        [
         "47",
         "PeaceOfficer/Legislator",
         "R",
         "68.0",
         "2.0",
         "2001-2002",
         "Ken",
         "Maddox",
         null
        ],
        [
         "48",
         "Legislator",
         "R",
         "33.0",
         "28.0",
         "2001-2002",
         "Abel",
         "Maldonado",
         null
        ],
        [
         "49",
         "Legislator",
         "D",
         "17.0",
         "3.0",
         "2001-2002",
         "Barbara",
         "Matthews",
         null
        ]
       ],
       "shape": {
        "columns": 8,
        "rows": 1045
       }
      },
      "text/html": [
       "<div>\n",
       "<style scoped>\n",
       "    .dataframe tbody tr th:only-of-type {\n",
       "        vertical-align: middle;\n",
       "    }\n",
       "\n",
       "    .dataframe tbody tr th {\n",
       "        vertical-align: top;\n",
       "    }\n",
       "\n",
       "    .dataframe thead th {\n",
       "        text-align: right;\n",
       "    }\n",
       "</style>\n",
       "<table border=\"1\" class=\"dataframe\">\n",
       "  <thead>\n",
       "    <tr style=\"text-align: right;\">\n",
       "      <th></th>\n",
       "      <th>Occupation</th>\n",
       "      <th>Party</th>\n",
       "      <th>District No.</th>\n",
       "      <th>Seat No.</th>\n",
       "      <th>Term</th>\n",
       "      <th>First</th>\n",
       "      <th>Last</th>\n",
       "      <th>Position</th>\n",
       "    </tr>\n",
       "  </thead>\n",
       "  <tbody>\n",
       "    <tr>\n",
       "      <th>0</th>\n",
       "      <td>OralSurgeon</td>\n",
       "      <td>R</td>\n",
       "      <td>3.0</td>\n",
       "      <td>60.0</td>\n",
       "      <td>2001-2002</td>\n",
       "      <td>Sam</td>\n",
       "      <td>Aanestad</td>\n",
       "      <td>NaN</td>\n",
       "    </tr>\n",
       "    <tr>\n",
       "      <th>1</th>\n",
       "      <td>Businesswoman/Educator</td>\n",
       "      <td>D</td>\n",
       "      <td>22.0</td>\n",
       "      <td>15.0</td>\n",
       "      <td>2001-2002</td>\n",
       "      <td>Elaine</td>\n",
       "      <td>Alquist</td>\n",
       "      <td>NaN</td>\n",
       "    </tr>\n",
       "    <tr>\n",
       "      <th>2</th>\n",
       "      <td>StateSocialServicesSpecialist</td>\n",
       "      <td>D</td>\n",
       "      <td>14.0</td>\n",
       "      <td>8.0</td>\n",
       "      <td>2001-2002</td>\n",
       "      <td>Dion</td>\n",
       "      <td>Aroner</td>\n",
       "      <td>NaN</td>\n",
       "    </tr>\n",
       "    <tr>\n",
       "      <th>3</th>\n",
       "      <td>Legislator</td>\n",
       "      <td>R</td>\n",
       "      <td>32.0</td>\n",
       "      <td>65.0</td>\n",
       "      <td>2001-2002</td>\n",
       "      <td>Roy</td>\n",
       "      <td>Ashburn</td>\n",
       "      <td>NaN</td>\n",
       "    </tr>\n",
       "    <tr>\n",
       "      <th>4</th>\n",
       "      <td>Legislator</td>\n",
       "      <td>R</td>\n",
       "      <td>73.0</td>\n",
       "      <td>64.0</td>\n",
       "      <td>2001-2002</td>\n",
       "      <td>Patricia</td>\n",
       "      <td>Bates</td>\n",
       "      <td>NaN</td>\n",
       "    </tr>\n",
       "    <tr>\n",
       "      <th>...</th>\n",
       "      <td>...</td>\n",
       "      <td>...</td>\n",
       "      <td>...</td>\n",
       "      <td>...</td>\n",
       "      <td>...</td>\n",
       "      <td>...</td>\n",
       "      <td>...</td>\n",
       "      <td>...</td>\n",
       "    </tr>\n",
       "    <tr>\n",
       "      <th>1040</th>\n",
       "      <td>FulltimeLegislator</td>\n",
       "      <td>D</td>\n",
       "      <td>78.0</td>\n",
       "      <td>37.0</td>\n",
       "      <td>2025-2026</td>\n",
       "      <td>Christopher M</td>\n",
       "      <td>Ward</td>\n",
       "      <td>NaN</td>\n",
       "    </tr>\n",
       "    <tr>\n",
       "      <th>1041</th>\n",
       "      <td>FulltimeLegislator</td>\n",
       "      <td>D</td>\n",
       "      <td>14.0</td>\n",
       "      <td>76.0</td>\n",
       "      <td>2025-2026</td>\n",
       "      <td>Buffy</td>\n",
       "      <td>Wicks</td>\n",
       "      <td>NaN</td>\n",
       "    </tr>\n",
       "    <tr>\n",
       "      <th>1042</th>\n",
       "      <td>Pastor/FullTimeLegislator</td>\n",
       "      <td>D</td>\n",
       "      <td>11.0</td>\n",
       "      <td>29.0</td>\n",
       "      <td>2025-2026</td>\n",
       "      <td>Lori D</td>\n",
       "      <td>Wilson</td>\n",
       "      <td>NaN</td>\n",
       "    </tr>\n",
       "    <tr>\n",
       "      <th>1043</th>\n",
       "      <td>CivilRightsAttorney</td>\n",
       "      <td>D</td>\n",
       "      <td>51.0</td>\n",
       "      <td>45.0</td>\n",
       "      <td>2025-2026</td>\n",
       "      <td>Rick Chavez</td>\n",
       "      <td>Zbur</td>\n",
       "      <td>NaN</td>\n",
       "    </tr>\n",
       "    <tr>\n",
       "      <th>1044</th>\n",
       "      <td>NaN</td>\n",
       "      <td>NaN</td>\n",
       "      <td>32.0</td>\n",
       "      <td>NaN</td>\n",
       "      <td>2025-2026</td>\n",
       "      <td>Vacancy</td>\n",
       "      <td>Vacancy</td>\n",
       "      <td>NaN</td>\n",
       "    </tr>\n",
       "  </tbody>\n",
       "</table>\n",
       "<p>1045 rows × 8 columns</p>\n",
       "</div>"
      ],
      "text/plain": [
       "                         Occupation Party  District No.  Seat No.       Term  \\\n",
       "0                       OralSurgeon     R           3.0      60.0  2001-2002   \n",
       "1            Businesswoman/Educator     D          22.0      15.0  2001-2002   \n",
       "2     StateSocialServicesSpecialist     D          14.0       8.0  2001-2002   \n",
       "3                        Legislator     R          32.0      65.0  2001-2002   \n",
       "4                        Legislator     R          73.0      64.0  2001-2002   \n",
       "...                             ...   ...           ...       ...        ...   \n",
       "1040             FulltimeLegislator     D          78.0      37.0  2025-2026   \n",
       "1041             FulltimeLegislator     D          14.0      76.0  2025-2026   \n",
       "1042      Pastor/FullTimeLegislator     D          11.0      29.0  2025-2026   \n",
       "1043            CivilRightsAttorney     D          51.0      45.0  2025-2026   \n",
       "1044                            NaN   NaN          32.0       NaN  2025-2026   \n",
       "\n",
       "              First      Last Position  \n",
       "0               Sam  Aanestad      NaN  \n",
       "1            Elaine   Alquist      NaN  \n",
       "2              Dion    Aroner      NaN  \n",
       "3               Roy   Ashburn      NaN  \n",
       "4          Patricia     Bates      NaN  \n",
       "...             ...       ...      ...  \n",
       "1040  Christopher M      Ward      NaN  \n",
       "1041          Buffy     Wicks      NaN  \n",
       "1042         Lori D    Wilson      NaN  \n",
       "1043    Rick Chavez      Zbur      NaN  \n",
       "1044        Vacancy   Vacancy      NaN  \n",
       "\n",
       "[1045 rows x 8 columns]"
      ]
     },
     "execution_count": 20,
     "metadata": {},
     "output_type": "execute_result"
    }
   ],
   "source": [
    "assembly_roster"
   ]
  },
  {
   "cell_type": "code",
   "execution_count": null,
   "metadata": {},
   "outputs": [],
   "source": []
  }
 ],
 "metadata": {
  "kernelspec": {
   "display_name": "ca_leg_etl",
   "language": "python",
   "name": "python3"
  },
  "language_info": {
   "codemirror_mode": {
    "name": "ipython",
    "version": 3
   },
   "file_extension": ".py",
   "mimetype": "text/x-python",
   "name": "python",
   "nbconvert_exporter": "python",
   "pygments_lexer": "ipython3",
   "version": "3.11.6"
  }
 },
 "nbformat": 4,
 "nbformat_minor": 2
}
