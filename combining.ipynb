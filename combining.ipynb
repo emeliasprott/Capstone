{
 "cells": [
  {
   "cell_type": "markdown",
   "metadata": {},
   "source": [
    "# Matching Up the Data\n",
    "In this notebook, we will identify the relationships between all of the data. Many of the relationships depend on string matches, but the text data is inconsistent and has many typos. For example, *'Assemblymember'* could be written as *'Assemblyman'*, *'Assemblywoman'*, *'A semblmember'*, and more. At the same time, with so many repeated words and phrases, many strings appear to match when they should not. A simple string-distance algorithm might find 'Assemblymember David Chiu' to match with 'Assemblymember Dave Chu', which is not correct. Therefore I use an approach that combines fuzzy string matching and regex  with spacy token similarity and entity linking to match the data."
   ]
  },
  {
   "cell_type": "code",
   "execution_count": 126,
   "metadata": {},
   "outputs": [],
   "source": [
    "import pandas as pd\n",
    "import json\n",
    "import re\n",
    "import numpy as np\n",
    "import warnings\n",
    "from tqdm import tqdm\n",
    "warnings.filterwarnings('ignore', category=pd.errors.SettingWithCopyWarning)"
   ]
  },
  {
   "cell_type": "code",
   "execution_count": 3,
   "metadata": {},
   "outputs": [],
   "source": [
    "bills = pd.read_csv('ca_leg/legislation_data/bill_tbl.csv')"
   ]
  },
  {
   "cell_type": "code",
   "execution_count": 4,
   "metadata": {},
   "outputs": [],
   "source": [
    "bill_history = pd.read_csv('ca_leg/legislation_data/bill_history_tbl.csv', dtype={'action_status': str, 'primary_location': str, 'secondary_location': str, 'end_status': str})"
   ]
  },
  {
   "cell_type": "code",
   "execution_count": 5,
   "metadata": {},
   "outputs": [],
   "source": [
    "bill_versions = pd.read_csv('ca_leg/legislation_data/bill_version_tbl.csv')"
   ]
  },
  {
   "cell_type": "code",
   "execution_count": 6,
   "metadata": {},
   "outputs": [],
   "source": [
    "with open(\"ca_leg/legislation_data/bill_version_text.json\", \"r\") as f:\n",
    "    bill_text = json.load(f)\n",
    "    authors_data = {bill_id: bill_info['Authors']\n",
    "                   for bill_id, bill_info in bill_text.items()\n",
    "                   if 'Authors' in bill_info}\n"
   ]
  },
  {
   "cell_type": "code",
   "execution_count": 7,
   "metadata": {},
   "outputs": [
    {
     "data": {
      "text/plain": [
       "['COAUTHOR', 'LEAD_AUTHOR', 'null', 'PRINCIPAL_COAUTHOR']"
      ]
     },
     "execution_count": 7,
     "metadata": {},
     "output_type": "execute_result"
    }
   ],
   "source": [
    "list(set([a for b in [v.keys() for v in authors_data.values()] for a in b]))"
   ]
  },
  {
   "cell_type": "code",
   "execution_count": 8,
   "metadata": {},
   "outputs": [],
   "source": [
    "records = []\n",
    "for bill_id, authors in authors_data.items():\n",
    "    for author_type, house in authors.items():\n",
    "        for house_name, author_name in house.items():\n",
    "            records.append([bill_id, author_type, \"COMMITTEE\" if house_name == 'UNKNOWN' else house_name, author_name])\n",
    "\n",
    "df = pd.DataFrame(records, columns=['bill_id', 'author_type', 'house', 'author_name'])\n",
    "df['bill_id'] = df['bill_id'].apply(lambda x: re.sub(r'__', '', x))\n",
    "combined = df.merge(bill_versions, left_on='bill_id', right_on='bill_version_id', how='left')"
   ]
  },
  {
   "cell_type": "code",
   "execution_count": 9,
   "metadata": {},
   "outputs": [],
   "source": [
    "full = combined.loc[combined['bill_version_action'].notna()].merge(bills, left_on='bill_id_y', right_on='bill_id', how='left')"
   ]
  },
  {
   "cell_type": "code",
   "execution_count": 9,
   "metadata": {},
   "outputs": [],
   "source": [
    "full.to_csv('ca_leg/legislation_data/combined_table.csv', index=False)"
   ]
  },
  {
   "cell_type": "code",
   "execution_count": 10,
   "metadata": {},
   "outputs": [],
   "source": [
    "disclosure = pd.read_csv('calaccess/CVR_LOBBY_DISCLOSURE_CD.csv', dtype=str)"
   ]
  },
  {
   "cell_type": "code",
   "execution_count": 11,
   "metadata": {},
   "outputs": [],
   "source": [
    "expenditure = pd.read_csv('calaccess/LEXP_CD.csv', dtype=str)"
   ]
  },
  {
   "cell_type": "code",
   "execution_count": null,
   "metadata": {},
   "outputs": [
    {
     "data": {
      "text/plain": [
       "0                            NaN\n",
       "1          1/12/2000 12:00:00 AM\n",
       "2                            NaN\n",
       "3                            NaN\n",
       "4                            NaN\n",
       "                   ...          \n",
       "490919    11/13/2024 12:00:00 AM\n",
       "490920    11/13/0202 12:00:00 AM\n",
       "490921    11/13/2024 12:00:00 AM\n",
       "490922    11/13/2024 12:00:00 AM\n",
       "490923     10/2/2024 12:00:00 AM\n",
       "Name: EXPN_DATE, Length: 490924, dtype: object"
      ]
     },
     "execution_count": 143,
     "metadata": {},
     "output_type": "execute_result"
    }
   ],
   "source": [
    "lobbying = disclosure[['FILING_ID', 'FIRM_NAME']].merge(expenditure, on='FILING_ID', how='inner')"
   ]
  },
  {
   "cell_type": "code",
   "execution_count": 147,
   "metadata": {},
   "outputs": [],
   "source": [
    "lobbying['EXPN_DATE'] = pd.to_datetime(lobbying['EXPN_DATE'], format='%m/%d/%Y %H:%M:%S %p', errors='coerce')"
   ]
  },
  {
   "cell_type": "code",
   "execution_count": 162,
   "metadata": {},
   "outputs": [],
   "source": [
    "lb = lobbying.loc[(lobbying['EXPN_DATE'].notna()) & (lobbying['EXPN_DATE'] > pd.to_datetime('2001-01-01', format='%Y-%m-%d')) & ((lobbying['BENE_NAME'].notna()) | (lobbying['BENE_POSIT'].notna()))]\n",
    "lb.to_csv('calaccess/lobbying_clean.csv', index=False)"
   ]
  },
  {
   "cell_type": "code",
   "execution_count": 13,
   "metadata": {},
   "outputs": [],
   "source": [
    "assembly_committees = pd.read_csv('pdf_parsing/assembly_committees_clean.csv')"
   ]
  },
  {
   "cell_type": "code",
   "execution_count": 14,
   "metadata": {},
   "outputs": [],
   "source": [
    "doubles = assembly_committees.loc[assembly_committees['politician'].str.contains(',')]\n",
    "hyphens = assembly_committees.loc[assembly_committees['politician'].str.contains('-')]\n",
    "neither = assembly_committees.loc[(~assembly_committees['politician'].str.contains(',')) & (~assembly_committees['politician'].str.contains('-'))]"
   ]
  },
  {
   "cell_type": "code",
   "execution_count": 15,
   "metadata": {},
   "outputs": [],
   "source": [
    "assembly_roster = pd.read_csv('pdf_parsing/assembly_roster.csv')"
   ]
  },
  {
   "cell_type": "code",
   "execution_count": 16,
   "metadata": {},
   "outputs": [],
   "source": [
    "doubles[['Last', 'First']] = doubles['politician'].str.split(',', expand=True)\n",
    "doubles['Last'] = doubles['Last'].str.strip()\n",
    "doubles['First'] = doubles['First'].str.strip()\n",
    "doubles.rename(columns={'term': 'Term'}, inplace=True)\n",
    "dbs = doubles.merge(assembly_roster, on=['Last', 'First', 'Term'], how='left')"
   ]
  },
  {
   "cell_type": "code",
   "execution_count": 17,
   "metadata": {},
   "outputs": [],
   "source": [
    "hyphens['Last'] = hyphens['politician'].apply(lambda x: re.sub(r'-', ' ', x))\n",
    "hyp = hyphens.merge(assembly_roster, left_on=['Last', 'term'], right_on=['Last', 'Term'], how='inner')"
   ]
  },
  {
   "cell_type": "code",
   "execution_count": 18,
   "metadata": {},
   "outputs": [],
   "source": [
    "politicians = pd.concat([neither.merge(assembly_roster, left_on=['politician', 'term'], right_on=['Last', 'Term'], how='inner'), hyp, dbs])"
   ]
  },
  {
   "cell_type": "code",
   "execution_count": 109,
   "metadata": {},
   "outputs": [],
   "source": [
    "import spacy\n",
    "from rapidfuzz import fuzz, process\n",
    "from unidecode import unidecode"
   ]
  },
  {
   "cell_type": "code",
   "execution_count": 170,
   "metadata": {},
   "outputs": [],
   "source": [
    "def clean_text(text):\n",
    "    text = unidecode(text.lower().strip())\n",
    "    return re.sub(r'[^\\w\\s]', '', text)\n",
    "\n",
    "df_lob = lb.copy()[['BENE_NAME', 'BENE_POSIT']].drop_duplicates()\n",
    "df_legislators = politicians[['First', 'Last']].drop_duplicates().apply(lambda x: ' '.join(x), axis=1)\n",
    "df_legislators = df_legislators.apply(clean_text).drop_duplicates().tolist()\n",
    "df_committees = politicians['committee_clean'].drop_duplicates().apply(clean_text).tolist()"
   ]
  },
  {
   "cell_type": "code",
   "execution_count": 171,
   "metadata": {},
   "outputs": [],
   "source": [
    "entity_ids = {name: f\"LEG_{i}\" for i, name in enumerate(df_legislators)}\n",
    "entity_ids.update({name: f\"COM_{i}\" for i, name in enumerate(df_committees)})"
   ]
  },
  {
   "cell_type": "code",
   "execution_count": 172,
   "metadata": {},
   "outputs": [],
   "source": [
    "nlp = spacy.load(\"en_core_web_md\")"
   ]
  },
  {
   "cell_type": "code",
   "execution_count": 173,
   "metadata": {},
   "outputs": [],
   "source": [
    "def clean_text(text):\n",
    "    if not isinstance(text, str):\n",
    "        return \"\"\n",
    "    text = unidecode(text).upper()\n",
    "    text = re.sub(r'[^\\w\\s]', ' ', text)\n",
    "    text = re.sub(r'\\s+', ' ', text).strip()\n",
    "    prefixes = r'^(HON|HONORABLE|REP|REPRESENTATIVE|SEN|SENATOR|ASSEMBLY|ASSEMBLYMAN|ASSEMBLYMEMBER|COMMITTEE\\s+ON|THE|STAFF\\s+OF|OFFICE\\s+OF)\\s+'\n",
    "    text = re.sub(prefixes, '', text, flags=re.IGNORECASE)\n",
    "    suffixes = r'(\\s+JR|\\s+SR|\\s+III|\\s+II|\\s+IV|\\s+MD|\\s+PHD|\\s+ESQ)$'\n",
    "    text = re.sub(suffixes, '', text, flags=re.IGNORECASE)\n",
    "    return text\n",
    "\n",
    "def preprocess_entity_ids(entity_ids):\n",
    "    name_mapping = {}\n",
    "    processed_entities = {}\n",
    "    ngram_index = {}\n",
    "\n",
    "    for original_name, entity_id in entity_ids.items():\n",
    "        clean_name = clean_text(original_name)\n",
    "        entity_type = 'legislator' if entity_id.startswith(\"LEG_\") else 'committee'\n",
    "\n",
    "        name_mapping[clean_name] = {\n",
    "            'original': original_name,\n",
    "            'id': entity_id,\n",
    "            'type': entity_type\n",
    "        }\n",
    "\n",
    "        processed_entities[original_name] = {\n",
    "            'clean_name': clean_name,\n",
    "            'tokens': set(clean_name.split()),\n",
    "            'entity_type': entity_type,\n",
    "            'id': entity_id\n",
    "        }\n",
    "        tokens = clean_name.split()\n",
    "        for token in tokens:\n",
    "            if len(token) >= 3:\n",
    "                if token not in ngram_index:\n",
    "                    ngram_index[token] = []\n",
    "                ngram_index[token].append(original_name)\n",
    "        if len(tokens) >= 2:\n",
    "            for i in range(len(tokens) - 1):\n",
    "                bigram = f\"{tokens[i]} {tokens[i+1]}\"\n",
    "                if bigram not in ngram_index:\n",
    "                    ngram_index[bigram] = []\n",
    "                ngram_index[bigram].append(original_name)\n",
    "\n",
    "    return {\n",
    "        'name_mapping': name_mapping,\n",
    "        'processed_entities': processed_entities,\n",
    "        'ngram_index': ngram_index,\n",
    "        'legislator_names': [name for name, eid in entity_ids.items() if eid.startswith(\"LEG_\")],\n",
    "        'committee_names': [name for name, eid in entity_ids.items() if eid.startswith(\"COM_\")]\n",
    "    }\n",
    "\n",
    "def get_candidates_by_ngrams(text, ngram_index):\n",
    "    cleaned = clean_text(text)\n",
    "    tokens = cleaned.split()\n",
    "\n",
    "    candidates = {}\n",
    "\n",
    "    for token in tokens:\n",
    "        if len(token) >= 3 and token in ngram_index:\n",
    "            for candidate in ngram_index[token]:\n",
    "                candidates[candidate] = candidates.get(candidate, 0) + 1\n",
    "\n",
    "    if len(tokens) >= 2:\n",
    "        for i in range(len(tokens) - 1):\n",
    "            bigram = f\"{tokens[i]} {tokens[i+1]}\"\n",
    "            if bigram in ngram_index:\n",
    "                for candidate in ngram_index[bigram]:\n",
    "                    candidates[candidate] = candidates.get(candidate, 0) + 3\n",
    "\n",
    "    return sorted(candidates.items(), key=lambda x: x[1], reverse=True)"
   ]
  },
  {
   "cell_type": "code",
   "execution_count": 177,
   "metadata": {},
   "outputs": [],
   "source": [
    "def calculate_similarity_score(text1, text2):\n",
    "    clean1 = clean_text(text1)\n",
    "    clean2 = clean_text(text2)\n",
    "\n",
    "    if not clean1 or not clean2:\n",
    "        return 0\n",
    "\n",
    "    if clean1 == clean2:\n",
    "        return 100\n",
    "\n",
    "    tokens1 = set(clean1.split())\n",
    "    tokens2 = set(clean2.split())\n",
    "\n",
    "    intersection = tokens1.intersection(tokens2)\n",
    "    jaccard = len(intersection) / (len(tokens1) + len(tokens2) - len(intersection)) if (len(tokens1) + len(tokens2) - len(intersection)) > 0 else 0\n",
    "    subsequence_score = 0\n",
    "    if clean1 in clean2 or clean2 in clean1:\n",
    "        subsequence_score = 30\n",
    "\n",
    "    fuzzy_score = fuzz.token_set_ratio(clean1, clean2) * 0.7  # FUZZY SCORE\n",
    "\n",
    "    final_score = (jaccard * 25) + subsequence_score + fuzzy_score # final score\n",
    "\n",
    "    return min(final_score, 100)\n",
    "\n",
    "def extract_referenced_names(position_text):\n",
    "    if not position_text or not isinstance(position_text, str):\n",
    "        return []\n",
    "    referenced_names = []\n",
    "    position_lower = position_text.lower()\n",
    "    # bulk regex search\n",
    "    patterns = [\n",
    "        r'(?:staff|aide|assist\\w*|chief|counsel|direct\\w*)(?:\\s+\\w+)?\\s+(?:to|for|of|with)\\s+(?:sen\\w*|rep\\w*|assembl\\w*|congress\\w*)?\\s+([A-Za-z\\s\\.\\-]+?)(?:$|,|\\s+\\(|\\s+[A-Z]{2})',\n",
    "        r'(?:sen\\w*|rep\\w*|assembl\\w*|congress\\w*)\\s+([A-Za-z\\s\\.\\-]+?)(?:\\'s?)?\\s+(?:staff|office|aide|assist\\w*|chief)',\n",
    "        r'(?:office|staff)\\s+(?:of|for)\\s+(?:sen\\w*|rep\\w*|assembl\\w*|congress\\w*)?\\s+([A-Za-z\\s\\.\\-]+?)(?:$|,|\\s+\\(|\\s+[A-Z]{2})',\n",
    "        r'(?:sen\\w*|rep\\w*|assembl\\w*|congress\\w*)\\s+([A-Za-z\\s\\.\\-]{2,30})(?:$|,|\\s+\\(|\\s+[A-Z]{2})',\n",
    "        r'\\b([A-Za-z\\s\\.\\-]{2,30})\\s+\\([A-Z]{2}\\)',\n",
    "        r'\\b(?:senator|representative|congressman|chairperson|chairman|assembl\\w*)\\s+([A-Za-z\\s\\.\\-]{2,30})\\b'\n",
    "    ]\n",
    "    for pattern in patterns:\n",
    "        matches = re.finditer(pattern, position_lower, re.IGNORECASE)\n",
    "        for match in matches:\n",
    "            name = match.group(1).strip()\n",
    "            if name and len(name) > 2:\n",
    "                if any(term not in name.lower() for term in ['staff', 'office', 'committee']):\n",
    "                    start, end = match.span(1)\n",
    "                    original_case = position_text[start:end].strip()\n",
    "                    if original_case and len(original_case) > 2 and original_case not in referenced_names:\n",
    "                        referenced_names.append(original_case)\n",
    "\n",
    "    if not referenced_names: # NER if no matches found\n",
    "        try:\n",
    "            doc = nlp(position_text)\n",
    "            for ent in doc.ents:\n",
    "                if ent.label_ == \"PERSON\" and len(ent.text) > 2:\n",
    "                    if ent.text not in referenced_names:\n",
    "                        referenced_names.append(ent.text)\n",
    "        except Exception:\n",
    "            pass\n",
    "    return referenced_names"
   ]
  },
  {
   "cell_type": "code",
   "execution_count": null,
   "metadata": {},
   "outputs": [
    {
     "name": "stderr",
     "output_type": "stream",
     "text": [
      " 40%|███▉      | 18338/46309 [01:54<03:14, 143.66it/s]"
     ]
    }
   ],
   "source": [
    "result_df = df_lob.copy()\n",
    "entity_data = preprocess_entity_ids(entity_ids)\n",
    "name_mapping = entity_data['name_mapping']\n",
    "ngram_index = entity_data['ngram_index']\n",
    "legislator_names = entity_data['legislator_names']\n",
    "committee_names = entity_data['committee_names']\n",
    "\n",
    "GENERIC_LEGISLATOR_TITLES = ['assemblymember', 'senator', 'assemblyman', 'assemblywoman']\n",
    "result_df['MATCHED_NAME'] = None\n",
    "result_df['ENTITY_ID'] = None\n",
    "result_df['ENTITY_TYPE'] = None\n",
    "result_df['MATCH_METHOD'] = None\n",
    "result_df['CONFIDENCE'] = None\n",
    "\n",
    "for idx, row in tqdm(result_df.iterrows(), total=len(result_df)):\n",
    "    bene_name = str(row['BENE_NAME']) if pd.notna(row['BENE_NAME']) else \"\"\n",
    "    bene_position = str(row['BENE_POSIT']) if pd.notna(row['BENE_POSIT']) else \"\"\n",
    "    if not bene_name.strip() and not bene_position.strip():\n",
    "        continue\n",
    "\n",
    "    position_is_generic = bene_position.strip().lower() in GENERIC_LEGISLATOR_TITLES\n",
    "    for field_name, field_value in [('BENE_NAME', bene_name),\n",
    "                                   ('BENE_POSIT', bene_position if not position_is_generic else \"\")]:\n",
    "        if not field_value.strip():\n",
    "            continue\n",
    "\n",
    "        clean_value = clean_text(field_value)\n",
    "        if clean_value in name_mapping:\n",
    "            entity_info = name_mapping[clean_value]\n",
    "            result_df.at[idx, 'MATCHED_NAME'] = entity_info['original']\n",
    "            result_df.at[idx, 'ENTITY_ID'] = entity_info['id']\n",
    "            result_df.at[idx, 'ENTITY_TYPE'] = entity_info['type']\n",
    "            result_df.at[idx, 'MATCH_METHOD'] = f'exact_{field_name.lower()}'\n",
    "            result_df.at[idx, 'CONFIDENCE'] = 'high'\n",
    "            break\n",
    "    if pd.notna(result_df.at[idx, 'MATCHED_NAME']):\n",
    "        continue\n",
    "    all_referenced_names = []\n",
    "    if not position_is_generic:\n",
    "        all_referenced_names.extend(extract_referenced_names(bene_position))\n",
    "    all_referenced_names.extend(extract_referenced_names(bene_name))\n",
    "\n",
    "    for ref_name in all_referenced_names:\n",
    "        clean_ref = clean_text(ref_name)\n",
    "        if clean_ref in name_mapping:\n",
    "            entity_info = name_mapping[clean_ref]\n",
    "            result_df.at[idx, 'MATCHED_NAME'] = entity_info['original']\n",
    "            result_df.at[idx, 'ENTITY_ID'] = entity_info['id']\n",
    "            result_df.at[idx, 'ENTITY_TYPE'] = entity_info['type']\n",
    "            result_df.at[idx, 'MATCH_METHOD'] = 'reference_exact'\n",
    "            result_df.at[idx, 'CONFIDENCE'] = 'high'\n",
    "            break\n",
    "\n",
    "    if pd.notna(result_df.at[idx, 'MATCHED_NAME']):\n",
    "        continue\n",
    "\n",
    "    combined_text = f\"{bene_name} {bene_position}\".lower()\n",
    "    position_has_legislator = any(term in combined_text for term in ['senator', 'representative', 'rep ', 'sen ', 'assemblymember', 'assemblyman', 'assemblywoman'])\n",
    "    position_has_committee = any(term in combined_text for term in ['committee', 'commission', 'board', 'task force', 'caucus'])\n",
    "    search_pool = None\n",
    "\n",
    "    if position_has_legislator:\n",
    "        search_pool = legislator_names\n",
    "    elif position_has_committee:\n",
    "        search_pool = committee_names\n",
    "\n",
    "    candidates = []\n",
    "    if bene_name.strip():\n",
    "        candidates.extend(get_candidates_by_ngrams(bene_name, ngram_index))\n",
    "\n",
    "    if bene_position.strip() and not position_is_generic:\n",
    "        candidates.extend(get_candidates_by_ngrams(bene_position, ngram_index))\n",
    "\n",
    "    seen = set()\n",
    "    unique_candidates = [(name, score) for name, score in candidates\n",
    "                         if not (name in seen or seen.add(name))]\n",
    "\n",
    "    if search_pool:\n",
    "        unique_candidates = [(name, score) for name, score in unique_candidates if name in search_pool]\n",
    "\n",
    "    top_candidates = unique_candidates[:10] if unique_candidates else []\n",
    "\n",
    "    if top_candidates:\n",
    "        best_match = None\n",
    "        best_score = 0\n",
    "        best_method = None\n",
    "\n",
    "        for candidate_name, _ in top_candidates:\n",
    "            if bene_name.strip():\n",
    "                name_score = calculate_similarity_score(bene_name, candidate_name)\n",
    "\n",
    "                if name_score > best_score and name_score >= 75:\n",
    "                    best_score = name_score\n",
    "                    best_match = candidate_name\n",
    "                    best_method = \"fuzzy_name\"\n",
    "            if bene_position.strip() and not position_is_generic:\n",
    "                position_score = calculate_similarity_score(bene_position, candidate_name)\n",
    "                if position_score > best_score and position_score >= 80:\n",
    "                    best_score = position_score\n",
    "                    best_match = candidate_name\n",
    "                    best_method = \"fuzzy_position\"\n",
    "            if bene_name.strip() and bene_position.strip():\n",
    "                combined_text = f\"{bene_name} {bene_position}\"\n",
    "                combined_score = calculate_similarity_score(combined_text, candidate_name)\n",
    "\n",
    "                if combined_score > best_score and combined_score >= 70:\n",
    "                    best_score = combined_score\n",
    "                    best_match = candidate_name\n",
    "                    best_method = \"fuzzy_combined\"\n",
    "\n",
    "        if best_match:\n",
    "            confidence = \"high\" if best_score >= 90 else \"medium\" if best_score >= 75 else \"low\"\n",
    "\n",
    "            result_df.at[idx, 'MATCHED_NAME'] = best_match\n",
    "            result_df.at[idx, 'ENTITY_ID'] = entity_ids[best_match]\n",
    "            result_df.at[idx, 'ENTITY_TYPE'] = 'legislator' if entity_ids[best_match].startswith('LEG_') else 'committee'\n",
    "            result_df.at[idx, 'MATCH_METHOD'] = best_method\n",
    "            result_df.at[idx, 'CONFIDENCE'] = confidence\n",
    "            continue\n",
    "\n",
    "    for field_name, field_value in [('BENE_NAME', bene_name),\n",
    "                                   ('BENE_POSIT', bene_position if not position_is_generic else \"\")]:\n",
    "        if not field_value.strip():\n",
    "            continue\n",
    "\n",
    "        clean_value = clean_text(field_value)\n",
    "        search_list = search_pool if search_pool else list(entity_ids.keys())\n",
    "\n",
    "        name_match = process.extractOne(\n",
    "            clean_value,\n",
    "            search_list,\n",
    "            scorer=fuzz.token_sort_ratio,\n",
    "            score_cutoff=85\n",
    "        )\n",
    "\n",
    "        if name_match:\n",
    "            match, score = name_match\n",
    "            result_df.at[idx, 'MATCHED_NAME'] = match\n",
    "            result_df.at[idx, 'ENTITY_ID'] = entity_ids[match]\n",
    "            result_df.at[idx, 'ENTITY_TYPE'] = 'legislator' if entity_ids[match].startswith('LEG_') else 'committee'\n",
    "            result_df.at[idx, 'MATCH_METHOD'] = f'direct_fuzzy_{field_name.lower()}'\n",
    "            result_df.at[idx, 'CONFIDENCE'] = 'high' if score > 90 else 'medium'\n",
    "            break"
   ]
  },
  {
   "cell_type": "code",
   "execution_count": 176,
   "metadata": {},
   "outputs": [
    {
     "data": {
      "application/vnd.microsoft.datawrangler.viewer.v0+json": {
       "columns": [
        {
         "name": "index",
         "rawType": "int64",
         "type": "integer"
        },
        {
         "name": "BENE_NAME",
         "rawType": "object",
         "type": "unknown"
        },
        {
         "name": "BENE_POSIT",
         "rawType": "object",
         "type": "unknown"
        },
        {
         "name": "MATCHED_NAME",
         "rawType": "object",
         "type": "unknown"
        },
        {
         "name": "ENTITY_ID",
         "rawType": "object",
         "type": "unknown"
        },
        {
         "name": "ENTITY_TYPE",
         "rawType": "object",
         "type": "unknown"
        },
        {
         "name": "MATCH_METHOD",
         "rawType": "object",
         "type": "unknown"
        },
        {
         "name": "CONFIDENCE",
         "rawType": "object",
         "type": "unknown"
        }
       ],
       "conversionMethod": "pd.DataFrame",
       "ref": "ea656436-5a17-42fe-bfb5-2a8daa198322",
       "rows": [
        [
         "4759",
         "SEE ATTACHMENT B",
         null,
         null,
         null,
         null,
         null,
         null
        ],
        [
         "5315",
         "Gabriela Sanchez",
         "Legislative Staff for Assemblyman Lou Correa",
         "lou correa",
         "LEG_17",
         "legislator",
         "position_exact",
         "high"
        ],
        [
         "5346",
         "GIL CEDILLO",
         "ASSEMBLYMEMBER",
         "gil cedillo",
         "LEG_10",
         "legislator",
         "exact_name",
         "high"
        ],
        [
         "5347",
         "MARCO ANTONIO FIREBAUGH",
         "ASSEMBLYMEMBER",
         "marco a firebaugh",
         "LEG_23",
         "legislator",
         "fuzzy_name",
         "medium"
        ],
        [
         "5348",
         "TONY RICASA",
         "PRINICIPAL ASSISTANT, ASSEMBLYMEMBER CEDILLO",
         null,
         null,
         null,
         null,
         null
        ],
        [
         "5844",
         "Liz Figueroa",
         "Senator",
         null,
         null,
         null,
         null,
         null
        ],
        [
         "5930",
         "Dick Ackerman",
         "Senator",
         null,
         null,
         null,
         null,
         null
        ],
        [
         "6017",
         "VANESSA ARELLANO",
         "DEPT. SECRETARY CA DEPT. OF FOOD & AGRICULTURE",
         null,
         null,
         null,
         null,
         null
        ],
        [
         "6018",
         "Matt Reilly",
         "Chief of Staff Assembly Member Wiggins",
         null,
         null,
         null,
         null,
         null
        ],
        [
         "6019",
         "Craig Reynolds",
         "Chief of Staff Assembly Member Thomson",
         null,
         null,
         null,
         null,
         null
        ],
        [
         "6064",
         "Jim Houston",
         "Assembly member of Salinas",
         null,
         null,
         null,
         null,
         null
        ],
        [
         "6065",
         "Jennifer Jacobs",
         "Chief of Staff Assemblyman David Cogdill",
         "david cogdill",
         "LEG_14",
         "legislator",
         "position_exact",
         "high"
        ],
        [
         "6066",
         "Bruce Roberson",
         "Cheif of Staff Assemblyman Carl Washington",
         "carl washington",
         "LEG_66",
         "legislator",
         "position_exact",
         "high"
        ],
        [
         "6067",
         "Ed Chavez",
         "Assemblyman",
         "ed chavez",
         "LEG_12",
         "legislator",
         "exact_name",
         "high"
        ],
        [
         "6068",
         "Albert Franco",
         "Chief of Staff to Assemblyman Ed Chavez",
         "ed chavez",
         "LEG_12",
         "legislator",
         "position_exact",
         "high"
        ],
        [
         "6069",
         "David Pruitt",
         "Chief of Staff to Senator Nell Soto",
         "nell soto",
         "LEG_173",
         "legislator",
         "position_exact",
         "high"
        ],
        [
         "6070",
         "Jeff Sauls",
         "Chief of Staff to Assemblyman Bill Campbell",
         "bill campbell",
         "LEG_389",
         "legislator",
         "position_exact",
         "high"
        ],
        [
         "6122",
         "Sedrick Spencer",
         "Legislative Director Assemblymember Vincent",
         null,
         null,
         null,
         null,
         null
        ],
        [
         "6123",
         "Sandra Pizarro",
         "Chief of Staff Assemblymember Diaz",
         null,
         null,
         null,
         null,
         null
        ],
        [
         "6124",
         "Saeed Ali",
         "Chief of Staff Senator Polanco",
         null,
         null,
         null,
         null,
         null
        ],
        [
         "6125",
         "Bob Becker",
         "Deputy Chief of Staff Assemblymember Campbell",
         null,
         null,
         null,
         null,
         null
        ],
        [
         "6126",
         "Jennifer Jacobs",
         "Staffer Assemblymember Cogdill",
         null,
         null,
         null,
         null,
         null
        ],
        [
         "6127",
         "Dan Savage",
         "Staffer Assemblymember Cedillo",
         null,
         null,
         null,
         null,
         null
        ],
        [
         "6128",
         "Suzanne Weirbinski",
         "Chief of Staff Senator Escutia",
         null,
         null,
         null,
         null,
         null
        ],
        [
         "6129",
         "Dina Hidalgo",
         "Chief of Staff Senate Rules",
         "rules",
         "COM_77",
         "committee",
         "position_exact",
         "high"
        ],
        [
         "6130",
         "David Pruitt",
         "Chief of Staff Senator Soto",
         null,
         null,
         null,
         null,
         null
        ],
        [
         "6131",
         "Dan Flynn",
         "Chief of Staff Assemblymember Wiggins",
         null,
         null,
         null,
         null,
         null
        ],
        [
         "6132",
         "Ignacio Hernandez",
         "Chief of Staff Assemblymember Romero",
         null,
         null,
         null,
         null,
         null
        ],
        [
         "6133",
         "Carlos Penilla",
         "Chief of Staff Assemblymember Havice",
         null,
         null,
         null,
         null,
         null
        ],
        [
         "6134",
         "Kevin Basset",
         "Staffer Assemblymember Cox",
         null,
         null,
         null,
         null,
         null
        ],
        [
         "6135",
         "Colin Rice",
         "Chief of Staff Assemblymember Vargas",
         null,
         null,
         null,
         null,
         null
        ],
        [
         "6136",
         "Adrianna Ruelas",
         "Chief of Staff Assemblymember Reyes",
         null,
         null,
         null,
         null,
         null
        ],
        [
         "6137",
         "Liz Fenton",
         "Chief of Staff Senator Figueroa",
         null,
         null,
         null,
         null,
         null
        ],
        [
         "6138",
         "Beverly Hunter",
         "Chief of Staff Assemblymember Oropeza",
         null,
         null,
         null,
         null,
         null
        ],
        [
         "6139",
         "Darnell Grisby",
         "Legislative Aide Assemblymember Oropeza",
         null,
         null,
         null,
         null,
         null
        ],
        [
         "6140",
         "Kerri Mazzoni",
         "Secratery of Education Governor Davis",
         null,
         null,
         null,
         null,
         null
        ],
        [
         "6141",
         "Rick Vargas",
         "Assistant Secretary for Rail & Transit CA Business Trasportation & Housing",
         null,
         null,
         null,
         null,
         null
        ],
        [
         "6142",
         "Darnell Grisby",
         "Assembly Fellow Assemblymember Shelley",
         null,
         null,
         null,
         null,
         null
        ],
        [
         "6143",
         "Chris Cabalden",
         "Director California Chancelor's Office",
         null,
         null,
         null,
         null,
         null
        ],
        [
         "6144",
         "Jay Hansen",
         "Senior Assistant Assemblymember Hertzberg",
         null,
         null,
         null,
         null,
         null
        ],
        [
         "6145",
         "Chris Forsyth",
         "Chief of Staff Assemblymember Cohn",
         null,
         null,
         null,
         null,
         null
        ],
        [
         "6146",
         "Katerine Pruitt",
         "Spouse David Pruitt - Chief of Staff Senator Soto",
         null,
         null,
         null,
         null,
         null
        ],
        [
         "6147",
         "Catherine Rivera",
         "Office of Governor Gray Davis",
         null,
         null,
         null,
         null,
         null
        ],
        [
         "6148",
         "Julia King",
         "Legilative Consultant Assemblymember Maldonado",
         null,
         null,
         null,
         null,
         null
        ],
        [
         "6174",
         "LLOYD LEVINE",
         "CHIEF OF STAFF ASSEMBLYMEMBER LONGVILLE",
         "lloyd levine",
         "LEG_91",
         "legislator",
         "exact_name",
         "high"
        ],
        [
         "6219",
         "Jay Barkman",
         "Legis. Aide/Assem. Correa",
         null,
         null,
         null,
         null,
         null
        ],
        [
         "6220",
         "JEFF MORALES; TONY HARRIS",
         "DIRECTOR OF CAL TRANS; CHIEF DEPUTY DIRECTOR OF CAL TRANS",
         null,
         null,
         null,
         null,
         null
        ],
        [
         "6267",
         "Gloria Romero",
         "Senator",
         null,
         null,
         null,
         null,
         null
        ],
        [
         "6269",
         "Joe Raguso",
         "Deputy Secretary Division of Science Technology & Innovation",
         null,
         null,
         null,
         null,
         null
        ],
        [
         "6270",
         "Alan Lofaso",
         "Chief of Staff Assemblymember Midgen",
         null,
         null,
         null,
         null,
         null
        ]
       ],
       "shape": {
        "columns": 7,
        "rows": 46309
       }
      },
      "text/html": [
       "<div>\n",
       "<style scoped>\n",
       "    .dataframe tbody tr th:only-of-type {\n",
       "        vertical-align: middle;\n",
       "    }\n",
       "\n",
       "    .dataframe tbody tr th {\n",
       "        vertical-align: top;\n",
       "    }\n",
       "\n",
       "    .dataframe thead th {\n",
       "        text-align: right;\n",
       "    }\n",
       "</style>\n",
       "<table border=\"1\" class=\"dataframe\">\n",
       "  <thead>\n",
       "    <tr style=\"text-align: right;\">\n",
       "      <th></th>\n",
       "      <th>BENE_NAME</th>\n",
       "      <th>BENE_POSIT</th>\n",
       "      <th>MATCHED_NAME</th>\n",
       "      <th>ENTITY_ID</th>\n",
       "      <th>ENTITY_TYPE</th>\n",
       "      <th>MATCH_METHOD</th>\n",
       "      <th>CONFIDENCE</th>\n",
       "    </tr>\n",
       "  </thead>\n",
       "  <tbody>\n",
       "    <tr>\n",
       "      <th>4759</th>\n",
       "      <td>SEE ATTACHMENT B</td>\n",
       "      <td>NaN</td>\n",
       "      <td>None</td>\n",
       "      <td>None</td>\n",
       "      <td>None</td>\n",
       "      <td>None</td>\n",
       "      <td>None</td>\n",
       "    </tr>\n",
       "    <tr>\n",
       "      <th>5315</th>\n",
       "      <td>Gabriela Sanchez</td>\n",
       "      <td>Legislative Staff for Assemblyman Lou Correa</td>\n",
       "      <td>lou correa</td>\n",
       "      <td>LEG_17</td>\n",
       "      <td>legislator</td>\n",
       "      <td>position_exact</td>\n",
       "      <td>high</td>\n",
       "    </tr>\n",
       "    <tr>\n",
       "      <th>5346</th>\n",
       "      <td>GIL CEDILLO</td>\n",
       "      <td>ASSEMBLYMEMBER</td>\n",
       "      <td>gil cedillo</td>\n",
       "      <td>LEG_10</td>\n",
       "      <td>legislator</td>\n",
       "      <td>exact_name</td>\n",
       "      <td>high</td>\n",
       "    </tr>\n",
       "    <tr>\n",
       "      <th>5347</th>\n",
       "      <td>MARCO ANTONIO FIREBAUGH</td>\n",
       "      <td>ASSEMBLYMEMBER</td>\n",
       "      <td>marco a firebaugh</td>\n",
       "      <td>LEG_23</td>\n",
       "      <td>legislator</td>\n",
       "      <td>fuzzy_name</td>\n",
       "      <td>medium</td>\n",
       "    </tr>\n",
       "    <tr>\n",
       "      <th>5348</th>\n",
       "      <td>TONY RICASA</td>\n",
       "      <td>PRINICIPAL ASSISTANT, ASSEMBLYMEMBER CEDILLO</td>\n",
       "      <td>None</td>\n",
       "      <td>None</td>\n",
       "      <td>None</td>\n",
       "      <td>None</td>\n",
       "      <td>None</td>\n",
       "    </tr>\n",
       "    <tr>\n",
       "      <th>...</th>\n",
       "      <td>...</td>\n",
       "      <td>...</td>\n",
       "      <td>...</td>\n",
       "      <td>...</td>\n",
       "      <td>...</td>\n",
       "      <td>...</td>\n",
       "      <td>...</td>\n",
       "    </tr>\n",
       "    <tr>\n",
       "      <th>490917</th>\n",
       "      <td>Gianna Setoudeh</td>\n",
       "      <td>Senior Legislative Aide to Senator Caballero</td>\n",
       "      <td>None</td>\n",
       "      <td>None</td>\n",
       "      <td>None</td>\n",
       "      <td>None</td>\n",
       "      <td>None</td>\n",
       "    </tr>\n",
       "    <tr>\n",
       "      <th>490918</th>\n",
       "      <td>TINA McKINNOR</td>\n",
       "      <td>ASSEMBYWOMAN</td>\n",
       "      <td>tina s mckinnor</td>\n",
       "      <td>LEG_343</td>\n",
       "      <td>legislator</td>\n",
       "      <td>fuzzy_name</td>\n",
       "      <td>medium</td>\n",
       "    </tr>\n",
       "    <tr>\n",
       "      <th>490919</th>\n",
       "      <td>TINA McKINNOR</td>\n",
       "      <td>ASSEMBLYWOMAN</td>\n",
       "      <td>tina s mckinnor</td>\n",
       "      <td>LEG_343</td>\n",
       "      <td>legislator</td>\n",
       "      <td>fuzzy_name</td>\n",
       "      <td>medium</td>\n",
       "    </tr>\n",
       "    <tr>\n",
       "      <th>490922</th>\n",
       "      <td>MAYA DOUGLAS</td>\n",
       "      <td>DISTRICT DIRECTOR ASSEMBLYMAN MIKE GIPSON</td>\n",
       "      <td>None</td>\n",
       "      <td>None</td>\n",
       "      <td>None</td>\n",
       "      <td>None</td>\n",
       "      <td>None</td>\n",
       "    </tr>\n",
       "    <tr>\n",
       "      <th>490923</th>\n",
       "      <td>FIONA MA</td>\n",
       "      <td>TREASURER WOMAN</td>\n",
       "      <td>fiona ma</td>\n",
       "      <td>LEG_165</td>\n",
       "      <td>legislator</td>\n",
       "      <td>exact_name</td>\n",
       "      <td>high</td>\n",
       "    </tr>\n",
       "  </tbody>\n",
       "</table>\n",
       "<p>46309 rows × 7 columns</p>\n",
       "</div>"
      ],
      "text/plain": [
       "                      BENE_NAME                                    BENE_POSIT  \\\n",
       "4759           SEE ATTACHMENT B                                           NaN   \n",
       "5315           Gabriela Sanchez  Legislative Staff for Assemblyman Lou Correa   \n",
       "5346                GIL CEDILLO                                ASSEMBLYMEMBER   \n",
       "5347    MARCO ANTONIO FIREBAUGH                                ASSEMBLYMEMBER   \n",
       "5348                TONY RICASA  PRINICIPAL ASSISTANT, ASSEMBLYMEMBER CEDILLO   \n",
       "...                         ...                                           ...   \n",
       "490917          Gianna Setoudeh  Senior Legislative Aide to Senator Caballero   \n",
       "490918            TINA McKINNOR                                  ASSEMBYWOMAN   \n",
       "490919            TINA McKINNOR                                 ASSEMBLYWOMAN   \n",
       "490922            MAYA DOUGLAS     DISTRICT DIRECTOR ASSEMBLYMAN MIKE GIPSON    \n",
       "490923                FIONA MA                               TREASURER WOMAN    \n",
       "\n",
       "             MATCHED_NAME ENTITY_ID ENTITY_TYPE    MATCH_METHOD CONFIDENCE  \n",
       "4759                 None      None        None            None       None  \n",
       "5315           lou correa    LEG_17  legislator  position_exact       high  \n",
       "5346          gil cedillo    LEG_10  legislator      exact_name       high  \n",
       "5347    marco a firebaugh    LEG_23  legislator      fuzzy_name     medium  \n",
       "5348                 None      None        None            None       None  \n",
       "...                   ...       ...         ...             ...        ...  \n",
       "490917               None      None        None            None       None  \n",
       "490918    tina s mckinnor   LEG_343  legislator      fuzzy_name     medium  \n",
       "490919    tina s mckinnor   LEG_343  legislator      fuzzy_name     medium  \n",
       "490922               None      None        None            None       None  \n",
       "490923           fiona ma   LEG_165  legislator      exact_name       high  \n",
       "\n",
       "[46309 rows x 7 columns]"
      ]
     },
     "execution_count": 176,
     "metadata": {},
     "output_type": "execute_result"
    }
   ],
   "source": [
    "result_df"
   ]
  },
  {
   "cell_type": "code",
   "execution_count": null,
   "metadata": {},
   "outputs": [],
   "source": []
  }
 ],
 "metadata": {
  "kernelspec": {
   "display_name": "ca_leg_etl",
   "language": "python",
   "name": "python3"
  },
  "language_info": {
   "codemirror_mode": {
    "name": "ipython",
    "version": 3
   },
   "file_extension": ".py",
   "mimetype": "text/x-python",
   "name": "python",
   "nbconvert_exporter": "python",
   "pygments_lexer": "ipython3",
   "version": "3.11.6"
  }
 },
 "nbformat": 4,
 "nbformat_minor": 2
}
