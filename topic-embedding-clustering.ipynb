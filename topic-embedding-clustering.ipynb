{
 "cells": [
  {
   "cell_type": "code",
   "execution_count": null,
   "id": "e10e4af2",
   "metadata": {},
   "outputs": [],
   "source": [
    "import re, torch, json, pickle, itertools\n",
    "import numpy as np\n",
    "import pandas as pd\n",
    "from tqdm import tqdm\n",
    "import networkx as nx\n",
    "from community import community_louvain\n",
    "from sklearn.mixture import GaussianMixture\n",
    "from sentence_transformers import SentenceTransformer, util\n",
    "from collections import Counter, defaultdict\n",
    "import warnings\n",
    "\n",
    "warnings.filterwarnings(\"ignore\", category=pd.errors.SettingWithCopyWarning)"
   ]
  },
  {
   "cell_type": "code",
   "execution_count": 65,
   "id": "2bd3f32f",
   "metadata": {},
   "outputs": [],
   "source": [
    "with open('bill_subjects.json', 'r') as f:\n",
    "    bill_subjects = json.load(f)"
   ]
  },
  {
   "cell_type": "code",
   "execution_count": 66,
   "id": "0c5afe66",
   "metadata": {},
   "outputs": [],
   "source": [
    "subject_originals = pickle.load(open('subjects_original.pkl', 'rb'))"
   ]
  },
  {
   "cell_type": "code",
   "execution_count": 67,
   "id": "fb8f7cf2",
   "metadata": {},
   "outputs": [],
   "source": [
    "so = {k: subject_originals[v] for k, v in bill_subjects.items() if v in subject_originals}"
   ]
  },
  {
   "cell_type": "code",
   "execution_count": 68,
   "id": "684cf49c",
   "metadata": {},
   "outputs": [],
   "source": [
    "from rapidfuzz import process, fuzz\n",
    "\n",
    "def canonical(sub):\n",
    "    txt = sub.split(':')[0].lower()\n",
    "    txt = re.sub(r'[^a-z\\s]', ' ', txt)\n",
    "    txt = re.sub(r'(?:california|state|bill|law|act|amendment|proposition|measure|initiative|program|act|code|section|chapter|month|awareness|prevention)', '', txt)\n",
    "    txt = re.sub(r'\\s+', ' ', txt).strip()\n",
    "    return txt\n",
    "\n",
    "def fuzzy_bucket(subjects, thresh=87):\n",
    "    canons = {s: canonical(s) for s in subjects}\n",
    "    canon_list = list(set(canons.values()))\n",
    "    canon_to_subjects = defaultdict(list)\n",
    "    for s, c in canons.items():\n",
    "        canon_to_subjects[c].append(s)\n",
    "    buckets, assigned = [], set()\n",
    "    with tqdm(total=len(canon_list), desc='Fuzzy Buckets') as pbar:\n",
    "        for i, c in enumerate(canon_list):\n",
    "            if c in assigned:\n",
    "                pbar.update(1)\n",
    "                continue\n",
    "            group = []\n",
    "            for j in range(i, len(canon_list)):\n",
    "                d = canon_list[j]\n",
    "                if d in assigned:\n",
    "                    continue\n",
    "                if fuzz.token_sort_ratio(c, d) >= thresh:\n",
    "                    group.extend(canon_to_subjects[d])\n",
    "                    assigned.add(d)\n",
    "            if group:\n",
    "                buckets.append(group)\n",
    "            pbar.update(1)\n",
    "    return buckets\n",
    "\n",
    "def embed_subjects(subjs):\n",
    "    model = SentenceTransformer('all-MiniLM-L6-v2')\n",
    "    def sub_clean(s):\n",
    "        s = s.lower().strip()\n",
    "        s = re.sub(r'(?:california|state|bill|law|act|amendment|proposition|measure|initiative|program|act|code|section|chapter|month|awareness|prevention)', '', s)\n",
    "        s = re.sub(r'[^a-z\\s]', ' ', s)\n",
    "        s = re.sub(r'\\s+', ' ', s).strip()\n",
    "        return s\n",
    "    subjs = [sub_clean(s) for s in subjs]\n",
    "    subjs = [s for s in subjs if s]\n",
    "    embs = model.encode(subjs, normalize_embeddings=True, batch_size=128)\n",
    "    return np.asarray(embs)\n",
    "\n",
    "def gmm_soft_labels(embs, min_k=150, max_k=325):\n",
    "    best_bic, best_gmm = np.inf, None\n",
    "    for k in tqdm(np.linspace(min_k, max_k, 8, dtype=int)):\n",
    "        gmm = GaussianMixture(k, covariance_type='diag', random_state=0).fit(embs)\n",
    "        if gmm.bic(embs) < best_bic:\n",
    "            best_bic, best_gmm = gmm.bic(embs), gmm\n",
    "    probs = best_gmm.predict_proba(embs)\n",
    "    return probs\n",
    "\n",
    "def build_graph(subjects, fuzzy_buckets, soft_proba, alpha=0.35):\n",
    "    idx = {s:i for i,s in enumerate(subjects)}\n",
    "    N = len(subjects)\n",
    "    fuzzy_adj = np.zeros((N,N), dtype=float)\n",
    "    for bucket in fuzzy_buckets:\n",
    "        for a,b in itertools.combinations(bucket, 2):\n",
    "            fuzzy_adj[idx[a], idx[b]] = 1\n",
    "            fuzzy_adj[idx[b], idx[a]] = 1\n",
    "    embed_adj = soft_proba @ soft_proba.T\n",
    "    W = alpha * fuzzy_adj + (1-alpha) * embed_adj\n",
    "    G = nx.Graph()\n",
    "    for i,s in enumerate(subjects):\n",
    "        G.add_node(i, label=s)\n",
    "    rows, cols = np.where(W > 0.01)\n",
    "    for i,j in zip(rows, cols):\n",
    "        if i < j:\n",
    "            G.add_edge(i, j, weight=float(W[i,j]))\n",
    "    return G"
   ]
  },
  {
   "cell_type": "code",
   "execution_count": 69,
   "id": "bd102df7",
   "metadata": {},
   "outputs": [
    {
     "name": "stderr",
     "output_type": "stream",
     "text": [
      "Fuzzy Buckets: 100%|██████████| 13480/13480 [01:20<00:00, 167.54it/s] \n"
     ]
    }
   ],
   "source": [
    "subs = list(set(list(so.values())))\n",
    "buckets = fuzzy_bucket(subs, thresh=87)"
   ]
  },
  {
   "cell_type": "code",
   "execution_count": 70,
   "id": "d13e6686",
   "metadata": {},
   "outputs": [],
   "source": [
    "embs = embed_subjects(subs)"
   ]
  },
  {
   "cell_type": "code",
   "execution_count": 71,
   "id": "4eb4674b",
   "metadata": {},
   "outputs": [
    {
     "name": "stderr",
     "output_type": "stream",
     "text": [
      "  0%|          | 0/8 [00:00<?, ?it/s]huggingface/tokenizers: The current process just got forked, after parallelism has already been used. Disabling parallelism to avoid deadlocks...\n",
      "To disable this warning, you can either:\n",
      "\t- Avoid using `tokenizers` before the fork if possible\n",
      "\t- Explicitly set the environment variable TOKENIZERS_PARALLELISM=(true | false)\n",
      "100%|██████████| 8/8 [02:06<00:00, 15.83s/it]\n"
     ]
    }
   ],
   "source": [
    "soft_proba = gmm_soft_labels(embs)"
   ]
  },
  {
   "cell_type": "code",
   "execution_count": 72,
   "id": "cc26e38d",
   "metadata": {},
   "outputs": [],
   "source": [
    "G = build_graph(subs, buckets, soft_proba, alpha=0.35)"
   ]
  },
  {
   "cell_type": "code",
   "execution_count": 73,
   "id": "5bdad51a",
   "metadata": {},
   "outputs": [],
   "source": [
    "def consensus_clusters(G):\n",
    "    part = community_louvain.best_partition(G, weight='weight', resolution=1.0)\n",
    "    clusters = defaultdict(list)\n",
    "    for node, cid in part.items():\n",
    "        clusters[cid].append(G.nodes[node]['label'])\n",
    "    return clusters\n",
    "\n",
    "clusters = consensus_clusters(G)"
   ]
  },
  {
   "cell_type": "code",
   "execution_count": 74,
   "id": "8d62b467",
   "metadata": {},
   "outputs": [],
   "source": [
    "def community_scale(G, r):\n",
    "    part = community_louvain.best_partition(G, weight='weight', resolution=r)\n",
    "    clusters = defaultdict(list)\n",
    "    for node, cid in part.items():\n",
    "        clusters[cid].append(G.nodes[node]['label'])\n",
    "    return clusters"
   ]
  },
  {
   "cell_type": "code",
   "execution_count": 75,
   "id": "ec8b0d2c",
   "metadata": {},
   "outputs": [
    {
     "data": {
      "application/vnd.jupyter.widget-view+json": {
       "model_id": "d9ee7a8ce44f45d1b6f7a9b5a73dbe2a",
       "version_major": 2,
       "version_minor": 0
      },
      "text/plain": [
       "Batches:   0%|          | 0/4 [00:00<?, ?it/s]"
      ]
     },
     "metadata": {},
     "output_type": "display_data"
    },
    {
     "data": {
      "application/vnd.jupyter.widget-view+json": {
       "model_id": "4ee9d1f871db47f691f33fa7ece17a33",
       "version_major": 2,
       "version_minor": 0
      },
      "text/plain": [
       "Batches:   0%|          | 0/6 [00:00<?, ?it/s]"
      ]
     },
     "metadata": {},
     "output_type": "display_data"
    },
    {
     "data": {
      "application/vnd.jupyter.widget-view+json": {
       "model_id": "93af27413d444582a8d9dd147e87d16d",
       "version_major": 2,
       "version_minor": 0
      },
      "text/plain": [
       "Batches:   0%|          | 0/1 [00:00<?, ?it/s]"
      ]
     },
     "metadata": {},
     "output_type": "display_data"
    },
    {
     "data": {
      "application/vnd.jupyter.widget-view+json": {
       "model_id": "70d43d4c0b724c59a28901142352b15c",
       "version_major": 2,
       "version_minor": 0
      },
      "text/plain": [
       "Batches:   0%|          | 0/12 [00:00<?, ?it/s]"
      ]
     },
     "metadata": {},
     "output_type": "display_data"
    },
    {
     "data": {
      "application/vnd.jupyter.widget-view+json": {
       "model_id": "7cdcbdc27f1e4f14b35ac61c11cbe979",
       "version_major": 2,
       "version_minor": 0
      },
      "text/plain": [
       "Batches:   0%|          | 0/2 [00:00<?, ?it/s]"
      ]
     },
     "metadata": {},
     "output_type": "display_data"
    },
    {
     "data": {
      "application/vnd.jupyter.widget-view+json": {
       "model_id": "d77d121147604978b124806513119abd",
       "version_major": 2,
       "version_minor": 0
      },
      "text/plain": [
       "Batches:   0%|          | 0/2 [00:00<?, ?it/s]"
      ]
     },
     "metadata": {},
     "output_type": "display_data"
    },
    {
     "data": {
      "application/vnd.jupyter.widget-view+json": {
       "model_id": "bac2bf8d574340deb5d88f4819c11cc9",
       "version_major": 2,
       "version_minor": 0
      },
      "text/plain": [
       "Batches:   0%|          | 0/2 [00:00<?, ?it/s]"
      ]
     },
     "metadata": {},
     "output_type": "display_data"
    },
    {
     "data": {
      "application/vnd.jupyter.widget-view+json": {
       "model_id": "97dc0600dea0441cbcd13f8f320ca518",
       "version_major": 2,
       "version_minor": 0
      },
      "text/plain": [
       "Batches:   0%|          | 0/2 [00:00<?, ?it/s]"
      ]
     },
     "metadata": {},
     "output_type": "display_data"
    },
    {
     "data": {
      "application/vnd.jupyter.widget-view+json": {
       "model_id": "6cd2b1c43db04774a4b83517be2aaccc",
       "version_major": 2,
       "version_minor": 0
      },
      "text/plain": [
       "Batches:   0%|          | 0/2 [00:00<?, ?it/s]"
      ]
     },
     "metadata": {},
     "output_type": "display_data"
    },
    {
     "data": {
      "application/vnd.jupyter.widget-view+json": {
       "model_id": "1a7e9e54397940e387d8328e8d18ad84",
       "version_major": 2,
       "version_minor": 0
      },
      "text/plain": [
       "Batches:   0%|          | 0/3 [00:00<?, ?it/s]"
      ]
     },
     "metadata": {},
     "output_type": "display_data"
    },
    {
     "data": {
      "application/vnd.jupyter.widget-view+json": {
       "model_id": "dc3f851c658e460fab810c49c4b6513c",
       "version_major": 2,
       "version_minor": 0
      },
      "text/plain": [
       "Batches:   0%|          | 0/4 [00:00<?, ?it/s]"
      ]
     },
     "metadata": {},
     "output_type": "display_data"
    },
    {
     "data": {
      "application/vnd.jupyter.widget-view+json": {
       "model_id": "a33fa4656f5f4b079c40cb38dde84dc9",
       "version_major": 2,
       "version_minor": 0
      },
      "text/plain": [
       "Batches:   0%|          | 0/3 [00:00<?, ?it/s]"
      ]
     },
     "metadata": {},
     "output_type": "display_data"
    },
    {
     "data": {
      "application/vnd.jupyter.widget-view+json": {
       "model_id": "af778d62ef7b4d47b4ad549e7c0af737",
       "version_major": 2,
       "version_minor": 0
      },
      "text/plain": [
       "Batches:   0%|          | 0/3 [00:00<?, ?it/s]"
      ]
     },
     "metadata": {},
     "output_type": "display_data"
    },
    {
     "data": {
      "application/vnd.jupyter.widget-view+json": {
       "model_id": "cd056e89fe5743c884ea7b35e9093a16",
       "version_major": 2,
       "version_minor": 0
      },
      "text/plain": [
       "Batches:   0%|          | 0/5 [00:00<?, ?it/s]"
      ]
     },
     "metadata": {},
     "output_type": "display_data"
    },
    {
     "data": {
      "application/vnd.jupyter.widget-view+json": {
       "model_id": "b06b918f8d52432d969f96540fd5f550",
       "version_major": 2,
       "version_minor": 0
      },
      "text/plain": [
       "Batches:   0%|          | 0/2 [00:00<?, ?it/s]"
      ]
     },
     "metadata": {},
     "output_type": "display_data"
    },
    {
     "data": {
      "application/vnd.jupyter.widget-view+json": {
       "model_id": "8b428a92d55347f7950c24c9ba783a39",
       "version_major": 2,
       "version_minor": 0
      },
      "text/plain": [
       "Batches:   0%|          | 0/2 [00:00<?, ?it/s]"
      ]
     },
     "metadata": {},
     "output_type": "display_data"
    },
    {
     "data": {
      "application/vnd.jupyter.widget-view+json": {
       "model_id": "53784f340fe141eea3e8ad04560e1641",
       "version_major": 2,
       "version_minor": 0
      },
      "text/plain": [
       "Batches:   0%|          | 0/3 [00:00<?, ?it/s]"
      ]
     },
     "metadata": {},
     "output_type": "display_data"
    },
    {
     "data": {
      "application/vnd.jupyter.widget-view+json": {
       "model_id": "400d94a0f3c6419499a9e312c6bea602",
       "version_major": 2,
       "version_minor": 0
      },
      "text/plain": [
       "Batches:   0%|          | 0/6 [00:00<?, ?it/s]"
      ]
     },
     "metadata": {},
     "output_type": "display_data"
    },
    {
     "data": {
      "application/vnd.jupyter.widget-view+json": {
       "model_id": "dedf622358ee4764a805cc8ca795b11a",
       "version_major": 2,
       "version_minor": 0
      },
      "text/plain": [
       "Batches:   0%|          | 0/7 [00:00<?, ?it/s]"
      ]
     },
     "metadata": {},
     "output_type": "display_data"
    },
    {
     "data": {
      "application/vnd.jupyter.widget-view+json": {
       "model_id": "5c624f7a946744c0bfa871290a10d277",
       "version_major": 2,
       "version_minor": 0
      },
      "text/plain": [
       "Batches:   0%|          | 0/3 [00:00<?, ?it/s]"
      ]
     },
     "metadata": {},
     "output_type": "display_data"
    },
    {
     "data": {
      "application/vnd.jupyter.widget-view+json": {
       "model_id": "2fdeb030937c4fcb9290240caef2cfcd",
       "version_major": 2,
       "version_minor": 0
      },
      "text/plain": [
       "Batches:   0%|          | 0/2 [00:00<?, ?it/s]"
      ]
     },
     "metadata": {},
     "output_type": "display_data"
    },
    {
     "data": {
      "application/vnd.jupyter.widget-view+json": {
       "model_id": "ac8c56c8419d4d369a948999f9f1647d",
       "version_major": 2,
       "version_minor": 0
      },
      "text/plain": [
       "Batches:   0%|          | 0/8 [00:00<?, ?it/s]"
      ]
     },
     "metadata": {},
     "output_type": "display_data"
    },
    {
     "data": {
      "application/vnd.jupyter.widget-view+json": {
       "model_id": "7741fa7a1358462282d1c9cee8d26e31",
       "version_major": 2,
       "version_minor": 0
      },
      "text/plain": [
       "Batches:   0%|          | 0/3 [00:00<?, ?it/s]"
      ]
     },
     "metadata": {},
     "output_type": "display_data"
    },
    {
     "data": {
      "application/vnd.jupyter.widget-view+json": {
       "model_id": "7336392fc010492493f514f9fb319a30",
       "version_major": 2,
       "version_minor": 0
      },
      "text/plain": [
       "Batches:   0%|          | 0/4 [00:00<?, ?it/s]"
      ]
     },
     "metadata": {},
     "output_type": "display_data"
    },
    {
     "data": {
      "application/vnd.jupyter.widget-view+json": {
       "model_id": "134eeef5987f4bb197b8578402e0242d",
       "version_major": 2,
       "version_minor": 0
      },
      "text/plain": [
       "Batches:   0%|          | 0/2 [00:00<?, ?it/s]"
      ]
     },
     "metadata": {},
     "output_type": "display_data"
    },
    {
     "data": {
      "application/vnd.jupyter.widget-view+json": {
       "model_id": "6a7f1ee602994bd98b6f8990ba16aabb",
       "version_major": 2,
       "version_minor": 0
      },
      "text/plain": [
       "Batches:   0%|          | 0/3 [00:00<?, ?it/s]"
      ]
     },
     "metadata": {},
     "output_type": "display_data"
    },
    {
     "data": {
      "application/vnd.jupyter.widget-view+json": {
       "model_id": "d1481d6f7dd54264ab9d9ec86cc98d00",
       "version_major": 2,
       "version_minor": 0
      },
      "text/plain": [
       "Batches:   0%|          | 0/3 [00:00<?, ?it/s]"
      ]
     },
     "metadata": {},
     "output_type": "display_data"
    },
    {
     "data": {
      "application/vnd.jupyter.widget-view+json": {
       "model_id": "b7d6f0de40d1405a970416f92dc71ffb",
       "version_major": 2,
       "version_minor": 0
      },
      "text/plain": [
       "Batches:   0%|          | 0/2 [00:00<?, ?it/s]"
      ]
     },
     "metadata": {},
     "output_type": "display_data"
    },
    {
     "data": {
      "application/vnd.jupyter.widget-view+json": {
       "model_id": "b1bcdb1ef6914a78ba32167b521a6620",
       "version_major": 2,
       "version_minor": 0
      },
      "text/plain": [
       "Batches:   0%|          | 0/2 [00:00<?, ?it/s]"
      ]
     },
     "metadata": {},
     "output_type": "display_data"
    },
    {
     "data": {
      "application/vnd.jupyter.widget-view+json": {
       "model_id": "70e6dbfd95eb4035a2e4d7e743f67e24",
       "version_major": 2,
       "version_minor": 0
      },
      "text/plain": [
       "Batches:   0%|          | 0/4 [00:00<?, ?it/s]"
      ]
     },
     "metadata": {},
     "output_type": "display_data"
    },
    {
     "data": {
      "application/vnd.jupyter.widget-view+json": {
       "model_id": "82cf7aa7cb064f419c97bb11920f1f66",
       "version_major": 2,
       "version_minor": 0
      },
      "text/plain": [
       "Batches:   0%|          | 0/3 [00:00<?, ?it/s]"
      ]
     },
     "metadata": {},
     "output_type": "display_data"
    },
    {
     "data": {
      "application/vnd.jupyter.widget-view+json": {
       "model_id": "12597a17a4144f5ebea950edb2bfa7ab",
       "version_major": 2,
       "version_minor": 0
      },
      "text/plain": [
       "Batches:   0%|          | 0/3 [00:00<?, ?it/s]"
      ]
     },
     "metadata": {},
     "output_type": "display_data"
    },
    {
     "data": {
      "application/vnd.jupyter.widget-view+json": {
       "model_id": "86f1eaa9ef7742d9af3192b23ffdf4af",
       "version_major": 2,
       "version_minor": 0
      },
      "text/plain": [
       "Batches:   0%|          | 0/2 [00:00<?, ?it/s]"
      ]
     },
     "metadata": {},
     "output_type": "display_data"
    },
    {
     "data": {
      "application/vnd.jupyter.widget-view+json": {
       "model_id": "f564cc93f6a3467396f89c7b2fd2796a",
       "version_major": 2,
       "version_minor": 0
      },
      "text/plain": [
       "Batches:   0%|          | 0/2 [00:00<?, ?it/s]"
      ]
     },
     "metadata": {},
     "output_type": "display_data"
    },
    {
     "data": {
      "application/vnd.jupyter.widget-view+json": {
       "model_id": "9b698bd281f3401e96679642e4e2065e",
       "version_major": 2,
       "version_minor": 0
      },
      "text/plain": [
       "Batches:   0%|          | 0/2 [00:00<?, ?it/s]"
      ]
     },
     "metadata": {},
     "output_type": "display_data"
    },
    {
     "data": {
      "application/vnd.jupyter.widget-view+json": {
       "model_id": "08dbd746010c4b71bb99c252f1ed0bef",
       "version_major": 2,
       "version_minor": 0
      },
      "text/plain": [
       "Batches:   0%|          | 0/2 [00:00<?, ?it/s]"
      ]
     },
     "metadata": {},
     "output_type": "display_data"
    },
    {
     "data": {
      "application/vnd.jupyter.widget-view+json": {
       "model_id": "c23541d2aebb47928732f4e09507f09e",
       "version_major": 2,
       "version_minor": 0
      },
      "text/plain": [
       "Batches:   0%|          | 0/2 [00:00<?, ?it/s]"
      ]
     },
     "metadata": {},
     "output_type": "display_data"
    },
    {
     "data": {
      "application/vnd.jupyter.widget-view+json": {
       "model_id": "a07c181359694864b506428d0064ca53",
       "version_major": 2,
       "version_minor": 0
      },
      "text/plain": [
       "Batches:   0%|          | 0/4 [00:00<?, ?it/s]"
      ]
     },
     "metadata": {},
     "output_type": "display_data"
    },
    {
     "data": {
      "application/vnd.jupyter.widget-view+json": {
       "model_id": "725cc948fb84440c8117f61d1a42db4b",
       "version_major": 2,
       "version_minor": 0
      },
      "text/plain": [
       "Batches:   0%|          | 0/2 [00:00<?, ?it/s]"
      ]
     },
     "metadata": {},
     "output_type": "display_data"
    },
    {
     "data": {
      "application/vnd.jupyter.widget-view+json": {
       "model_id": "0df6bb78eb95477e87e98e8887cf3042",
       "version_major": 2,
       "version_minor": 0
      },
      "text/plain": [
       "Batches:   0%|          | 0/2 [00:00<?, ?it/s]"
      ]
     },
     "metadata": {},
     "output_type": "display_data"
    },
    {
     "data": {
      "application/vnd.jupyter.widget-view+json": {
       "model_id": "47e8a794b9fb4967bb43841dea16a353",
       "version_major": 2,
       "version_minor": 0
      },
      "text/plain": [
       "Batches:   0%|          | 0/2 [00:00<?, ?it/s]"
      ]
     },
     "metadata": {},
     "output_type": "display_data"
    },
    {
     "data": {
      "application/vnd.jupyter.widget-view+json": {
       "model_id": "c30f6ce8d2214ca99bb9d2013e2ebafe",
       "version_major": 2,
       "version_minor": 0
      },
      "text/plain": [
       "Batches:   0%|          | 0/3 [00:00<?, ?it/s]"
      ]
     },
     "metadata": {},
     "output_type": "display_data"
    },
    {
     "data": {
      "application/vnd.jupyter.widget-view+json": {
       "model_id": "dc37228324b84910bd7ec6f77821ece8",
       "version_major": 2,
       "version_minor": 0
      },
      "text/plain": [
       "Batches:   0%|          | 0/8 [00:00<?, ?it/s]"
      ]
     },
     "metadata": {},
     "output_type": "display_data"
    },
    {
     "data": {
      "application/vnd.jupyter.widget-view+json": {
       "model_id": "98aa1e9ff9ac4cc58d044ed81d42504e",
       "version_major": 2,
       "version_minor": 0
      },
      "text/plain": [
       "Batches:   0%|          | 0/6 [00:00<?, ?it/s]"
      ]
     },
     "metadata": {},
     "output_type": "display_data"
    },
    {
     "data": {
      "application/vnd.jupyter.widget-view+json": {
       "model_id": "8aed835e74a949aaae11a10b80361fb3",
       "version_major": 2,
       "version_minor": 0
      },
      "text/plain": [
       "Batches:   0%|          | 0/6 [00:00<?, ?it/s]"
      ]
     },
     "metadata": {},
     "output_type": "display_data"
    },
    {
     "data": {
      "application/vnd.jupyter.widget-view+json": {
       "model_id": "e3e91219c40f4c8f9ebe69094b9b1b9c",
       "version_major": 2,
       "version_minor": 0
      },
      "text/plain": [
       "Batches:   0%|          | 0/3 [00:00<?, ?it/s]"
      ]
     },
     "metadata": {},
     "output_type": "display_data"
    },
    {
     "data": {
      "application/vnd.jupyter.widget-view+json": {
       "model_id": "3c8d14b544c84c699cae6b6739d142dc",
       "version_major": 2,
       "version_minor": 0
      },
      "text/plain": [
       "Batches:   0%|          | 0/2 [00:00<?, ?it/s]"
      ]
     },
     "metadata": {},
     "output_type": "display_data"
    },
    {
     "data": {
      "application/vnd.jupyter.widget-view+json": {
       "model_id": "e6bd36fc88f949e89c168eab23f48ccd",
       "version_major": 2,
       "version_minor": 0
      },
      "text/plain": [
       "Batches:   0%|          | 0/3 [00:00<?, ?it/s]"
      ]
     },
     "metadata": {},
     "output_type": "display_data"
    },
    {
     "data": {
      "application/vnd.jupyter.widget-view+json": {
       "model_id": "7267dd4ce113488297a38bef49766594",
       "version_major": 2,
       "version_minor": 0
      },
      "text/plain": [
       "Batches:   0%|          | 0/4 [00:00<?, ?it/s]"
      ]
     },
     "metadata": {},
     "output_type": "display_data"
    },
    {
     "data": {
      "application/vnd.jupyter.widget-view+json": {
       "model_id": "33a60b91b01a42adb6c902edde3554dc",
       "version_major": 2,
       "version_minor": 0
      },
      "text/plain": [
       "Batches:   0%|          | 0/7 [00:00<?, ?it/s]"
      ]
     },
     "metadata": {},
     "output_type": "display_data"
    },
    {
     "data": {
      "application/vnd.jupyter.widget-view+json": {
       "model_id": "d1e238d0e1324cab9aae9b5b7f90a5b1",
       "version_major": 2,
       "version_minor": 0
      },
      "text/plain": [
       "Batches:   0%|          | 0/2 [00:00<?, ?it/s]"
      ]
     },
     "metadata": {},
     "output_type": "display_data"
    },
    {
     "data": {
      "application/vnd.jupyter.widget-view+json": {
       "model_id": "c3e5f53248ce4d059d6be137d0bfa749",
       "version_major": 2,
       "version_minor": 0
      },
      "text/plain": [
       "Batches:   0%|          | 0/1 [00:00<?, ?it/s]"
      ]
     },
     "metadata": {},
     "output_type": "display_data"
    },
    {
     "data": {
      "application/vnd.jupyter.widget-view+json": {
       "model_id": "a28e2976159046dc9684f21d8201b90e",
       "version_major": 2,
       "version_minor": 0
      },
      "text/plain": [
       "Batches:   0%|          | 0/3 [00:00<?, ?it/s]"
      ]
     },
     "metadata": {},
     "output_type": "display_data"
    },
    {
     "data": {
      "application/vnd.jupyter.widget-view+json": {
       "model_id": "b6118fd5514542a5a1bdf06b3b30b726",
       "version_major": 2,
       "version_minor": 0
      },
      "text/plain": [
       "Batches:   0%|          | 0/3 [00:00<?, ?it/s]"
      ]
     },
     "metadata": {},
     "output_type": "display_data"
    },
    {
     "data": {
      "application/vnd.jupyter.widget-view+json": {
       "model_id": "5ed61d2cb0f64fdaa46fa0ae2bbe9c29",
       "version_major": 2,
       "version_minor": 0
      },
      "text/plain": [
       "Batches:   0%|          | 0/1 [00:00<?, ?it/s]"
      ]
     },
     "metadata": {},
     "output_type": "display_data"
    },
    {
     "data": {
      "application/vnd.jupyter.widget-view+json": {
       "model_id": "6b9a2ea2a2f34bb3bc345b4e821a351a",
       "version_major": 2,
       "version_minor": 0
      },
      "text/plain": [
       "Batches:   0%|          | 0/2 [00:00<?, ?it/s]"
      ]
     },
     "metadata": {},
     "output_type": "display_data"
    },
    {
     "data": {
      "application/vnd.jupyter.widget-view+json": {
       "model_id": "0d2da0e06b1c40beb1eab057b24dbc51",
       "version_major": 2,
       "version_minor": 0
      },
      "text/plain": [
       "Batches:   0%|          | 0/3 [00:00<?, ?it/s]"
      ]
     },
     "metadata": {},
     "output_type": "display_data"
    },
    {
     "data": {
      "application/vnd.jupyter.widget-view+json": {
       "model_id": "bdf48487191b4195a68c11599687ccdb",
       "version_major": 2,
       "version_minor": 0
      },
      "text/plain": [
       "Batches:   0%|          | 0/5 [00:00<?, ?it/s]"
      ]
     },
     "metadata": {},
     "output_type": "display_data"
    },
    {
     "data": {
      "application/vnd.jupyter.widget-view+json": {
       "model_id": "cb95b47016b94053a89a9d771ccb0f68",
       "version_major": 2,
       "version_minor": 0
      },
      "text/plain": [
       "Batches:   0%|          | 0/3 [00:00<?, ?it/s]"
      ]
     },
     "metadata": {},
     "output_type": "display_data"
    },
    {
     "data": {
      "application/vnd.jupyter.widget-view+json": {
       "model_id": "06d90cc8803c4cdb87314b5291ed6407",
       "version_major": 2,
       "version_minor": 0
      },
      "text/plain": [
       "Batches:   0%|          | 0/2 [00:00<?, ?it/s]"
      ]
     },
     "metadata": {},
     "output_type": "display_data"
    },
    {
     "data": {
      "application/vnd.jupyter.widget-view+json": {
       "model_id": "c8567982f78d43c8873467cb00b80672",
       "version_major": 2,
       "version_minor": 0
      },
      "text/plain": [
       "Batches:   0%|          | 0/2 [00:00<?, ?it/s]"
      ]
     },
     "metadata": {},
     "output_type": "display_data"
    },
    {
     "data": {
      "application/vnd.jupyter.widget-view+json": {
       "model_id": "6e3b6c4e6a614703ba5cdeb7bd9be675",
       "version_major": 2,
       "version_minor": 0
      },
      "text/plain": [
       "Batches:   0%|          | 0/2 [00:00<?, ?it/s]"
      ]
     },
     "metadata": {},
     "output_type": "display_data"
    },
    {
     "data": {
      "application/vnd.jupyter.widget-view+json": {
       "model_id": "c2b71f86711d4cacbb1932d2410acbad",
       "version_major": 2,
       "version_minor": 0
      },
      "text/plain": [
       "Batches:   0%|          | 0/4 [00:00<?, ?it/s]"
      ]
     },
     "metadata": {},
     "output_type": "display_data"
    },
    {
     "data": {
      "application/vnd.jupyter.widget-view+json": {
       "model_id": "7fe282d9c8b145b3bd6c4b5f679dd311",
       "version_major": 2,
       "version_minor": 0
      },
      "text/plain": [
       "Batches:   0%|          | 0/3 [00:00<?, ?it/s]"
      ]
     },
     "metadata": {},
     "output_type": "display_data"
    },
    {
     "data": {
      "application/vnd.jupyter.widget-view+json": {
       "model_id": "cc56056e04634a78b70e2c4ec36132eb",
       "version_major": 2,
       "version_minor": 0
      },
      "text/plain": [
       "Batches:   0%|          | 0/2 [00:00<?, ?it/s]"
      ]
     },
     "metadata": {},
     "output_type": "display_data"
    },
    {
     "data": {
      "application/vnd.jupyter.widget-view+json": {
       "model_id": "d421ab96ac8b4a76b06873253edd0f21",
       "version_major": 2,
       "version_minor": 0
      },
      "text/plain": [
       "Batches:   0%|          | 0/1 [00:00<?, ?it/s]"
      ]
     },
     "metadata": {},
     "output_type": "display_data"
    },
    {
     "data": {
      "application/vnd.jupyter.widget-view+json": {
       "model_id": "df8ab72e064b44ff854056b1b6104862",
       "version_major": 2,
       "version_minor": 0
      },
      "text/plain": [
       "Batches:   0%|          | 0/3 [00:00<?, ?it/s]"
      ]
     },
     "metadata": {},
     "output_type": "display_data"
    },
    {
     "data": {
      "application/vnd.jupyter.widget-view+json": {
       "model_id": "8a20dca8a69349d0b284aaf04431f6a3",
       "version_major": 2,
       "version_minor": 0
      },
      "text/plain": [
       "Batches:   0%|          | 0/3 [00:00<?, ?it/s]"
      ]
     },
     "metadata": {},
     "output_type": "display_data"
    },
    {
     "data": {
      "application/vnd.jupyter.widget-view+json": {
       "model_id": "a0947e1004824c9ba6502badf9c863b5",
       "version_major": 2,
       "version_minor": 0
      },
      "text/plain": [
       "Batches:   0%|          | 0/3 [00:00<?, ?it/s]"
      ]
     },
     "metadata": {},
     "output_type": "display_data"
    },
    {
     "data": {
      "application/vnd.jupyter.widget-view+json": {
       "model_id": "759b431b59e74e4cb451cd9bb64f353a",
       "version_major": 2,
       "version_minor": 0
      },
      "text/plain": [
       "Batches:   0%|          | 0/2 [00:00<?, ?it/s]"
      ]
     },
     "metadata": {},
     "output_type": "display_data"
    },
    {
     "data": {
      "application/vnd.jupyter.widget-view+json": {
       "model_id": "edd258caf3044e82bf67c42439b43f4f",
       "version_major": 2,
       "version_minor": 0
      },
      "text/plain": [
       "Batches:   0%|          | 0/2 [00:00<?, ?it/s]"
      ]
     },
     "metadata": {},
     "output_type": "display_data"
    },
    {
     "data": {
      "application/vnd.jupyter.widget-view+json": {
       "model_id": "b612be85859a41fda0fd7892549f783f",
       "version_major": 2,
       "version_minor": 0
      },
      "text/plain": [
       "Batches:   0%|          | 0/2 [00:00<?, ?it/s]"
      ]
     },
     "metadata": {},
     "output_type": "display_data"
    },
    {
     "data": {
      "application/vnd.jupyter.widget-view+json": {
       "model_id": "2a9000d42e664fc69bd00f24d754ab87",
       "version_major": 2,
       "version_minor": 0
      },
      "text/plain": [
       "Batches:   0%|          | 0/2 [00:00<?, ?it/s]"
      ]
     },
     "metadata": {},
     "output_type": "display_data"
    },
    {
     "data": {
      "application/vnd.jupyter.widget-view+json": {
       "model_id": "d78882749f6442cfad20493beac641a1",
       "version_major": 2,
       "version_minor": 0
      },
      "text/plain": [
       "Batches:   0%|          | 0/4 [00:00<?, ?it/s]"
      ]
     },
     "metadata": {},
     "output_type": "display_data"
    },
    {
     "data": {
      "application/vnd.jupyter.widget-view+json": {
       "model_id": "5172226ff4e34b5d9adf8b96354a2f46",
       "version_major": 2,
       "version_minor": 0
      },
      "text/plain": [
       "Batches:   0%|          | 0/2 [00:00<?, ?it/s]"
      ]
     },
     "metadata": {},
     "output_type": "display_data"
    },
    {
     "data": {
      "application/vnd.jupyter.widget-view+json": {
       "model_id": "23fcaf3dcc044ae3bf2b85136f52445d",
       "version_major": 2,
       "version_minor": 0
      },
      "text/plain": [
       "Batches:   0%|          | 0/3 [00:00<?, ?it/s]"
      ]
     },
     "metadata": {},
     "output_type": "display_data"
    },
    {
     "data": {
      "application/vnd.jupyter.widget-view+json": {
       "model_id": "e7acb99e639140a5838058f9d1b2b9e2",
       "version_major": 2,
       "version_minor": 0
      },
      "text/plain": [
       "Batches:   0%|          | 0/2 [00:00<?, ?it/s]"
      ]
     },
     "metadata": {},
     "output_type": "display_data"
    },
    {
     "data": {
      "application/vnd.jupyter.widget-view+json": {
       "model_id": "decd09cf9b6c4be290764ff64e51bdf6",
       "version_major": 2,
       "version_minor": 0
      },
      "text/plain": [
       "Batches:   0%|          | 0/2 [00:00<?, ?it/s]"
      ]
     },
     "metadata": {},
     "output_type": "display_data"
    },
    {
     "data": {
      "application/vnd.jupyter.widget-view+json": {
       "model_id": "293b9690eb4d462b985814fd646b4c50",
       "version_major": 2,
       "version_minor": 0
      },
      "text/plain": [
       "Batches:   0%|          | 0/2 [00:00<?, ?it/s]"
      ]
     },
     "metadata": {},
     "output_type": "display_data"
    },
    {
     "data": {
      "application/vnd.jupyter.widget-view+json": {
       "model_id": "d89555d3c6e5423e848f16cb9c5f0703",
       "version_major": 2,
       "version_minor": 0
      },
      "text/plain": [
       "Batches:   0%|          | 0/2 [00:00<?, ?it/s]"
      ]
     },
     "metadata": {},
     "output_type": "display_data"
    },
    {
     "data": {
      "application/vnd.jupyter.widget-view+json": {
       "model_id": "6b62186c48424f538c4f6114db2352f0",
       "version_major": 2,
       "version_minor": 0
      },
      "text/plain": [
       "Batches:   0%|          | 0/2 [00:00<?, ?it/s]"
      ]
     },
     "metadata": {},
     "output_type": "display_data"
    },
    {
     "data": {
      "application/vnd.jupyter.widget-view+json": {
       "model_id": "8a30e1fe8ce440528a57fe4cbcacd915",
       "version_major": 2,
       "version_minor": 0
      },
      "text/plain": [
       "Batches:   0%|          | 0/4 [00:00<?, ?it/s]"
      ]
     },
     "metadata": {},
     "output_type": "display_data"
    },
    {
     "data": {
      "application/vnd.jupyter.widget-view+json": {
       "model_id": "6c185397f99f4439a3cf3bc877aac74b",
       "version_major": 2,
       "version_minor": 0
      },
      "text/plain": [
       "Batches:   0%|          | 0/2 [00:00<?, ?it/s]"
      ]
     },
     "metadata": {},
     "output_type": "display_data"
    },
    {
     "data": {
      "application/vnd.jupyter.widget-view+json": {
       "model_id": "a1653ca714634a2ca9deeed7461a67d7",
       "version_major": 2,
       "version_minor": 0
      },
      "text/plain": [
       "Batches:   0%|          | 0/2 [00:00<?, ?it/s]"
      ]
     },
     "metadata": {},
     "output_type": "display_data"
    },
    {
     "data": {
      "application/vnd.jupyter.widget-view+json": {
       "model_id": "8f1068dae0fb4c9c9f4072168798c800",
       "version_major": 2,
       "version_minor": 0
      },
      "text/plain": [
       "Batches:   0%|          | 0/3 [00:00<?, ?it/s]"
      ]
     },
     "metadata": {},
     "output_type": "display_data"
    },
    {
     "data": {
      "application/vnd.jupyter.widget-view+json": {
       "model_id": "07ce6844d0c94794a682a70b3c8e1fed",
       "version_major": 2,
       "version_minor": 0
      },
      "text/plain": [
       "Batches:   0%|          | 0/1 [00:00<?, ?it/s]"
      ]
     },
     "metadata": {},
     "output_type": "display_data"
    },
    {
     "data": {
      "application/vnd.jupyter.widget-view+json": {
       "model_id": "d1301796792d44c6ad139de58e60a1a9",
       "version_major": 2,
       "version_minor": 0
      },
      "text/plain": [
       "Batches:   0%|          | 0/3 [00:00<?, ?it/s]"
      ]
     },
     "metadata": {},
     "output_type": "display_data"
    },
    {
     "data": {
      "application/vnd.jupyter.widget-view+json": {
       "model_id": "178646bbf9674c01afe8962ec4db4a8b",
       "version_major": 2,
       "version_minor": 0
      },
      "text/plain": [
       "Batches:   0%|          | 0/2 [00:00<?, ?it/s]"
      ]
     },
     "metadata": {},
     "output_type": "display_data"
    },
    {
     "data": {
      "application/vnd.jupyter.widget-view+json": {
       "model_id": "4778dab408e0481388cd0f183045cd2c",
       "version_major": 2,
       "version_minor": 0
      },
      "text/plain": [
       "Batches:   0%|          | 0/2 [00:00<?, ?it/s]"
      ]
     },
     "metadata": {},
     "output_type": "display_data"
    },
    {
     "data": {
      "application/vnd.jupyter.widget-view+json": {
       "model_id": "08d35e5ae12e4e56a55361d7e8ae13c0",
       "version_major": 2,
       "version_minor": 0
      },
      "text/plain": [
       "Batches:   0%|          | 0/3 [00:00<?, ?it/s]"
      ]
     },
     "metadata": {},
     "output_type": "display_data"
    },
    {
     "data": {
      "application/vnd.jupyter.widget-view+json": {
       "model_id": "f5a9c1198ea2450cb36f2c7901af3b79",
       "version_major": 2,
       "version_minor": 0
      },
      "text/plain": [
       "Batches:   0%|          | 0/2 [00:00<?, ?it/s]"
      ]
     },
     "metadata": {},
     "output_type": "display_data"
    },
    {
     "data": {
      "application/vnd.jupyter.widget-view+json": {
       "model_id": "4af13d361b5e4ba8b210fe838af11708",
       "version_major": 2,
       "version_minor": 0
      },
      "text/plain": [
       "Batches:   0%|          | 0/2 [00:00<?, ?it/s]"
      ]
     },
     "metadata": {},
     "output_type": "display_data"
    },
    {
     "data": {
      "application/vnd.jupyter.widget-view+json": {
       "model_id": "21888b38b9754d51abde90af6e9e9b03",
       "version_major": 2,
       "version_minor": 0
      },
      "text/plain": [
       "Batches:   0%|          | 0/3 [00:00<?, ?it/s]"
      ]
     },
     "metadata": {},
     "output_type": "display_data"
    },
    {
     "data": {
      "application/vnd.jupyter.widget-view+json": {
       "model_id": "7ffdf111011b490792c3ea2304d3ab1a",
       "version_major": 2,
       "version_minor": 0
      },
      "text/plain": [
       "Batches:   0%|          | 0/2 [00:00<?, ?it/s]"
      ]
     },
     "metadata": {},
     "output_type": "display_data"
    },
    {
     "data": {
      "application/vnd.jupyter.widget-view+json": {
       "model_id": "9c24dce739a04f6fbceb22bda5f1c5c3",
       "version_major": 2,
       "version_minor": 0
      },
      "text/plain": [
       "Batches:   0%|          | 0/3 [00:00<?, ?it/s]"
      ]
     },
     "metadata": {},
     "output_type": "display_data"
    },
    {
     "data": {
      "application/vnd.jupyter.widget-view+json": {
       "model_id": "1010a6321a9940ccb16db12bdf2b7891",
       "version_major": 2,
       "version_minor": 0
      },
      "text/plain": [
       "Batches:   0%|          | 0/2 [00:00<?, ?it/s]"
      ]
     },
     "metadata": {},
     "output_type": "display_data"
    },
    {
     "data": {
      "application/vnd.jupyter.widget-view+json": {
       "model_id": "04295be64d4b47ad805bc3a89b96073f",
       "version_major": 2,
       "version_minor": 0
      },
      "text/plain": [
       "Batches:   0%|          | 0/1 [00:00<?, ?it/s]"
      ]
     },
     "metadata": {},
     "output_type": "display_data"
    },
    {
     "data": {
      "application/vnd.jupyter.widget-view+json": {
       "model_id": "8de747e75e5d44e3961d3600db86e8cd",
       "version_major": 2,
       "version_minor": 0
      },
      "text/plain": [
       "Batches:   0%|          | 0/2 [00:00<?, ?it/s]"
      ]
     },
     "metadata": {},
     "output_type": "display_data"
    },
    {
     "data": {
      "application/vnd.jupyter.widget-view+json": {
       "model_id": "7dec0cfb66714beca5cd27f539be9b27",
       "version_major": 2,
       "version_minor": 0
      },
      "text/plain": [
       "Batches:   0%|          | 0/1 [00:00<?, ?it/s]"
      ]
     },
     "metadata": {},
     "output_type": "display_data"
    },
    {
     "data": {
      "application/vnd.jupyter.widget-view+json": {
       "model_id": "16023e1d77fc460cb6ce2b8cbadac6ec",
       "version_major": 2,
       "version_minor": 0
      },
      "text/plain": [
       "Batches:   0%|          | 0/5 [00:00<?, ?it/s]"
      ]
     },
     "metadata": {},
     "output_type": "display_data"
    },
    {
     "data": {
      "application/vnd.jupyter.widget-view+json": {
       "model_id": "b5db70af14314922b263b05693132038",
       "version_major": 2,
       "version_minor": 0
      },
      "text/plain": [
       "Batches:   0%|          | 0/3 [00:00<?, ?it/s]"
      ]
     },
     "metadata": {},
     "output_type": "display_data"
    },
    {
     "data": {
      "application/vnd.jupyter.widget-view+json": {
       "model_id": "d9e27a2f56c04572bd25d137f8cbd836",
       "version_major": 2,
       "version_minor": 0
      },
      "text/plain": [
       "Batches:   0%|          | 0/1 [00:00<?, ?it/s]"
      ]
     },
     "metadata": {},
     "output_type": "display_data"
    },
    {
     "data": {
      "application/vnd.jupyter.widget-view+json": {
       "model_id": "50edcd29b0d04dd1a73ae5a1e663cae8",
       "version_major": 2,
       "version_minor": 0
      },
      "text/plain": [
       "Batches:   0%|          | 0/3 [00:00<?, ?it/s]"
      ]
     },
     "metadata": {},
     "output_type": "display_data"
    },
    {
     "data": {
      "application/vnd.jupyter.widget-view+json": {
       "model_id": "f4a220a3569144f6b4327d1ed210ada4",
       "version_major": 2,
       "version_minor": 0
      },
      "text/plain": [
       "Batches:   0%|          | 0/2 [00:00<?, ?it/s]"
      ]
     },
     "metadata": {},
     "output_type": "display_data"
    },
    {
     "data": {
      "application/vnd.jupyter.widget-view+json": {
       "model_id": "b304787995354c149ebd5635f18b9ccb",
       "version_major": 2,
       "version_minor": 0
      },
      "text/plain": [
       "Batches:   0%|          | 0/1 [00:00<?, ?it/s]"
      ]
     },
     "metadata": {},
     "output_type": "display_data"
    },
    {
     "data": {
      "application/vnd.jupyter.widget-view+json": {
       "model_id": "fe8c084a327e4a63af066123467734c4",
       "version_major": 2,
       "version_minor": 0
      },
      "text/plain": [
       "Batches:   0%|          | 0/2 [00:00<?, ?it/s]"
      ]
     },
     "metadata": {},
     "output_type": "display_data"
    },
    {
     "data": {
      "application/vnd.jupyter.widget-view+json": {
       "model_id": "e2ad00f746d1429cadec70967f614d49",
       "version_major": 2,
       "version_minor": 0
      },
      "text/plain": [
       "Batches:   0%|          | 0/2 [00:00<?, ?it/s]"
      ]
     },
     "metadata": {},
     "output_type": "display_data"
    },
    {
     "data": {
      "application/vnd.jupyter.widget-view+json": {
       "model_id": "f4ead114e23b4df983f8256f1194c0e8",
       "version_major": 2,
       "version_minor": 0
      },
      "text/plain": [
       "Batches:   0%|          | 0/1 [00:00<?, ?it/s]"
      ]
     },
     "metadata": {},
     "output_type": "display_data"
    },
    {
     "data": {
      "application/vnd.jupyter.widget-view+json": {
       "model_id": "f36af9e939884e8c8a49a4b240d5e3ac",
       "version_major": 2,
       "version_minor": 0
      },
      "text/plain": [
       "Batches:   0%|          | 0/1 [00:00<?, ?it/s]"
      ]
     },
     "metadata": {},
     "output_type": "display_data"
    },
    {
     "data": {
      "application/vnd.jupyter.widget-view+json": {
       "model_id": "c3200c24427d42ae9042adc98ba4a36c",
       "version_major": 2,
       "version_minor": 0
      },
      "text/plain": [
       "Batches:   0%|          | 0/1 [00:00<?, ?it/s]"
      ]
     },
     "metadata": {},
     "output_type": "display_data"
    },
    {
     "data": {
      "application/vnd.jupyter.widget-view+json": {
       "model_id": "7134575addb44d2093061d3ae012a000",
       "version_major": 2,
       "version_minor": 0
      },
      "text/plain": [
       "Batches:   0%|          | 0/3 [00:00<?, ?it/s]"
      ]
     },
     "metadata": {},
     "output_type": "display_data"
    },
    {
     "data": {
      "application/vnd.jupyter.widget-view+json": {
       "model_id": "13877b0f63674b8b8a92fde400055ef1",
       "version_major": 2,
       "version_minor": 0
      },
      "text/plain": [
       "Batches:   0%|          | 0/1 [00:00<?, ?it/s]"
      ]
     },
     "metadata": {},
     "output_type": "display_data"
    },
    {
     "data": {
      "application/vnd.jupyter.widget-view+json": {
       "model_id": "de764bbb92794551b160987b1fbee9cf",
       "version_major": 2,
       "version_minor": 0
      },
      "text/plain": [
       "Batches:   0%|          | 0/1 [00:00<?, ?it/s]"
      ]
     },
     "metadata": {},
     "output_type": "display_data"
    },
    {
     "data": {
      "application/vnd.jupyter.widget-view+json": {
       "model_id": "5eeeba8cedcf4b8fae567b1cb88b7f60",
       "version_major": 2,
       "version_minor": 0
      },
      "text/plain": [
       "Batches:   0%|          | 0/2 [00:00<?, ?it/s]"
      ]
     },
     "metadata": {},
     "output_type": "display_data"
    },
    {
     "data": {
      "application/vnd.jupyter.widget-view+json": {
       "model_id": "2afd29fd817c464080fb4e4a462e051b",
       "version_major": 2,
       "version_minor": 0
      },
      "text/plain": [
       "Batches:   0%|          | 0/1 [00:00<?, ?it/s]"
      ]
     },
     "metadata": {},
     "output_type": "display_data"
    }
   ],
   "source": [
    "import igraph as ig, leidenalg as la\n",
    "from sklearn.metrics.pairwise import cosine_similarity\n",
    "\n",
    "cluster_ids = list(clusters.keys())\n",
    "model = SentenceTransformer('all-MiniLM-L6-v2')\n",
    "\n",
    "def cluster_embedding(texts, model):\n",
    "    vecs = model.encode(texts, batch_size=128,\n",
    "                        normalize_embeddings=True,\n",
    "                        device='mps', show_progress_bar=True)\n",
    "    return vecs.mean(0)\n",
    "\n",
    "emb = {cid: cluster_embedding(clusters[cid], model)\n",
    "       for cid in cluster_ids}\n",
    "X = np.vstack([emb[cid] for cid in cluster_ids])\n",
    "\n",
    "k = 15\n",
    "sim = cosine_similarity(X)\n",
    "knn_ix = np.argsort(-sim, axis=1)[:, 1:k+1]\n",
    "\n",
    "edges, wts = [], []\n",
    "for i, nbrs in enumerate(knn_ix):\n",
    "    for j in nbrs:\n",
    "        edges.append((i, j))\n",
    "        wts.append(float(sim[i, j]))\n",
    "\n",
    "g = ig.Graph(edges=edges, directed=False)\n",
    "g.vs['name'] = cluster_ids\n",
    "g.es['weight'] = wts"
   ]
  },
  {
   "cell_type": "code",
   "execution_count": 76,
   "id": "82c4f69d",
   "metadata": {},
   "outputs": [],
   "source": [
    "def leiden_cpm(gamma):\n",
    "    part = la.find_partition(\n",
    "        g,\n",
    "        la.CPMVertexPartition,\n",
    "        weights='weight',\n",
    "        resolution_parameter=gamma,\n",
    "        n_iterations=-1\n",
    "    )\n",
    "    return {g.vs[i]['name']: cid for i, cid in enumerate(part.membership)}\n",
    "\n",
    "coarse05 = leiden_cpm(0.7)"
   ]
  },
  {
   "cell_type": "code",
   "execution_count": 77,
   "id": "f78a5626",
   "metadata": {},
   "outputs": [],
   "source": [
    "labels = pd.DataFrame({\n",
    "    'bill_id': list(so.keys()),\n",
    "    'subject': list(so.values())\n",
    "})"
   ]
  },
  {
   "cell_type": "code",
   "execution_count": 79,
   "id": "0540d7e4",
   "metadata": {},
   "outputs": [],
   "source": [
    "clust_reverse = {v: k for k, val in clusters.items() for v in val}"
   ]
  },
  {
   "cell_type": "code",
   "execution_count": 80,
   "id": "5a5bb52c",
   "metadata": {},
   "outputs": [],
   "source": [
    "labels['cluster'] = labels['subject'].map(clust_reverse)\n",
    "labels['coarse05'] = labels['cluster'].map(coarse05)"
   ]
  },
  {
   "cell_type": "code",
   "execution_count": 81,
   "id": "d1ddba5b",
   "metadata": {},
   "outputs": [],
   "source": [
    "with open('bill_ids.txt', 'r') as f:\n",
    "    bill_ids = f.read().splitlines()"
   ]
  },
  {
   "cell_type": "code",
   "execution_count": 82,
   "id": "f4b22c7b",
   "metadata": {},
   "outputs": [],
   "source": [
    "with open('missed_bills.txt', 'r') as f:\n",
    "    missed_bills = f.read().splitlines()\n",
    "\n",
    "for b in labels.loc[~labels['bill_id'].isin(missed_bills) & (labels['cluster'].isna()), 'bill_id'].unique().tolist():\n",
    "    missed_bills.append(b)"
   ]
  },
  {
   "cell_type": "code",
   "execution_count": 83,
   "id": "d073320c",
   "metadata": {},
   "outputs": [],
   "source": [
    "bill_id_mapping = pickle.load(open('bill_id_mapping.pkl', 'rb'))"
   ]
  },
  {
   "cell_type": "code",
   "execution_count": 84,
   "id": "31c351a1",
   "metadata": {},
   "outputs": [],
   "source": [
    "missing_variations = [k for k, v in bill_id_mapping.items() if v in missed_bills]"
   ]
  },
  {
   "cell_type": "code",
   "execution_count": 85,
   "id": "70e8059d",
   "metadata": {},
   "outputs": [],
   "source": [
    "bill_labels = {}\n",
    "for _, row in labels.loc[labels['cluster'].notna(), ['bill_id', 'cluster']].drop_duplicates().iterrows():\n",
    "    bill_labels[row['bill_id']] = row['cluster']"
   ]
  },
  {
   "cell_type": "code",
   "execution_count": 86,
   "id": "e06a54b2",
   "metadata": {},
   "outputs": [],
   "source": [
    "with open('bill_labels.json', 'w') as f:\n",
    "    json.dump(bill_labels, f)"
   ]
  },
  {
   "cell_type": "code",
   "execution_count": 87,
   "id": "43e78f6b",
   "metadata": {},
   "outputs": [],
   "source": [
    "digests = pd.read_csv('ca_leg/legislation_data/digest.csv')"
   ]
  },
  {
   "cell_type": "code",
   "execution_count": 88,
   "id": "97292f0f",
   "metadata": {},
   "outputs": [],
   "source": [
    "digest_embeddings = torch.load('digests.pt', weights_only=False)"
   ]
  },
  {
   "cell_type": "code",
   "execution_count": 89,
   "id": "11a8e82a",
   "metadata": {},
   "outputs": [],
   "source": [
    "repairs = digests.loc[digests['bill_id'].isin(missing_variations)]\n",
    "repairs['bill'] = repairs['bill_id'].map(bill_id_mapping)\n",
    "repairs['version'] = repairs['bill_id'].apply(lambda x: x[-5:-3] if 'VETO' not in x else re.search(r'\\d{2}(?=VETO)', x).group()).astype(int)\n",
    "repairs = repairs.sort_values('version', ascending=False).groupby('bill').head(1)"
   ]
  },
  {
   "cell_type": "code",
   "execution_count": 90,
   "id": "79035831",
   "metadata": {},
   "outputs": [],
   "source": [
    "digest_embedding_lookup = {\n",
    "    key: tensor.cpu().numpy()\n",
    "    for key, tensor in digest_embeddings.items()\n",
    "}"
   ]
  },
  {
   "cell_type": "code",
   "execution_count": 91,
   "id": "10458241",
   "metadata": {},
   "outputs": [],
   "source": [
    "repairs['digest_embedding'] = repairs['DigestText'].map(digest_embedding_lookup)\n",
    "repairs = repairs.loc[repairs['digest_embedding'].notna()].reset_index(drop=True)"
   ]
  },
  {
   "cell_type": "code",
   "execution_count": null,
   "id": "f3ed503c",
   "metadata": {},
   "outputs": [],
   "source": [
    "import numpy as np, pandas as pd, re, json, ast\n",
    "from collections import Counter\n",
    "\n",
    "def extract_version(x):\n",
    "    if not isinstance(x, str):\n",
    "        return -1\n",
    "    m = re.search(r'(\\d{2})(?=VETO)', x)\n",
    "    if m:\n",
    "        return int(m.group(1))\n",
    "    m = re.search(r'(\\d{2})(?!.*\\d)', x)\n",
    "    return int(m.group(1)) if m else -1\n",
    "\n",
    "def coerce_vec(v):\n",
    "    if v is None or (isinstance(v, float) and np.isnan(v)):\n",
    "        return None\n",
    "    if isinstance(v, np.ndarray):\n",
    "        arr = v\n",
    "    elif isinstance(v, (list, tuple)):\n",
    "        arr = np.asarray(v)\n",
    "    elif isinstance(v, str):\n",
    "        try:\n",
    "            arr = np.asarray(json.loads(v))\n",
    "        except Exception:\n",
    "            try:\n",
    "                arr = np.asarray(ast.literal_eval(v))\n",
    "            except Exception:\n",
    "                return None\n",
    "    else:\n",
    "        try:\n",
    "            arr = np.asarray(v)\n",
    "        except Exception:\n",
    "            return None\n",
    "    arr = np.asarray(arr, dtype=np.float32)\n",
    "    if arr.size == 0:\n",
    "        return None\n",
    "    return arr.reshape(-1)\n",
    "\n",
    "def normalize_embeddings(matrix):\n",
    "    matrix = np.asarray(matrix, dtype=np.float32)\n",
    "    if matrix.size == 0:\n",
    "        return matrix\n",
    "    norms = np.linalg.norm(matrix, axis=1, keepdims=True)\n",
    "    norms[norms == 0] = 1.0\n",
    "    return matrix / norms\n",
    "\n",
    "# -- rebuild labeled_digests robustly\n",
    "labeled = labels[['bill_id', 'cluster']].drop_duplicates().rename(columns={'bill_id': 'bill'})\n",
    "labeled_variations = [k for k, v in bill_id_mapping.items() if v in labeled['bill'].values]\n",
    "\n",
    "labeled_digests = digests.loc[digests['bill_id'].isin(labeled_variations)].copy()\n",
    "labeled_digests['bill'] = labeled_digests['bill_id'].map(bill_id_mapping)\n",
    "labeled_digests['version'] = labeled_digests['bill_id'].apply(extract_version).astype(int)\n",
    "\n",
    "labeled_digests = (\n",
    "    labeled_digests.sort_values('version', ascending=False)\n",
    "    .groupby('bill', as_index=False)\n",
    "    .head(1)\n",
    "    .reset_index(drop=True)\n",
    ")\n",
    "\n",
    "labeled_digests['digest_embedding'] = labeled_digests['DigestText'].map(digest_embedding_lookup)\n",
    "labeled_digests = labeled_digests.merge(labeled, on='bill', how='inner').reset_index(drop=True)\n",
    "\n",
    "# -- clean embeddings and record dims\n",
    "def attach_clean_and_dim(df, col='digest_embedding'):\n",
    "    df = df.copy()\n",
    "    df['__vec'] = df[col].apply(coerce_vec)\n",
    "    df = df[df['__vec'].notna()].reset_index(drop=True)\n",
    "    df['__dim'] = df['__vec'].apply(lambda x: int(x.shape[0]))\n",
    "    return df\n",
    "\n",
    "labeled_digests = attach_clean_and_dim(labeled_digests, 'digest_embedding')\n",
    "repairs = attach_clean_and_dim(repairs, 'digest_embedding') if 'repairs' in globals() and not repairs.empty else pd.DataFrame(columns=['__vec','__dim'])\n",
    "\n",
    "# -- choose a single target dimension (majority across both)\n",
    "dim_counts = Counter()\n",
    "dim_counts.update(labeled_digests['__dim'].tolist())\n",
    "dim_counts.update(repairs['__dim'].tolist())\n",
    "target_dim = dim_counts.most_common(1)[0][0] if len(dim_counts) else 0\n",
    "\n",
    "# -- filter both sets to the chosen dimension\n",
    "if target_dim > 0:\n",
    "    labeled_use = labeled_digests[labeled_digests['__dim'] == target_dim].reset_index(drop=True)\n",
    "    repairs_use = repairs[repairs['__dim'] == target_dim].reset_index(drop=True)\n",
    "else:\n",
    "    labeled_use = labeled_digests.iloc[0:0].copy()\n",
    "    repairs_use = repairs.iloc[0:0].copy()\n",
    "\n",
    "# -- build matrices\n",
    "if labeled_use.empty:\n",
    "    train_matrix = np.empty((0, 0), dtype=np.float32)\n",
    "    train_labels = np.array([], dtype=int)\n",
    "else:\n",
    "    train_matrix = normalize_embeddings(np.vstack(labeled_use['__vec'].to_numpy()))\n",
    "    train_labels = labeled_use['cluster'].to_numpy()\n",
    "\n",
    "if repairs_use.empty:\n",
    "    query_matrix = np.empty((0, 0), dtype=np.float32)\n",
    "else:\n",
    "    query_matrix = normalize_embeddings(np.vstack(repairs_use['__vec'].to_numpy()))\n"
   ]
  },
  {
   "cell_type": "code",
   "execution_count": null,
   "id": "4f6c14cf",
   "metadata": {},
   "outputs": [],
   "source": [
    "from sklearn.neighbors import NearestNeighbors\n",
    "\n",
    "if len(train_matrix) and len(query_matrix):\n",
    "    n_neighbors = min(15, len(train_matrix))\n",
    "    nn = NearestNeighbors(n_neighbors=n_neighbors, metric='cosine', algorithm='brute')\n",
    "    nn.fit(train_matrix)\n",
    "    distances, indices = nn.kneighbors(query_matrix, return_distance=True)\n",
    "\n",
    "    def weighted_vote(neighbor_indices, neighbor_distances):\n",
    "        sims = 1 - neighbor_distances\n",
    "        scores = defaultdict(float)\n",
    "        for idx, sim in zip(neighbor_indices, sims):\n",
    "            scores[train_labels[idx]] += float(sim)\n",
    "        return max(scores.items(), key=lambda item: item[1])[0]\n",
    "\n",
    "    predicted_clusters = [\n",
    "        weighted_vote(ind, dist) for ind, dist in zip(indices, distances)\n",
    "    ]\n",
    "    repairs['label_pred'] = predicted_clusters\n",
    "else:\n",
    "    repairs['label_pred'] = np.nan"
   ]
  },
  {
   "cell_type": "code",
   "execution_count": null,
   "id": "ff37214b",
   "metadata": {},
   "outputs": [],
   "source": [
    "reps = {k: v for k, v in repairs[['bill', 'label_pred']].values if pd.notna(v)}\n",
    "bbb = bill_labels.copy()\n",
    "bbb.update(reps)\n",
    "\n",
    "with open('bill_labels_updated.json', 'w') as f:\n",
    "    json.dump(bbb, f)"
   ]
  },
  {
   "cell_type": "code",
   "execution_count": null,
   "id": "a856df67",
   "metadata": {},
   "outputs": [],
   "source": []
  }
 ],
 "metadata": {
  "kernelspec": {
   "display_name": "ml",
   "language": "python",
   "name": "python3"
  },
  "language_info": {
   "codemirror_mode": {
    "name": "ipython",
    "version": 3
   },
   "file_extension": ".py",
   "mimetype": "text/x-python",
   "name": "python",
   "nbconvert_exporter": "python",
   "pygments_lexer": "ipython3",
   "version": "3.12.3"
  }
 },
 "nbformat": 4,
 "nbformat_minor": 5
}
