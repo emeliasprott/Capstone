{
 "cells": [
  {
   "cell_type": "code",
   "execution_count": 24,
   "id": "e10e4af2",
   "metadata": {},
   "outputs": [],
   "source": [
    "import re, torch, json, pickle, itertools\n",
    "import numpy as np\n",
    "import pandas as pd\n",
    "from tqdm import tqdm\n",
    "import networkx as nx\n",
    "from community import community_louvain\n",
    "from sklearn.mixture import GaussianMixture\n",
    "from sentence_transformers import SentenceTransformer, util\n",
    "from collections import Counter, defaultdict\n",
    "import warnings\n",
    "\n",
    "warnings.filterwarnings(\"ignore\", category=pd.errors.SettingWithCopyWarning)"
   ]
  },
  {
   "cell_type": "code",
   "execution_count": 3,
   "id": "2bd3f32f",
   "metadata": {},
   "outputs": [],
   "source": [
    "with open('bill_subjects.json', 'r') as f:\n",
    "    bill_subjects = json.load(f)"
   ]
  },
  {
   "cell_type": "code",
   "execution_count": 4,
   "id": "0c5afe66",
   "metadata": {},
   "outputs": [],
   "source": [
    "subject_originals = pickle.load(open('subjects_original.pkl', 'rb'))"
   ]
  },
  {
   "cell_type": "code",
   "execution_count": 5,
   "id": "fb8f7cf2",
   "metadata": {},
   "outputs": [],
   "source": [
    "so = {k: subject_originals[v] for k, v in bill_subjects.items() if v in subject_originals}"
   ]
  },
  {
   "cell_type": "code",
   "execution_count": 5,
   "id": "bb68ce21",
   "metadata": {},
   "outputs": [],
   "source": [
    "from rapidfuzz import process, fuzz\n",
    "\n",
    "def canonical(sub):\n",
    "    txt = sub.split(':')[0].lower()\n",
    "    txt = re.sub(r'[^a-z\\s]', ' ', txt)\n",
    "    txt = re.sub(r'(?:california|state|bill|law|act|amendment|proposition|measure|initiative|program|act|code|section|chapter|month|awareness|prevention)', '', txt)\n",
    "    txt = re.sub(r'\\s+', ' ', txt).strip()\n",
    "    return txt\n",
    "\n",
    "def fuzzy_bucket(subjects, thresh=87):\n",
    "    canons = {s: canonical(s) for s in subjects}\n",
    "    canon_list = list(set(canons.values()))\n",
    "    canon_to_subjects = defaultdict(list)\n",
    "    for s, c in canons.items():\n",
    "        canon_to_subjects[c].append(s)\n",
    "    buckets, assigned = [], set()\n",
    "    with tqdm(total=len(canon_list), desc='Fuzzy Buckets') as pbar:\n",
    "        for i, c in enumerate(canon_list):\n",
    "            if c in assigned:\n",
    "                pbar.update(1)\n",
    "                continue\n",
    "            group = []\n",
    "            for j in range(i, len(canon_list)):\n",
    "                d = canon_list[j]\n",
    "                if d in assigned:\n",
    "                    continue\n",
    "                if fuzz.token_sort_ratio(c, d) >= thresh:\n",
    "                    group.extend(canon_to_subjects[d])\n",
    "                    assigned.add(d)\n",
    "            if group:\n",
    "                buckets.append(group)\n",
    "            pbar.update(1)\n",
    "    return buckets\n",
    "\n",
    "def embed_subjects(subjs):\n",
    "    model = SentenceTransformer('all-MiniLM-L6-v2')\n",
    "    def sub_clean(s):\n",
    "        s = s.lower().strip()\n",
    "        s = re.sub(r'(?:california|state|bill|law|act|amendment|proposition|measure|initiative|program|act|code|section|chapter|month|awareness|prevention)', '', s)\n",
    "        s = re.sub(r'[^a-z\\s]', ' ', s)\n",
    "        s = re.sub(r'\\s+', ' ', s).strip()\n",
    "        return s\n",
    "    subjs = [sub_clean(s) for s in subjs]\n",
    "    subjs = [s for s in subjs if s]\n",
    "    embs = model.encode(subjs, normalize_embeddings=True, batch_size=128)\n",
    "    return np.asarray(embs)\n",
    "\n",
    "def gmm_soft_labels(embs, min_k=150, max_k=325):\n",
    "    best_bic, best_gmm = np.inf, None\n",
    "    for k in tqdm(np.linspace(min_k, max_k, 8, dtype=int)):\n",
    "        gmm = GaussianMixture(k, covariance_type='diag', random_state=0).fit(embs)\n",
    "        if gmm.bic(embs) < best_bic:\n",
    "            best_bic, best_gmm = gmm.bic(embs), gmm\n",
    "    probs = best_gmm.predict_proba(embs)\n",
    "    return probs\n",
    "\n",
    "def build_graph(subjects, fuzzy_buckets, soft_proba, alpha=0.35):\n",
    "    idx = {s:i for i,s in enumerate(subjects)}\n",
    "    N = len(subjects)\n",
    "    fuzzy_adj = np.zeros((N,N), dtype=float)\n",
    "    for bucket in fuzzy_buckets:\n",
    "        for a,b in itertools.combinations(bucket, 2):\n",
    "            fuzzy_adj[idx[a], idx[b]] = 1\n",
    "            fuzzy_adj[idx[b], idx[a]] = 1\n",
    "    embed_adj = soft_proba @ soft_proba.T\n",
    "    W = alpha * fuzzy_adj + (1-alpha) * embed_adj\n",
    "    G = nx.Graph()\n",
    "    for i,s in enumerate(subjects):\n",
    "        G.add_node(i, label=s)\n",
    "    rows, cols = np.where(W > 0.01)\n",
    "    for i,j in zip(rows, cols):\n",
    "        if i < j:\n",
    "            G.add_edge(i, j, weight=float(W[i,j]))\n",
    "    return G"
   ]
  },
  {
   "cell_type": "code",
   "execution_count": 6,
   "id": "520a3b0c",
   "metadata": {},
   "outputs": [
    {
     "name": "stderr",
     "output_type": "stream",
     "text": [
      "Fuzzy Buckets: 100%|██████████| 13433/13433 [02:16<00:00, 98.68it/s]  \n"
     ]
    }
   ],
   "source": [
    "subs = list(set(list(so.values())))\n",
    "buckets = fuzzy_bucket(subs, thresh=87)"
   ]
  },
  {
   "cell_type": "code",
   "execution_count": 7,
   "id": "a5e805c9",
   "metadata": {},
   "outputs": [],
   "source": [
    "embs = embed_subjects(subs)"
   ]
  },
  {
   "cell_type": "code",
   "execution_count": 8,
   "id": "f95521c5",
   "metadata": {},
   "outputs": [
    {
     "name": "stderr",
     "output_type": "stream",
     "text": [
      "  0%|          | 0/8 [00:00<?, ?it/s]huggingface/tokenizers: The current process just got forked, after parallelism has already been used. Disabling parallelism to avoid deadlocks...\n",
      "To disable this warning, you can either:\n",
      "\t- Avoid using `tokenizers` before the fork if possible\n",
      "\t- Explicitly set the environment variable TOKENIZERS_PARALLELISM=(true | false)\n",
      "100%|██████████| 8/8 [03:15<00:00, 24.39s/it]\n"
     ]
    }
   ],
   "source": [
    "soft_proba = gmm_soft_labels(embs)"
   ]
  },
  {
   "cell_type": "code",
   "execution_count": 9,
   "id": "f1929d57",
   "metadata": {},
   "outputs": [],
   "source": [
    "G = build_graph(subs, buckets, soft_proba, alpha=0.35)"
   ]
  },
  {
   "cell_type": "code",
   "execution_count": 10,
   "id": "87a40b5b",
   "metadata": {},
   "outputs": [],
   "source": [
    "def consensus_clusters(G):\n",
    "    part = community_louvain.best_partition(G, weight='weight', resolution=1.0)\n",
    "    clusters = defaultdict(list)\n",
    "    for node, cid in part.items():\n",
    "        clusters[cid].append(G.nodes[node]['label'])\n",
    "    return clusters"
   ]
  },
  {
   "cell_type": "code",
   "execution_count": 11,
   "id": "4d432942",
   "metadata": {},
   "outputs": [],
   "source": [
    "clusters = consensus_clusters(G)"
   ]
  },
  {
   "cell_type": "code",
   "execution_count": 12,
   "id": "b334edba",
   "metadata": {},
   "outputs": [],
   "source": [
    "def community_scale(G, r):\n",
    "    part = community_louvain.best_partition(G, weight='weight', resolution=r)\n",
    "    clusters = defaultdict(list)\n",
    "    for node, cid in part.items():\n",
    "        clusters[cid].append(G.nodes[node]['label'])\n",
    "    return clusters"
   ]
  },
  {
   "cell_type": "code",
   "execution_count": 13,
   "id": "0f29cdcd",
   "metadata": {},
   "outputs": [
    {
     "data": {
      "application/vnd.jupyter.widget-view+json": {
       "model_id": "8d44daf7cdb24cb7a685df8e362f082b",
       "version_major": 2,
       "version_minor": 0
      },
      "text/plain": [
       "Batches:   0%|          | 0/2 [00:00<?, ?it/s]"
      ]
     },
     "metadata": {},
     "output_type": "display_data"
    },
    {
     "data": {
      "application/vnd.jupyter.widget-view+json": {
       "model_id": "299a5bc3622f4cce8df045667678002f",
       "version_major": 2,
       "version_minor": 0
      },
      "text/plain": [
       "Batches:   0%|          | 0/2 [00:00<?, ?it/s]"
      ]
     },
     "metadata": {},
     "output_type": "display_data"
    },
    {
     "data": {
      "application/vnd.jupyter.widget-view+json": {
       "model_id": "3d750abc15a3422dbfcf5d10e631f35c",
       "version_major": 2,
       "version_minor": 0
      },
      "text/plain": [
       "Batches:   0%|          | 0/2 [00:00<?, ?it/s]"
      ]
     },
     "metadata": {},
     "output_type": "display_data"
    },
    {
     "data": {
      "application/vnd.jupyter.widget-view+json": {
       "model_id": "c54a2df2e4814ffca6255578f72485c8",
       "version_major": 2,
       "version_minor": 0
      },
      "text/plain": [
       "Batches:   0%|          | 0/3 [00:00<?, ?it/s]"
      ]
     },
     "metadata": {},
     "output_type": "display_data"
    },
    {
     "data": {
      "application/vnd.jupyter.widget-view+json": {
       "model_id": "2e7762f30b2243e595c7fc52aef89caa",
       "version_major": 2,
       "version_minor": 0
      },
      "text/plain": [
       "Batches:   0%|          | 0/2 [00:00<?, ?it/s]"
      ]
     },
     "metadata": {},
     "output_type": "display_data"
    },
    {
     "data": {
      "application/vnd.jupyter.widget-view+json": {
       "model_id": "ae52e191cac14a0e891ca5cfa6113e9c",
       "version_major": 2,
       "version_minor": 0
      },
      "text/plain": [
       "Batches:   0%|          | 0/4 [00:00<?, ?it/s]"
      ]
     },
     "metadata": {},
     "output_type": "display_data"
    },
    {
     "data": {
      "application/vnd.jupyter.widget-view+json": {
       "model_id": "ee9e7a0abb444473a5e30b78c07625fc",
       "version_major": 2,
       "version_minor": 0
      },
      "text/plain": [
       "Batches:   0%|          | 0/3 [00:00<?, ?it/s]"
      ]
     },
     "metadata": {},
     "output_type": "display_data"
    },
    {
     "data": {
      "application/vnd.jupyter.widget-view+json": {
       "model_id": "9be0e3802bb546a6bc4b04700b7a019d",
       "version_major": 2,
       "version_minor": 0
      },
      "text/plain": [
       "Batches:   0%|          | 0/3 [00:00<?, ?it/s]"
      ]
     },
     "metadata": {},
     "output_type": "display_data"
    },
    {
     "data": {
      "application/vnd.jupyter.widget-view+json": {
       "model_id": "159a6fb7ce4c4315bc9b07fa550cceb8",
       "version_major": 2,
       "version_minor": 0
      },
      "text/plain": [
       "Batches:   0%|          | 0/6 [00:00<?, ?it/s]"
      ]
     },
     "metadata": {},
     "output_type": "display_data"
    },
    {
     "data": {
      "application/vnd.jupyter.widget-view+json": {
       "model_id": "d834d37a92ea40038bc5b2ce74671ee7",
       "version_major": 2,
       "version_minor": 0
      },
      "text/plain": [
       "Batches:   0%|          | 0/3 [00:00<?, ?it/s]"
      ]
     },
     "metadata": {},
     "output_type": "display_data"
    },
    {
     "data": {
      "application/vnd.jupyter.widget-view+json": {
       "model_id": "f8719c1a7fda4311a8d8e7181c54d3a7",
       "version_major": 2,
       "version_minor": 0
      },
      "text/plain": [
       "Batches:   0%|          | 0/5 [00:00<?, ?it/s]"
      ]
     },
     "metadata": {},
     "output_type": "display_data"
    },
    {
     "data": {
      "application/vnd.jupyter.widget-view+json": {
       "model_id": "6d3c06b2b25b40179ccfd089910a387f",
       "version_major": 2,
       "version_minor": 0
      },
      "text/plain": [
       "Batches:   0%|          | 0/5 [00:00<?, ?it/s]"
      ]
     },
     "metadata": {},
     "output_type": "display_data"
    },
    {
     "data": {
      "application/vnd.jupyter.widget-view+json": {
       "model_id": "8b767339e88c43218a11b7b262897398",
       "version_major": 2,
       "version_minor": 0
      },
      "text/plain": [
       "Batches:   0%|          | 0/5 [00:00<?, ?it/s]"
      ]
     },
     "metadata": {},
     "output_type": "display_data"
    },
    {
     "data": {
      "application/vnd.jupyter.widget-view+json": {
       "model_id": "3799dd340ed34f3597e681703e23c21d",
       "version_major": 2,
       "version_minor": 0
      },
      "text/plain": [
       "Batches:   0%|          | 0/6 [00:00<?, ?it/s]"
      ]
     },
     "metadata": {},
     "output_type": "display_data"
    },
    {
     "data": {
      "application/vnd.jupyter.widget-view+json": {
       "model_id": "e9b3a410864b49229d54484f52f69c21",
       "version_major": 2,
       "version_minor": 0
      },
      "text/plain": [
       "Batches:   0%|          | 0/2 [00:00<?, ?it/s]"
      ]
     },
     "metadata": {},
     "output_type": "display_data"
    },
    {
     "data": {
      "application/vnd.jupyter.widget-view+json": {
       "model_id": "32dedb1c21194323bb05a3039d7c46b1",
       "version_major": 2,
       "version_minor": 0
      },
      "text/plain": [
       "Batches:   0%|          | 0/3 [00:00<?, ?it/s]"
      ]
     },
     "metadata": {},
     "output_type": "display_data"
    },
    {
     "data": {
      "application/vnd.jupyter.widget-view+json": {
       "model_id": "787e655b591344b590c2c6abadefea36",
       "version_major": 2,
       "version_minor": 0
      },
      "text/plain": [
       "Batches:   0%|          | 0/2 [00:00<?, ?it/s]"
      ]
     },
     "metadata": {},
     "output_type": "display_data"
    },
    {
     "data": {
      "application/vnd.jupyter.widget-view+json": {
       "model_id": "382f02a4eee14183a3477351ab60c66d",
       "version_major": 2,
       "version_minor": 0
      },
      "text/plain": [
       "Batches:   0%|          | 0/4 [00:00<?, ?it/s]"
      ]
     },
     "metadata": {},
     "output_type": "display_data"
    },
    {
     "data": {
      "application/vnd.jupyter.widget-view+json": {
       "model_id": "6de6b31eae7d413d8a328d40908180ae",
       "version_major": 2,
       "version_minor": 0
      },
      "text/plain": [
       "Batches:   0%|          | 0/2 [00:00<?, ?it/s]"
      ]
     },
     "metadata": {},
     "output_type": "display_data"
    },
    {
     "data": {
      "application/vnd.jupyter.widget-view+json": {
       "model_id": "790c20214a99421f9ec8f649166a7493",
       "version_major": 2,
       "version_minor": 0
      },
      "text/plain": [
       "Batches:   0%|          | 0/2 [00:00<?, ?it/s]"
      ]
     },
     "metadata": {},
     "output_type": "display_data"
    },
    {
     "data": {
      "application/vnd.jupyter.widget-view+json": {
       "model_id": "6c8aee6dc5114949964f8fcc4b008378",
       "version_major": 2,
       "version_minor": 0
      },
      "text/plain": [
       "Batches:   0%|          | 0/2 [00:00<?, ?it/s]"
      ]
     },
     "metadata": {},
     "output_type": "display_data"
    },
    {
     "data": {
      "application/vnd.jupyter.widget-view+json": {
       "model_id": "113ae80a6d074be9b41e57c4f091fac8",
       "version_major": 2,
       "version_minor": 0
      },
      "text/plain": [
       "Batches:   0%|          | 0/2 [00:00<?, ?it/s]"
      ]
     },
     "metadata": {},
     "output_type": "display_data"
    },
    {
     "data": {
      "application/vnd.jupyter.widget-view+json": {
       "model_id": "6955cacad1ed43af82529f92ee5d7b69",
       "version_major": 2,
       "version_minor": 0
      },
      "text/plain": [
       "Batches:   0%|          | 0/3 [00:00<?, ?it/s]"
      ]
     },
     "metadata": {},
     "output_type": "display_data"
    },
    {
     "data": {
      "application/vnd.jupyter.widget-view+json": {
       "model_id": "07ac286206404f2ea7c2e93d609a8bf9",
       "version_major": 2,
       "version_minor": 0
      },
      "text/plain": [
       "Batches:   0%|          | 0/2 [00:00<?, ?it/s]"
      ]
     },
     "metadata": {},
     "output_type": "display_data"
    },
    {
     "data": {
      "application/vnd.jupyter.widget-view+json": {
       "model_id": "c5f306c617b04ccdbcccdc6aaa166285",
       "version_major": 2,
       "version_minor": 0
      },
      "text/plain": [
       "Batches:   0%|          | 0/2 [00:00<?, ?it/s]"
      ]
     },
     "metadata": {},
     "output_type": "display_data"
    },
    {
     "data": {
      "application/vnd.jupyter.widget-view+json": {
       "model_id": "2b26eb2b20d44601afcfe435c16e3020",
       "version_major": 2,
       "version_minor": 0
      },
      "text/plain": [
       "Batches:   0%|          | 0/3 [00:00<?, ?it/s]"
      ]
     },
     "metadata": {},
     "output_type": "display_data"
    },
    {
     "data": {
      "application/vnd.jupyter.widget-view+json": {
       "model_id": "722723c029db404593b3a48bbe1fcdd8",
       "version_major": 2,
       "version_minor": 0
      },
      "text/plain": [
       "Batches:   0%|          | 0/1 [00:00<?, ?it/s]"
      ]
     },
     "metadata": {},
     "output_type": "display_data"
    },
    {
     "data": {
      "application/vnd.jupyter.widget-view+json": {
       "model_id": "1c28c1ee02d24d488737db5cef3a6ef5",
       "version_major": 2,
       "version_minor": 0
      },
      "text/plain": [
       "Batches:   0%|          | 0/6 [00:00<?, ?it/s]"
      ]
     },
     "metadata": {},
     "output_type": "display_data"
    },
    {
     "data": {
      "application/vnd.jupyter.widget-view+json": {
       "model_id": "b087663c3321419a828a7c6a74553d37",
       "version_major": 2,
       "version_minor": 0
      },
      "text/plain": [
       "Batches:   0%|          | 0/2 [00:00<?, ?it/s]"
      ]
     },
     "metadata": {},
     "output_type": "display_data"
    },
    {
     "data": {
      "application/vnd.jupyter.widget-view+json": {
       "model_id": "95cd2f08763348d8ab4dd10577bcb16a",
       "version_major": 2,
       "version_minor": 0
      },
      "text/plain": [
       "Batches:   0%|          | 0/2 [00:00<?, ?it/s]"
      ]
     },
     "metadata": {},
     "output_type": "display_data"
    },
    {
     "data": {
      "application/vnd.jupyter.widget-view+json": {
       "model_id": "4df029ebc6654008936032a124986da1",
       "version_major": 2,
       "version_minor": 0
      },
      "text/plain": [
       "Batches:   0%|          | 0/2 [00:00<?, ?it/s]"
      ]
     },
     "metadata": {},
     "output_type": "display_data"
    },
    {
     "data": {
      "application/vnd.jupyter.widget-view+json": {
       "model_id": "03cf9c2275574926bdf1d8172acd9132",
       "version_major": 2,
       "version_minor": 0
      },
      "text/plain": [
       "Batches:   0%|          | 0/2 [00:00<?, ?it/s]"
      ]
     },
     "metadata": {},
     "output_type": "display_data"
    },
    {
     "data": {
      "application/vnd.jupyter.widget-view+json": {
       "model_id": "431077b78c5943df912095ee9efd08b3",
       "version_major": 2,
       "version_minor": 0
      },
      "text/plain": [
       "Batches:   0%|          | 0/5 [00:00<?, ?it/s]"
      ]
     },
     "metadata": {},
     "output_type": "display_data"
    },
    {
     "data": {
      "application/vnd.jupyter.widget-view+json": {
       "model_id": "80ab2ceab7914214a5bf25b411acf752",
       "version_major": 2,
       "version_minor": 0
      },
      "text/plain": [
       "Batches:   0%|          | 0/2 [00:00<?, ?it/s]"
      ]
     },
     "metadata": {},
     "output_type": "display_data"
    },
    {
     "data": {
      "application/vnd.jupyter.widget-view+json": {
       "model_id": "16ae043041bb4b8d8a83454ccce17744",
       "version_major": 2,
       "version_minor": 0
      },
      "text/plain": [
       "Batches:   0%|          | 0/7 [00:00<?, ?it/s]"
      ]
     },
     "metadata": {},
     "output_type": "display_data"
    },
    {
     "data": {
      "application/vnd.jupyter.widget-view+json": {
       "model_id": "47313c4f81fb4c01b79b729af9536f71",
       "version_major": 2,
       "version_minor": 0
      },
      "text/plain": [
       "Batches:   0%|          | 0/8 [00:00<?, ?it/s]"
      ]
     },
     "metadata": {},
     "output_type": "display_data"
    },
    {
     "data": {
      "application/vnd.jupyter.widget-view+json": {
       "model_id": "b8200a4b67524b9fac91fa65e2fbaaba",
       "version_major": 2,
       "version_minor": 0
      },
      "text/plain": [
       "Batches:   0%|          | 0/7 [00:00<?, ?it/s]"
      ]
     },
     "metadata": {},
     "output_type": "display_data"
    },
    {
     "data": {
      "application/vnd.jupyter.widget-view+json": {
       "model_id": "b2978ecd89d14ba29d221dcf4f7438bf",
       "version_major": 2,
       "version_minor": 0
      },
      "text/plain": [
       "Batches:   0%|          | 0/1 [00:00<?, ?it/s]"
      ]
     },
     "metadata": {},
     "output_type": "display_data"
    },
    {
     "data": {
      "application/vnd.jupyter.widget-view+json": {
       "model_id": "28193ae247d147738abbcdce2e86b2f6",
       "version_major": 2,
       "version_minor": 0
      },
      "text/plain": [
       "Batches:   0%|          | 0/2 [00:00<?, ?it/s]"
      ]
     },
     "metadata": {},
     "output_type": "display_data"
    },
    {
     "data": {
      "application/vnd.jupyter.widget-view+json": {
       "model_id": "0af38164451a46af9b3887ac03d2e7d2",
       "version_major": 2,
       "version_minor": 0
      },
      "text/plain": [
       "Batches:   0%|          | 0/4 [00:00<?, ?it/s]"
      ]
     },
     "metadata": {},
     "output_type": "display_data"
    },
    {
     "data": {
      "application/vnd.jupyter.widget-view+json": {
       "model_id": "f8a1ecbcff7647bd805a0135492b23b7",
       "version_major": 2,
       "version_minor": 0
      },
      "text/plain": [
       "Batches:   0%|          | 0/2 [00:00<?, ?it/s]"
      ]
     },
     "metadata": {},
     "output_type": "display_data"
    },
    {
     "data": {
      "application/vnd.jupyter.widget-view+json": {
       "model_id": "79db974b71fa4f67a119476ff0159bc7",
       "version_major": 2,
       "version_minor": 0
      },
      "text/plain": [
       "Batches:   0%|          | 0/3 [00:00<?, ?it/s]"
      ]
     },
     "metadata": {},
     "output_type": "display_data"
    },
    {
     "data": {
      "application/vnd.jupyter.widget-view+json": {
       "model_id": "45ba02c7b7e7483984205cd619b82d90",
       "version_major": 2,
       "version_minor": 0
      },
      "text/plain": [
       "Batches:   0%|          | 0/3 [00:00<?, ?it/s]"
      ]
     },
     "metadata": {},
     "output_type": "display_data"
    },
    {
     "data": {
      "application/vnd.jupyter.widget-view+json": {
       "model_id": "d146750420354802a61844cddf5fc272",
       "version_major": 2,
       "version_minor": 0
      },
      "text/plain": [
       "Batches:   0%|          | 0/4 [00:00<?, ?it/s]"
      ]
     },
     "metadata": {},
     "output_type": "display_data"
    },
    {
     "data": {
      "application/vnd.jupyter.widget-view+json": {
       "model_id": "57869448f0e049b0b9751aa5205d40de",
       "version_major": 2,
       "version_minor": 0
      },
      "text/plain": [
       "Batches:   0%|          | 0/4 [00:00<?, ?it/s]"
      ]
     },
     "metadata": {},
     "output_type": "display_data"
    },
    {
     "data": {
      "application/vnd.jupyter.widget-view+json": {
       "model_id": "0f824eb22cc04b39b260cc32f0a36341",
       "version_major": 2,
       "version_minor": 0
      },
      "text/plain": [
       "Batches:   0%|          | 0/3 [00:00<?, ?it/s]"
      ]
     },
     "metadata": {},
     "output_type": "display_data"
    },
    {
     "data": {
      "application/vnd.jupyter.widget-view+json": {
       "model_id": "2855cef20f8c4d3e9daddb982ad9a98c",
       "version_major": 2,
       "version_minor": 0
      },
      "text/plain": [
       "Batches:   0%|          | 0/1 [00:00<?, ?it/s]"
      ]
     },
     "metadata": {},
     "output_type": "display_data"
    },
    {
     "data": {
      "application/vnd.jupyter.widget-view+json": {
       "model_id": "44b1260fbb064e1cb4026608ca443eec",
       "version_major": 2,
       "version_minor": 0
      },
      "text/plain": [
       "Batches:   0%|          | 0/2 [00:00<?, ?it/s]"
      ]
     },
     "metadata": {},
     "output_type": "display_data"
    },
    {
     "data": {
      "application/vnd.jupyter.widget-view+json": {
       "model_id": "59b4815d1aef49dea2d46e5c9cba7905",
       "version_major": 2,
       "version_minor": 0
      },
      "text/plain": [
       "Batches:   0%|          | 0/2 [00:00<?, ?it/s]"
      ]
     },
     "metadata": {},
     "output_type": "display_data"
    },
    {
     "data": {
      "application/vnd.jupyter.widget-view+json": {
       "model_id": "4bb2a292aac34332a0a5aeea3c49d785",
       "version_major": 2,
       "version_minor": 0
      },
      "text/plain": [
       "Batches:   0%|          | 0/13 [00:00<?, ?it/s]"
      ]
     },
     "metadata": {},
     "output_type": "display_data"
    },
    {
     "data": {
      "application/vnd.jupyter.widget-view+json": {
       "model_id": "92e45a7fa4e34313953240116da60e46",
       "version_major": 2,
       "version_minor": 0
      },
      "text/plain": [
       "Batches:   0%|          | 0/3 [00:00<?, ?it/s]"
      ]
     },
     "metadata": {},
     "output_type": "display_data"
    },
    {
     "data": {
      "application/vnd.jupyter.widget-view+json": {
       "model_id": "e16cde9630754a6a8116d2744ff1be8e",
       "version_major": 2,
       "version_minor": 0
      },
      "text/plain": [
       "Batches:   0%|          | 0/2 [00:00<?, ?it/s]"
      ]
     },
     "metadata": {},
     "output_type": "display_data"
    },
    {
     "data": {
      "application/vnd.jupyter.widget-view+json": {
       "model_id": "a8229141eb69434a8f3e77f632bdf716",
       "version_major": 2,
       "version_minor": 0
      },
      "text/plain": [
       "Batches:   0%|          | 0/3 [00:00<?, ?it/s]"
      ]
     },
     "metadata": {},
     "output_type": "display_data"
    },
    {
     "data": {
      "application/vnd.jupyter.widget-view+json": {
       "model_id": "7580dbad0bb0489693dd3e413f6f14af",
       "version_major": 2,
       "version_minor": 0
      },
      "text/plain": [
       "Batches:   0%|          | 0/2 [00:00<?, ?it/s]"
      ]
     },
     "metadata": {},
     "output_type": "display_data"
    },
    {
     "data": {
      "application/vnd.jupyter.widget-view+json": {
       "model_id": "ebe52d0e7f9b47c28c9a60bf9b87bf9a",
       "version_major": 2,
       "version_minor": 0
      },
      "text/plain": [
       "Batches:   0%|          | 0/7 [00:00<?, ?it/s]"
      ]
     },
     "metadata": {},
     "output_type": "display_data"
    },
    {
     "data": {
      "application/vnd.jupyter.widget-view+json": {
       "model_id": "dbcdc0dba84c44a89158f6583846d28a",
       "version_major": 2,
       "version_minor": 0
      },
      "text/plain": [
       "Batches:   0%|          | 0/2 [00:00<?, ?it/s]"
      ]
     },
     "metadata": {},
     "output_type": "display_data"
    },
    {
     "data": {
      "application/vnd.jupyter.widget-view+json": {
       "model_id": "cb53e537426249c893fa70a3a1c55da8",
       "version_major": 2,
       "version_minor": 0
      },
      "text/plain": [
       "Batches:   0%|          | 0/3 [00:00<?, ?it/s]"
      ]
     },
     "metadata": {},
     "output_type": "display_data"
    },
    {
     "data": {
      "application/vnd.jupyter.widget-view+json": {
       "model_id": "4e3457c7b0374ba7bf0b94f023152e99",
       "version_major": 2,
       "version_minor": 0
      },
      "text/plain": [
       "Batches:   0%|          | 0/2 [00:00<?, ?it/s]"
      ]
     },
     "metadata": {},
     "output_type": "display_data"
    },
    {
     "data": {
      "application/vnd.jupyter.widget-view+json": {
       "model_id": "005db208734744ed86b741dd737257f9",
       "version_major": 2,
       "version_minor": 0
      },
      "text/plain": [
       "Batches:   0%|          | 0/3 [00:00<?, ?it/s]"
      ]
     },
     "metadata": {},
     "output_type": "display_data"
    },
    {
     "data": {
      "application/vnd.jupyter.widget-view+json": {
       "model_id": "6c109bf4d7ba4a77a1a848c11915a6fc",
       "version_major": 2,
       "version_minor": 0
      },
      "text/plain": [
       "Batches:   0%|          | 0/2 [00:00<?, ?it/s]"
      ]
     },
     "metadata": {},
     "output_type": "display_data"
    },
    {
     "data": {
      "application/vnd.jupyter.widget-view+json": {
       "model_id": "e0b3e5fdda034aecb33c36dfad7a9f71",
       "version_major": 2,
       "version_minor": 0
      },
      "text/plain": [
       "Batches:   0%|          | 0/2 [00:00<?, ?it/s]"
      ]
     },
     "metadata": {},
     "output_type": "display_data"
    },
    {
     "data": {
      "application/vnd.jupyter.widget-view+json": {
       "model_id": "33a2d9c6047a4709a48c9553607021b4",
       "version_major": 2,
       "version_minor": 0
      },
      "text/plain": [
       "Batches:   0%|          | 0/2 [00:00<?, ?it/s]"
      ]
     },
     "metadata": {},
     "output_type": "display_data"
    },
    {
     "data": {
      "application/vnd.jupyter.widget-view+json": {
       "model_id": "d7a6012644e34f22b74d5b3e66d41e4b",
       "version_major": 2,
       "version_minor": 0
      },
      "text/plain": [
       "Batches:   0%|          | 0/3 [00:00<?, ?it/s]"
      ]
     },
     "metadata": {},
     "output_type": "display_data"
    },
    {
     "data": {
      "application/vnd.jupyter.widget-view+json": {
       "model_id": "1f3b799b4a1c40e58248320eeeab0fac",
       "version_major": 2,
       "version_minor": 0
      },
      "text/plain": [
       "Batches:   0%|          | 0/2 [00:00<?, ?it/s]"
      ]
     },
     "metadata": {},
     "output_type": "display_data"
    },
    {
     "data": {
      "application/vnd.jupyter.widget-view+json": {
       "model_id": "40f7472a1aeb4dbfbdff45a577f33143",
       "version_major": 2,
       "version_minor": 0
      },
      "text/plain": [
       "Batches:   0%|          | 0/2 [00:00<?, ?it/s]"
      ]
     },
     "metadata": {},
     "output_type": "display_data"
    },
    {
     "data": {
      "application/vnd.jupyter.widget-view+json": {
       "model_id": "bff519bb420a49a5a27cd0e09845835d",
       "version_major": 2,
       "version_minor": 0
      },
      "text/plain": [
       "Batches:   0%|          | 0/3 [00:00<?, ?it/s]"
      ]
     },
     "metadata": {},
     "output_type": "display_data"
    },
    {
     "data": {
      "application/vnd.jupyter.widget-view+json": {
       "model_id": "b2061ba8342c40859226f2e6c4ee68f6",
       "version_major": 2,
       "version_minor": 0
      },
      "text/plain": [
       "Batches:   0%|          | 0/2 [00:00<?, ?it/s]"
      ]
     },
     "metadata": {},
     "output_type": "display_data"
    },
    {
     "data": {
      "application/vnd.jupyter.widget-view+json": {
       "model_id": "f623e20438b04f079299a91c7056a133",
       "version_major": 2,
       "version_minor": 0
      },
      "text/plain": [
       "Batches:   0%|          | 0/1 [00:00<?, ?it/s]"
      ]
     },
     "metadata": {},
     "output_type": "display_data"
    },
    {
     "data": {
      "application/vnd.jupyter.widget-view+json": {
       "model_id": "440516f2c4874d9cb38095525c170372",
       "version_major": 2,
       "version_minor": 0
      },
      "text/plain": [
       "Batches:   0%|          | 0/1 [00:00<?, ?it/s]"
      ]
     },
     "metadata": {},
     "output_type": "display_data"
    },
    {
     "data": {
      "application/vnd.jupyter.widget-view+json": {
       "model_id": "84a3c2ef2ec44c07b0cdbedff88fada8",
       "version_major": 2,
       "version_minor": 0
      },
      "text/plain": [
       "Batches:   0%|          | 0/1 [00:00<?, ?it/s]"
      ]
     },
     "metadata": {},
     "output_type": "display_data"
    },
    {
     "data": {
      "application/vnd.jupyter.widget-view+json": {
       "model_id": "9105400d5e114bae99f08e3a7b32d102",
       "version_major": 2,
       "version_minor": 0
      },
      "text/plain": [
       "Batches:   0%|          | 0/1 [00:00<?, ?it/s]"
      ]
     },
     "metadata": {},
     "output_type": "display_data"
    },
    {
     "data": {
      "application/vnd.jupyter.widget-view+json": {
       "model_id": "c7972a1dad654b87a8f080eca8b96b84",
       "version_major": 2,
       "version_minor": 0
      },
      "text/plain": [
       "Batches:   0%|          | 0/2 [00:00<?, ?it/s]"
      ]
     },
     "metadata": {},
     "output_type": "display_data"
    },
    {
     "data": {
      "application/vnd.jupyter.widget-view+json": {
       "model_id": "1378fb36bdd14e85985476ba65e3c37d",
       "version_major": 2,
       "version_minor": 0
      },
      "text/plain": [
       "Batches:   0%|          | 0/2 [00:00<?, ?it/s]"
      ]
     },
     "metadata": {},
     "output_type": "display_data"
    },
    {
     "data": {
      "application/vnd.jupyter.widget-view+json": {
       "model_id": "e55c2f758e43497da725653c7417acb4",
       "version_major": 2,
       "version_minor": 0
      },
      "text/plain": [
       "Batches:   0%|          | 0/2 [00:00<?, ?it/s]"
      ]
     },
     "metadata": {},
     "output_type": "display_data"
    },
    {
     "data": {
      "application/vnd.jupyter.widget-view+json": {
       "model_id": "0eebcebb104a490bb12f073c05e25ca2",
       "version_major": 2,
       "version_minor": 0
      },
      "text/plain": [
       "Batches:   0%|          | 0/2 [00:00<?, ?it/s]"
      ]
     },
     "metadata": {},
     "output_type": "display_data"
    },
    {
     "data": {
      "application/vnd.jupyter.widget-view+json": {
       "model_id": "85c0aa920d394d82b76e88ffed0d8d85",
       "version_major": 2,
       "version_minor": 0
      },
      "text/plain": [
       "Batches:   0%|          | 0/2 [00:00<?, ?it/s]"
      ]
     },
     "metadata": {},
     "output_type": "display_data"
    },
    {
     "data": {
      "application/vnd.jupyter.widget-view+json": {
       "model_id": "53aa708fcd05404cac9b0f30f8f95051",
       "version_major": 2,
       "version_minor": 0
      },
      "text/plain": [
       "Batches:   0%|          | 0/2 [00:00<?, ?it/s]"
      ]
     },
     "metadata": {},
     "output_type": "display_data"
    },
    {
     "data": {
      "application/vnd.jupyter.widget-view+json": {
       "model_id": "af6bf11de8e94945a234191e28b8f6e9",
       "version_major": 2,
       "version_minor": 0
      },
      "text/plain": [
       "Batches:   0%|          | 0/2 [00:00<?, ?it/s]"
      ]
     },
     "metadata": {},
     "output_type": "display_data"
    },
    {
     "data": {
      "application/vnd.jupyter.widget-view+json": {
       "model_id": "ddc46a8000d8418e95c89293c0f348b7",
       "version_major": 2,
       "version_minor": 0
      },
      "text/plain": [
       "Batches:   0%|          | 0/3 [00:00<?, ?it/s]"
      ]
     },
     "metadata": {},
     "output_type": "display_data"
    },
    {
     "data": {
      "application/vnd.jupyter.widget-view+json": {
       "model_id": "509b3081605444a2a1d94041d9c8abcc",
       "version_major": 2,
       "version_minor": 0
      },
      "text/plain": [
       "Batches:   0%|          | 0/3 [00:00<?, ?it/s]"
      ]
     },
     "metadata": {},
     "output_type": "display_data"
    },
    {
     "data": {
      "application/vnd.jupyter.widget-view+json": {
       "model_id": "43dc33a56ee441d0b8e60d2d6959f12e",
       "version_major": 2,
       "version_minor": 0
      },
      "text/plain": [
       "Batches:   0%|          | 0/2 [00:00<?, ?it/s]"
      ]
     },
     "metadata": {},
     "output_type": "display_data"
    },
    {
     "data": {
      "application/vnd.jupyter.widget-view+json": {
       "model_id": "d46086a09fa44d969d5c552ad5ef9dc2",
       "version_major": 2,
       "version_minor": 0
      },
      "text/plain": [
       "Batches:   0%|          | 0/2 [00:00<?, ?it/s]"
      ]
     },
     "metadata": {},
     "output_type": "display_data"
    },
    {
     "data": {
      "application/vnd.jupyter.widget-view+json": {
       "model_id": "22062f2089574e018ad9185cbb74d08f",
       "version_major": 2,
       "version_minor": 0
      },
      "text/plain": [
       "Batches:   0%|          | 0/1 [00:00<?, ?it/s]"
      ]
     },
     "metadata": {},
     "output_type": "display_data"
    },
    {
     "data": {
      "application/vnd.jupyter.widget-view+json": {
       "model_id": "8d9ab1c4386a40fc9edcbf288754e08d",
       "version_major": 2,
       "version_minor": 0
      },
      "text/plain": [
       "Batches:   0%|          | 0/2 [00:00<?, ?it/s]"
      ]
     },
     "metadata": {},
     "output_type": "display_data"
    },
    {
     "data": {
      "application/vnd.jupyter.widget-view+json": {
       "model_id": "275a21238efc4ab9b868efd7abe55926",
       "version_major": 2,
       "version_minor": 0
      },
      "text/plain": [
       "Batches:   0%|          | 0/2 [00:00<?, ?it/s]"
      ]
     },
     "metadata": {},
     "output_type": "display_data"
    },
    {
     "data": {
      "application/vnd.jupyter.widget-view+json": {
       "model_id": "f00ac1962d0849998f434defa733985d",
       "version_major": 2,
       "version_minor": 0
      },
      "text/plain": [
       "Batches:   0%|          | 0/2 [00:00<?, ?it/s]"
      ]
     },
     "metadata": {},
     "output_type": "display_data"
    },
    {
     "data": {
      "application/vnd.jupyter.widget-view+json": {
       "model_id": "b7c7256e4a504e7285c0000181ff36aa",
       "version_major": 2,
       "version_minor": 0
      },
      "text/plain": [
       "Batches:   0%|          | 0/2 [00:00<?, ?it/s]"
      ]
     },
     "metadata": {},
     "output_type": "display_data"
    },
    {
     "data": {
      "application/vnd.jupyter.widget-view+json": {
       "model_id": "876f034d2e4b454981232739937bf456",
       "version_major": 2,
       "version_minor": 0
      },
      "text/plain": [
       "Batches:   0%|          | 0/2 [00:00<?, ?it/s]"
      ]
     },
     "metadata": {},
     "output_type": "display_data"
    },
    {
     "data": {
      "application/vnd.jupyter.widget-view+json": {
       "model_id": "a6dac60934d14324a5dcf05134783bac",
       "version_major": 2,
       "version_minor": 0
      },
      "text/plain": [
       "Batches:   0%|          | 0/2 [00:00<?, ?it/s]"
      ]
     },
     "metadata": {},
     "output_type": "display_data"
    },
    {
     "data": {
      "application/vnd.jupyter.widget-view+json": {
       "model_id": "5c26ec2668f342bd8461e4e2e2ed3fe8",
       "version_major": 2,
       "version_minor": 0
      },
      "text/plain": [
       "Batches:   0%|          | 0/2 [00:00<?, ?it/s]"
      ]
     },
     "metadata": {},
     "output_type": "display_data"
    },
    {
     "data": {
      "application/vnd.jupyter.widget-view+json": {
       "model_id": "2ed8191cc0984c8eaf39137a6c71e55f",
       "version_major": 2,
       "version_minor": 0
      },
      "text/plain": [
       "Batches:   0%|          | 0/2 [00:00<?, ?it/s]"
      ]
     },
     "metadata": {},
     "output_type": "display_data"
    },
    {
     "data": {
      "application/vnd.jupyter.widget-view+json": {
       "model_id": "78b296bf5cdc450c89b9fc29ea8ce6c8",
       "version_major": 2,
       "version_minor": 0
      },
      "text/plain": [
       "Batches:   0%|          | 0/2 [00:00<?, ?it/s]"
      ]
     },
     "metadata": {},
     "output_type": "display_data"
    },
    {
     "data": {
      "application/vnd.jupyter.widget-view+json": {
       "model_id": "ea01a434712646cbbaf9ce2d69264941",
       "version_major": 2,
       "version_minor": 0
      },
      "text/plain": [
       "Batches:   0%|          | 0/2 [00:00<?, ?it/s]"
      ]
     },
     "metadata": {},
     "output_type": "display_data"
    },
    {
     "data": {
      "application/vnd.jupyter.widget-view+json": {
       "model_id": "cade49f00bca4f128a4ed937b0cfeee0",
       "version_major": 2,
       "version_minor": 0
      },
      "text/plain": [
       "Batches:   0%|          | 0/1 [00:00<?, ?it/s]"
      ]
     },
     "metadata": {},
     "output_type": "display_data"
    },
    {
     "data": {
      "application/vnd.jupyter.widget-view+json": {
       "model_id": "2c23459f65bf424693678ab8bee03741",
       "version_major": 2,
       "version_minor": 0
      },
      "text/plain": [
       "Batches:   0%|          | 0/2 [00:00<?, ?it/s]"
      ]
     },
     "metadata": {},
     "output_type": "display_data"
    },
    {
     "data": {
      "application/vnd.jupyter.widget-view+json": {
       "model_id": "56aa8672f5b644f6837c6352d6293c1f",
       "version_major": 2,
       "version_minor": 0
      },
      "text/plain": [
       "Batches:   0%|          | 0/2 [00:00<?, ?it/s]"
      ]
     },
     "metadata": {},
     "output_type": "display_data"
    },
    {
     "data": {
      "application/vnd.jupyter.widget-view+json": {
       "model_id": "55d707b0aff34f5eb7189f798ee35c09",
       "version_major": 2,
       "version_minor": 0
      },
      "text/plain": [
       "Batches:   0%|          | 0/2 [00:00<?, ?it/s]"
      ]
     },
     "metadata": {},
     "output_type": "display_data"
    },
    {
     "data": {
      "application/vnd.jupyter.widget-view+json": {
       "model_id": "a48dbadfe902406c8dc90b9add3d1b2e",
       "version_major": 2,
       "version_minor": 0
      },
      "text/plain": [
       "Batches:   0%|          | 0/2 [00:00<?, ?it/s]"
      ]
     },
     "metadata": {},
     "output_type": "display_data"
    },
    {
     "data": {
      "application/vnd.jupyter.widget-view+json": {
       "model_id": "15941031a921436ab160f914d30e9b2f",
       "version_major": 2,
       "version_minor": 0
      },
      "text/plain": [
       "Batches:   0%|          | 0/1 [00:00<?, ?it/s]"
      ]
     },
     "metadata": {},
     "output_type": "display_data"
    },
    {
     "data": {
      "application/vnd.jupyter.widget-view+json": {
       "model_id": "4fbd1e4393d2462b810a2836bc9309b5",
       "version_major": 2,
       "version_minor": 0
      },
      "text/plain": [
       "Batches:   0%|          | 0/2 [00:00<?, ?it/s]"
      ]
     },
     "metadata": {},
     "output_type": "display_data"
    },
    {
     "data": {
      "application/vnd.jupyter.widget-view+json": {
       "model_id": "8dff4b46eee445c8951279b1a1d4517b",
       "version_major": 2,
       "version_minor": 0
      },
      "text/plain": [
       "Batches:   0%|          | 0/2 [00:00<?, ?it/s]"
      ]
     },
     "metadata": {},
     "output_type": "display_data"
    },
    {
     "data": {
      "application/vnd.jupyter.widget-view+json": {
       "model_id": "4b34169f9b044aed955130b7209ab464",
       "version_major": 2,
       "version_minor": 0
      },
      "text/plain": [
       "Batches:   0%|          | 0/3 [00:00<?, ?it/s]"
      ]
     },
     "metadata": {},
     "output_type": "display_data"
    },
    {
     "data": {
      "application/vnd.jupyter.widget-view+json": {
       "model_id": "99395b7fbc0543b09f6f7e967759eccc",
       "version_major": 2,
       "version_minor": 0
      },
      "text/plain": [
       "Batches:   0%|          | 0/2 [00:00<?, ?it/s]"
      ]
     },
     "metadata": {},
     "output_type": "display_data"
    },
    {
     "data": {
      "application/vnd.jupyter.widget-view+json": {
       "model_id": "4d3754e2358b416cae534263f3c0fd28",
       "version_major": 2,
       "version_minor": 0
      },
      "text/plain": [
       "Batches:   0%|          | 0/3 [00:00<?, ?it/s]"
      ]
     },
     "metadata": {},
     "output_type": "display_data"
    },
    {
     "data": {
      "application/vnd.jupyter.widget-view+json": {
       "model_id": "aa7fe2af07834d4daeb35e38b25cd652",
       "version_major": 2,
       "version_minor": 0
      },
      "text/plain": [
       "Batches:   0%|          | 0/1 [00:00<?, ?it/s]"
      ]
     },
     "metadata": {},
     "output_type": "display_data"
    },
    {
     "data": {
      "application/vnd.jupyter.widget-view+json": {
       "model_id": "dae8483b8aae4abf8aacdf102a04fd42",
       "version_major": 2,
       "version_minor": 0
      },
      "text/plain": [
       "Batches:   0%|          | 0/2 [00:00<?, ?it/s]"
      ]
     },
     "metadata": {},
     "output_type": "display_data"
    },
    {
     "data": {
      "application/vnd.jupyter.widget-view+json": {
       "model_id": "ad8ef916699b41e8892bf07ce4df03e2",
       "version_major": 2,
       "version_minor": 0
      },
      "text/plain": [
       "Batches:   0%|          | 0/3 [00:00<?, ?it/s]"
      ]
     },
     "metadata": {},
     "output_type": "display_data"
    },
    {
     "data": {
      "application/vnd.jupyter.widget-view+json": {
       "model_id": "711bf5954d6e4c44a51bb26ec8ab277b",
       "version_major": 2,
       "version_minor": 0
      },
      "text/plain": [
       "Batches:   0%|          | 0/1 [00:00<?, ?it/s]"
      ]
     },
     "metadata": {},
     "output_type": "display_data"
    },
    {
     "data": {
      "application/vnd.jupyter.widget-view+json": {
       "model_id": "1843074e378f40308a0da874eccb591f",
       "version_major": 2,
       "version_minor": 0
      },
      "text/plain": [
       "Batches:   0%|          | 0/2 [00:00<?, ?it/s]"
      ]
     },
     "metadata": {},
     "output_type": "display_data"
    },
    {
     "data": {
      "application/vnd.jupyter.widget-view+json": {
       "model_id": "0d3eb0fa5a504f3bb3e742218d16684e",
       "version_major": 2,
       "version_minor": 0
      },
      "text/plain": [
       "Batches:   0%|          | 0/3 [00:00<?, ?it/s]"
      ]
     },
     "metadata": {},
     "output_type": "display_data"
    },
    {
     "data": {
      "application/vnd.jupyter.widget-view+json": {
       "model_id": "77dff15b2737406c9145c63a548c40a1",
       "version_major": 2,
       "version_minor": 0
      },
      "text/plain": [
       "Batches:   0%|          | 0/2 [00:00<?, ?it/s]"
      ]
     },
     "metadata": {},
     "output_type": "display_data"
    },
    {
     "data": {
      "application/vnd.jupyter.widget-view+json": {
       "model_id": "a2656ed33a0c4cd483a29b6db56799fe",
       "version_major": 2,
       "version_minor": 0
      },
      "text/plain": [
       "Batches:   0%|          | 0/2 [00:00<?, ?it/s]"
      ]
     },
     "metadata": {},
     "output_type": "display_data"
    },
    {
     "data": {
      "application/vnd.jupyter.widget-view+json": {
       "model_id": "183aec64262d45359b150da493111e79",
       "version_major": 2,
       "version_minor": 0
      },
      "text/plain": [
       "Batches:   0%|          | 0/1 [00:00<?, ?it/s]"
      ]
     },
     "metadata": {},
     "output_type": "display_data"
    },
    {
     "data": {
      "application/vnd.jupyter.widget-view+json": {
       "model_id": "f0e2a3f4181c4ac9a2ca13f995700641",
       "version_major": 2,
       "version_minor": 0
      },
      "text/plain": [
       "Batches:   0%|          | 0/3 [00:00<?, ?it/s]"
      ]
     },
     "metadata": {},
     "output_type": "display_data"
    },
    {
     "data": {
      "application/vnd.jupyter.widget-view+json": {
       "model_id": "3595b094283240fd959194d27d9959f8",
       "version_major": 2,
       "version_minor": 0
      },
      "text/plain": [
       "Batches:   0%|          | 0/2 [00:00<?, ?it/s]"
      ]
     },
     "metadata": {},
     "output_type": "display_data"
    },
    {
     "data": {
      "application/vnd.jupyter.widget-view+json": {
       "model_id": "a5b56a9d74374923a29cf09459ba4f67",
       "version_major": 2,
       "version_minor": 0
      },
      "text/plain": [
       "Batches:   0%|          | 0/2 [00:00<?, ?it/s]"
      ]
     },
     "metadata": {},
     "output_type": "display_data"
    },
    {
     "data": {
      "application/vnd.jupyter.widget-view+json": {
       "model_id": "02bc2ea544074fd09e3f99ad00714b3b",
       "version_major": 2,
       "version_minor": 0
      },
      "text/plain": [
       "Batches:   0%|          | 0/1 [00:00<?, ?it/s]"
      ]
     },
     "metadata": {},
     "output_type": "display_data"
    },
    {
     "data": {
      "application/vnd.jupyter.widget-view+json": {
       "model_id": "185a15fedfb34506b7d42e90850f45eb",
       "version_major": 2,
       "version_minor": 0
      },
      "text/plain": [
       "Batches:   0%|          | 0/2 [00:00<?, ?it/s]"
      ]
     },
     "metadata": {},
     "output_type": "display_data"
    },
    {
     "data": {
      "application/vnd.jupyter.widget-view+json": {
       "model_id": "a75a1bc12f894bfc862cb4311c5a88c8",
       "version_major": 2,
       "version_minor": 0
      },
      "text/plain": [
       "Batches:   0%|          | 0/2 [00:00<?, ?it/s]"
      ]
     },
     "metadata": {},
     "output_type": "display_data"
    },
    {
     "data": {
      "application/vnd.jupyter.widget-view+json": {
       "model_id": "9d6be426f24640aca2017cf2331ee9da",
       "version_major": 2,
       "version_minor": 0
      },
      "text/plain": [
       "Batches:   0%|          | 0/1 [00:00<?, ?it/s]"
      ]
     },
     "metadata": {},
     "output_type": "display_data"
    },
    {
     "data": {
      "application/vnd.jupyter.widget-view+json": {
       "model_id": "1892c6cff25c47b28478565e6ba535dc",
       "version_major": 2,
       "version_minor": 0
      },
      "text/plain": [
       "Batches:   0%|          | 0/1 [00:00<?, ?it/s]"
      ]
     },
     "metadata": {},
     "output_type": "display_data"
    },
    {
     "data": {
      "application/vnd.jupyter.widget-view+json": {
       "model_id": "96550936fe7f4f459730c59006c6ed0c",
       "version_major": 2,
       "version_minor": 0
      },
      "text/plain": [
       "Batches:   0%|          | 0/1 [00:00<?, ?it/s]"
      ]
     },
     "metadata": {},
     "output_type": "display_data"
    },
    {
     "data": {
      "application/vnd.jupyter.widget-view+json": {
       "model_id": "cea5b74254794bd79fa8013b1195f829",
       "version_major": 2,
       "version_minor": 0
      },
      "text/plain": [
       "Batches:   0%|          | 0/1 [00:00<?, ?it/s]"
      ]
     },
     "metadata": {},
     "output_type": "display_data"
    },
    {
     "data": {
      "application/vnd.jupyter.widget-view+json": {
       "model_id": "a4d0e92e76704cf1a1ae4c8686554ff2",
       "version_major": 2,
       "version_minor": 0
      },
      "text/plain": [
       "Batches:   0%|          | 0/1 [00:00<?, ?it/s]"
      ]
     },
     "metadata": {},
     "output_type": "display_data"
    },
    {
     "data": {
      "application/vnd.jupyter.widget-view+json": {
       "model_id": "c261abbf59d54a83bae9cc296ab1c0cd",
       "version_major": 2,
       "version_minor": 0
      },
      "text/plain": [
       "Batches:   0%|          | 0/1 [00:00<?, ?it/s]"
      ]
     },
     "metadata": {},
     "output_type": "display_data"
    }
   ],
   "source": [
    "import igraph as ig, leidenalg as la\n",
    "from sklearn.metrics.pairwise import cosine_similarity\n",
    "\n",
    "cluster_ids = list(clusters.keys())\n",
    "model = SentenceTransformer('all-MiniLM-L6-v2')\n",
    "\n",
    "def cluster_embedding(texts, model):\n",
    "    vecs = model.encode(texts, batch_size=128,\n",
    "                        normalize_embeddings=True,\n",
    "                        device='mps', show_progress_bar=True)\n",
    "    return vecs.mean(0)\n",
    "\n",
    "emb = {cid: cluster_embedding(clusters[cid], model)\n",
    "       for cid in cluster_ids}\n",
    "X = np.vstack([emb[cid] for cid in cluster_ids])\n",
    "\n",
    "k = 15\n",
    "sim = cosine_similarity(X)\n",
    "knn_ix = np.argsort(-sim, axis=1)[:, 1:k+1]\n",
    "\n",
    "edges, wts = [], []\n",
    "for i, nbrs in enumerate(knn_ix):\n",
    "    for j in nbrs:\n",
    "        edges.append((i, j))\n",
    "        wts.append(float(sim[i, j]))\n",
    "\n",
    "g = ig.Graph(edges=edges, directed=False)\n",
    "g.vs['name'] = cluster_ids\n",
    "g.es['weight'] = wts"
   ]
  },
  {
   "cell_type": "code",
   "execution_count": 14,
   "id": "291fe7e8",
   "metadata": {},
   "outputs": [],
   "source": [
    "def leiden_cpm(gamma):\n",
    "    part = la.find_partition(\n",
    "        g,\n",
    "        la.CPMVertexPartition,\n",
    "        weights='weight',\n",
    "        resolution_parameter=gamma,\n",
    "        n_iterations=-1\n",
    "    )\n",
    "    return {g.vs[i]['name']: cid for i, cid in enumerate(part.membership)}\n",
    "\n",
    "coarse05 = leiden_cpm(0.7)"
   ]
  },
  {
   "cell_type": "code",
   "execution_count": 15,
   "id": "f78a5626",
   "metadata": {},
   "outputs": [],
   "source": [
    "labels = pd.DataFrame({\n",
    "    'bill_id': list(so.keys()),\n",
    "    'subject': list(so.values())\n",
    "})"
   ]
  },
  {
   "cell_type": "code",
   "execution_count": 16,
   "id": "0540d7e4",
   "metadata": {},
   "outputs": [],
   "source": [
    "clust_reverse = {v: k for k, val in clusters.items() for v in val}"
   ]
  },
  {
   "cell_type": "code",
   "execution_count": 17,
   "id": "a457a420",
   "metadata": {},
   "outputs": [],
   "source": [
    "labels['cluster'] = labels['subject'].map(clust_reverse)\n",
    "labels['coarse05'] = labels['cluster'].map(coarse05)"
   ]
  },
  {
   "cell_type": "code",
   "execution_count": 18,
   "id": "d1ddba5b",
   "metadata": {},
   "outputs": [],
   "source": [
    "with open('bill_ids.txt', 'r') as f:\n",
    "    bill_ids = f.read().splitlines()"
   ]
  },
  {
   "cell_type": "code",
   "execution_count": 19,
   "id": "f4b22c7b",
   "metadata": {},
   "outputs": [],
   "source": [
    "with open('missed_bills.txt', 'r') as f:\n",
    "    missed_bills = f.read().splitlines()"
   ]
  },
  {
   "cell_type": "code",
   "execution_count": 20,
   "id": "d073320c",
   "metadata": {},
   "outputs": [],
   "source": [
    "bill_id_mapping = pickle.load(open('bill_id_mapping.pkl', 'rb'))"
   ]
  },
  {
   "cell_type": "code",
   "execution_count": 21,
   "id": "31c351a1",
   "metadata": {},
   "outputs": [],
   "source": [
    "missing_variations = [k for k, v in bill_id_mapping.items() if v in missed_bills]"
   ]
  },
  {
   "cell_type": "code",
   "execution_count": 22,
   "id": "70e8059d",
   "metadata": {},
   "outputs": [],
   "source": [
    "bill_labels = {}\n",
    "for _, row in labels[['bill_id', 'cluster']].drop_duplicates().iterrows():\n",
    "    bill_labels[row['bill_id']] = row['cluster']"
   ]
  },
  {
   "cell_type": "code",
   "execution_count": 23,
   "id": "e06a54b2",
   "metadata": {},
   "outputs": [],
   "source": [
    "with open('bill_labels.json', 'w') as f:\n",
    "    json.dump(bill_labels, f)"
   ]
  },
  {
   "cell_type": "code",
   "execution_count": 24,
   "id": "43e78f6b",
   "metadata": {},
   "outputs": [],
   "source": [
    "digests = pd.read_csv('ca_leg/legislation_data/digest.csv')"
   ]
  },
  {
   "cell_type": "code",
   "execution_count": 25,
   "id": "97292f0f",
   "metadata": {},
   "outputs": [],
   "source": [
    "digest_embeddings = torch.load('digests.pt', weights_only=False)"
   ]
  },
  {
   "cell_type": "code",
   "execution_count": 26,
   "id": "11a8e82a",
   "metadata": {},
   "outputs": [],
   "source": [
    "def extract_version(identifier):\n",
    "    nums = re.findall(r'(\\d+)', str(identifier))\n",
    "    return int(nums[-1]) if nums else 0\n",
    "\n",
    "repairs = digests.loc[digests['bill_id'].isin(missing_variations)].copy()\n",
    "repairs['bill'] = repairs['bill_id'].map(bill_id_mapping)\n",
    "repairs['version'] = repairs['bill_id'].apply(extract_version)\n",
    "repairs = (\n",
    "    repairs.sort_values('version', ascending=False)\n",
    "    .groupby('bill')\n",
    "    .head(1)\n",
    "    .reset_index(drop=True)\n",
    ")\n"
   ]
  },
  {
   "cell_type": "code",
   "execution_count": 27,
   "id": "79035831",
   "metadata": {},
   "outputs": [],
   "source": [
    "digest_embedding_lookup = {\n",
    "    key: tensor.cpu().numpy()\n",
    "    for key, tensor in digest_embeddings.items()\n",
    "}\n"
   ]
  },
  {
   "cell_type": "code",
   "execution_count": 28,
   "id": "10458241",
   "metadata": {},
   "outputs": [],
   "source": [
    "repairs['digest_embedding'] = repairs['DigestText'].map(digest_embedding_lookup)\n",
    "repairs = repairs.loc[repairs['digest_embedding'].notna()].reset_index(drop=True)\n"
   ]
  },
  {
   "cell_type": "code",
   "execution_count": 29,
   "id": "f3ed503c",
   "metadata": {},
   "outputs": [],
   "source": [
    "labeled = labels[['bill_id', 'cluster']].drop_duplicates().rename(columns={'bill_id': 'bill'})\n",
    "labeled_variations = [k for k, v in bill_id_mapping.items() if v in labeled['bill'].values]\n",
    "\n",
    "labeled_digests = digests.loc[digests['bill_id'].isin(labeled_variations)].copy()\n",
    "labeled_digests['bill'] = labeled_digests['bill_id'].map(bill_id_mapping)\n",
    "labeled_digests['version'] = labeled_digests['bill_id'].apply(extract_version)\n",
    "labeled_digests = (\n",
    "    labeled_digests.sort_values('version', ascending=False)\n",
    "    .groupby('bill')\n",
    "    .head(1)\n",
    "    .reset_index(drop=True)\n",
    ")\n",
    "labeled_digests['digest_embedding'] = labeled_digests['DigestText'].map(digest_embedding_lookup)\n",
    "labeled_digests = (\n",
    "    labeled_digests.merge(labeled, on='bill', how='inner')\n",
    "    .loc[lambda df: df['digest_embedding'].notna()]\n",
    "    .reset_index(drop=True)\n",
    ")\n"
   ]
  },
  {
   "cell_type": "code",
   "execution_count": 31,
   "id": "03223df5",
   "metadata": {},
   "outputs": [],
   "source": [
    "def normalize_embeddings(matrix):\n",
    "    matrix = np.asarray(matrix, dtype=np.float32)\n",
    "    norms = np.linalg.norm(matrix, axis=1, keepdims=True)\n",
    "    norms[norms == 0] = 1.0\n",
    "    return matrix / norms\n",
    "\n",
    "if labeled_digests.empty or repairs.empty:\n",
    "    train_matrix = np.empty((0, 0))\n",
    "    train_labels = np.array([])\n",
    "    query_matrix = np.empty((0, 0))\n",
    "else:\n",
    "    train_matrix = normalize_embeddings(np.vstack(labeled_digests['digest_embedding'].values))\n",
    "    train_labels = labeled_digests['cluster'].values\n",
    "    query_matrix = normalize_embeddings(np.vstack(repairs['digest_embedding'].values))\n"
   ]
  },
  {
   "cell_type": "code",
   "execution_count": 33,
   "id": "4f6c14cf",
   "metadata": {},
   "outputs": [],
   "source": [
    "from sklearn.neighbors import NearestNeighbors\n",
    "\n",
    "if len(train_matrix) and len(query_matrix):\n",
    "    n_neighbors = min(15, len(train_matrix))\n",
    "    nn = NearestNeighbors(n_neighbors=n_neighbors, metric='cosine', algorithm='brute')\n",
    "    nn.fit(train_matrix)\n",
    "    distances, indices = nn.kneighbors(query_matrix, return_distance=True)\n",
    "\n",
    "    def weighted_vote(neighbor_indices, neighbor_distances):\n",
    "        sims = 1 - neighbor_distances\n",
    "        scores = defaultdict(float)\n",
    "        for idx, sim in zip(neighbor_indices, sims):\n",
    "            scores[train_labels[idx]] += float(sim)\n",
    "        return max(scores.items(), key=lambda item: item[1])[0]\n",
    "\n",
    "    predicted_clusters = [\n",
    "        weighted_vote(ind, dist) for ind, dist in zip(indices, distances)\n",
    "    ]\n",
    "    repairs['label_pred'] = predicted_clusters\n",
    "else:\n",
    "    repairs['label_pred'] = np.nan\n"
   ]
  },
  {
   "cell_type": "code",
   "execution_count": 36,
   "id": "73e5e901",
   "metadata": {},
   "outputs": [],
   "source": [
    "reps = {k: v for k, v in repairs[['bill', 'label_pred']].values if pd.notna(v)}\n",
    "bbb = bill_labels.copy()\n",
    "bbb.update(reps)\n",
    "\n",
    "with open('bill_labels_updated.json', 'w') as f:\n",
    "    json.dump(bbb, f)\n"
   ]
  },
  {
   "cell_type": "code",
   "execution_count": 6,
   "id": "ff37214b",
   "metadata": {},
   "outputs": [],
   "source": [
    "with open('bill_labels_updated.json', 'r') as f:\n",
    "    updated_labels = json.load(f)"
   ]
  },
  {
   "cell_type": "code",
   "execution_count": 25,
   "id": "8831723e",
   "metadata": {},
   "outputs": [],
   "source": [
    "labels = pd.read_csv('sampled_labels - sampled_labels.csv')"
   ]
  },
  {
   "cell_type": "code",
   "execution_count": 27,
   "id": "7d278e56",
   "metadata": {},
   "outputs": [],
   "source": [
    "so = {row['cluster']: row['Label'] for _, row in labels.iterrows()}"
   ]
  },
  {
   "cell_type": "code",
   "execution_count": 38,
   "id": "16d2c4fb",
   "metadata": {},
   "outputs": [],
   "source": [
    "corrections = {}\n",
    "\n",
    "for l in labels.groupby('Label')['cluster'].count().sort_values(ascending=False).loc[lambda x: x > 1].index:\n",
    "    correction = [k for k, v in so.items() if v == l]\n",
    "    m = min(correction)\n",
    "    for c in correction:\n",
    "        if c != m:\n",
    "            corrections[c] = m"
   ]
  },
  {
   "cell_type": "code",
   "execution_count": 41,
   "id": "081451fc",
   "metadata": {},
   "outputs": [],
   "source": [
    "updated_labels2 = {}\n",
    "\n",
    "for k, v in updated_labels.items():\n",
    "    if v in corrections:\n",
    "        updated_labels2[k] = corrections[v]\n",
    "    else:\n",
    "        updated_labels2[k] = v"
   ]
  },
  {
   "cell_type": "code",
   "execution_count": 42,
   "id": "09af0bc6",
   "metadata": {},
   "outputs": [],
   "source": [
    "with open('bill_labels_updated.json', 'w') as f:\n",
    "    json.dump(updated_labels2, f)"
   ]
  },
  {
   "cell_type": "code",
   "execution_count": 12,
   "id": "41a95f31",
   "metadata": {},
   "outputs": [],
   "source": [
    "labels = pd.DataFrame.from_dict(updated_labels, orient='index', columns=['cluster']).reset_index(names='bill_id')"
   ]
  },
  {
   "cell_type": "code",
   "execution_count": 17,
   "id": "b2e72331",
   "metadata": {},
   "outputs": [
    {
     "data": {
      "application/vnd.microsoft.datawrangler.viewer.v0+json": {
       "columns": [
        {
         "name": "index",
         "rawType": "int64",
         "type": "integer"
        },
        {
         "name": "bill_id",
         "rawType": "object",
         "type": "string"
        },
        {
         "name": "cluster",
         "rawType": "int64",
         "type": "integer"
        },
        {
         "name": "subject",
         "rawType": "object",
         "type": "unknown"
        }
       ],
       "ref": "77f0a105-41e9-47b6-8e54-29b72a005d2a",
       "rows": [
        [
         "0",
         "200320040SB73",
         "82",
         "national guard"
        ],
        [
         "1",
         "200520060AB1484",
         "5",
         "sexually violent predators definition"
        ],
        [
         "2",
         "200920100AB2531",
         "32",
         "redevelopment economic development"
        ],
        [
         "3",
         "200520060SB1576",
         "102",
         "foster care transitional housing"
        ],
        [
         "4",
         "200920100AB383",
         "34",
         "criminal procedure dna evidence"
        ],
        [
         "5",
         "201520160SB1090",
         "105",
         "sexually transmitted diseases outreach and screening services"
        ],
        [
         "6",
         "201720180AB1219",
         "90",
         "food donations"
        ],
        [
         "7",
         "202120220AB2593",
         "0",
         "coastal resources coastal development permits blue carbon projects"
        ],
        [
         "8",
         "201320140SB99",
         "22",
         "budget act of 2013"
        ],
        [
         "9",
         "200520060AB1691",
         "34",
         "teachers criminal records checks"
        ],
        [
         "10",
         "202320240SB960",
         "17",
         "transportation planning transit priority projects multimodal"
        ],
        [
         "11",
         "200320040AB1638",
         "68",
         "charter schools nonclassroom based instruction"
        ],
        [
         "12",
         "201720180SB831",
         "79",
         "land use accessory dwelling units"
        ],
        [
         "13",
         "201520160SB1475",
         "78",
         "state warrants records"
        ],
        [
         "14",
         "201920200AB1392",
         "97",
         "state lands commission grant of trust lands city of redwood city"
        ],
        [
         "15",
         "200720080AB1626",
         "50",
         "county employees retirement conformance with federal law"
        ],
        [
         "16",
         "200520060SB74",
         "23",
         "emergency flood protection and levee repair bond act of 2006"
        ],
        [
         "17",
         "200720080AB2575",
         "46",
         "foster care investigations audio recording"
        ],
        [
         "18",
         "201520160ACR64",
         "41",
         "asthma awareness month"
        ],
        [
         "19",
         "200920100AB2361",
         "51",
         "weights and measures inspection fees"
        ],
        [
         "20",
         "202320240SB804",
         "46",
         "criminal procedure hearsay testimony at preliminary hearings"
        ],
        [
         "21",
         "202520260SB786",
         "111",
         "planning and zoning general plan judicial challenges"
        ],
        [
         "22",
         "202320240AB3239",
         "113",
         "state parks and monuments"
        ],
        [
         "23",
         "200120022SB64",
         "97",
         "energy qualified agricultural biomass incentive grants"
        ],
        [
         "24",
         "200320040AB216",
         "45",
         "alcohol fee youth alcohol recovery and prevention"
        ],
        [
         "25",
         "201720180AB563",
         "6",
         "calfresh employment and training program"
        ],
        [
         "26",
         "202120220AB2105",
         "51",
         "contractors initial license fee reduction veterans"
        ],
        [
         "27",
         "200320040SB1285",
         "13",
         "juvenile court criminal history reporting"
        ],
        [
         "28",
         "202320240AB2576",
         "34",
         "diversion attempted murder"
        ],
        [
         "29",
         "202320240SB129",
         "66",
         "housing"
        ],
        [
         "30",
         "200520060SB1185",
         "55",
         "school employees compulsory leave of absence compensation"
        ],
        [
         "31",
         "201920200AB1087",
         "27",
         "pupil instruction requirements for graduation economics"
        ],
        [
         "32",
         "200720080AB256",
         "65",
         "highway users tax account appropriation of funds"
        ],
        [
         "33",
         "200120020ACR142",
         "53",
         "judge harry pregerson interchange"
        ],
        [
         "34",
         "200720080SCR89",
         "39",
         "cancer survivor beauty and support day"
        ],
        [
         "35",
         "202120220AB1611",
         "64",
         "oil spills potential casualties with submerged oil pipelines vessels reporting"
        ],
        [
         "36",
         "202520260AB720",
         "45",
         "winegrowers and brandy manufacturers privileges off premises"
        ],
        [
         "37",
         "200720080SB1467",
         "44",
         "insurance guarantee fund"
        ],
        [
         "38",
         "202120220AB2021",
         "7",
         "property tax sales sale to local agency or qualified nonprofit organizations"
        ],
        [
         "39",
         "200520060ACR125",
         "115",
         "agriculture day"
        ],
        [
         "40",
         "201320140SB397",
         "40",
         "the california community colleges veterans education pilot program"
        ],
        [
         "41",
         "200320040ACR258",
         "89",
         "red ribbon week"
        ],
        [
         "42",
         "202320240SB45",
         "94",
         "california acute care psychiatric hospital loan fund"
        ],
        [
         "43",
         "201920200AB1763",
         "59",
         "public utilities commission membership"
        ],
        [
         "44",
         "200120020SB550",
         "86",
         "endangered species"
        ],
        [
         "45",
         "202320240SCR135",
         "115",
         "california holocaust memorial day"
        ],
        [
         "46",
         "201720180ACR256",
         "115",
         "rosie s day"
        ],
        [
         "47",
         "202120220AB2137",
         "29",
         "family justice centers"
        ],
        [
         "48",
         "200920100AB970",
         "32",
         "local government economic development"
        ],
        [
         "49",
         "200120020SB736",
         "32",
         "local law enforcement funding"
        ]
       ],
       "shape": {
        "columns": 3,
        "rows": 46100
       }
      },
      "text/html": [
       "<div>\n",
       "<style scoped>\n",
       "    .dataframe tbody tr th:only-of-type {\n",
       "        vertical-align: middle;\n",
       "    }\n",
       "\n",
       "    .dataframe tbody tr th {\n",
       "        vertical-align: top;\n",
       "    }\n",
       "\n",
       "    .dataframe thead th {\n",
       "        text-align: right;\n",
       "    }\n",
       "</style>\n",
       "<table border=\"1\" class=\"dataframe\">\n",
       "  <thead>\n",
       "    <tr style=\"text-align: right;\">\n",
       "      <th></th>\n",
       "      <th>bill_id</th>\n",
       "      <th>cluster</th>\n",
       "      <th>subject</th>\n",
       "    </tr>\n",
       "  </thead>\n",
       "  <tbody>\n",
       "    <tr>\n",
       "      <th>0</th>\n",
       "      <td>200320040SB73</td>\n",
       "      <td>82</td>\n",
       "      <td>national guard</td>\n",
       "    </tr>\n",
       "    <tr>\n",
       "      <th>1</th>\n",
       "      <td>200520060AB1484</td>\n",
       "      <td>5</td>\n",
       "      <td>sexually violent predators definition</td>\n",
       "    </tr>\n",
       "    <tr>\n",
       "      <th>2</th>\n",
       "      <td>200920100AB2531</td>\n",
       "      <td>32</td>\n",
       "      <td>redevelopment economic development</td>\n",
       "    </tr>\n",
       "    <tr>\n",
       "      <th>3</th>\n",
       "      <td>200520060SB1576</td>\n",
       "      <td>102</td>\n",
       "      <td>foster care transitional housing</td>\n",
       "    </tr>\n",
       "    <tr>\n",
       "      <th>4</th>\n",
       "      <td>200920100AB383</td>\n",
       "      <td>34</td>\n",
       "      <td>criminal procedure dna evidence</td>\n",
       "    </tr>\n",
       "    <tr>\n",
       "      <th>...</th>\n",
       "      <td>...</td>\n",
       "      <td>...</td>\n",
       "      <td>...</td>\n",
       "    </tr>\n",
       "    <tr>\n",
       "      <th>46095</th>\n",
       "      <td>201720180ACR25</td>\n",
       "      <td>115</td>\n",
       "      <td>NaN</td>\n",
       "    </tr>\n",
       "    <tr>\n",
       "      <th>46096</th>\n",
       "      <td>200920100SJR35</td>\n",
       "      <td>115</td>\n",
       "      <td>NaN</td>\n",
       "    </tr>\n",
       "    <tr>\n",
       "      <th>46097</th>\n",
       "      <td>201720180AB291</td>\n",
       "      <td>34</td>\n",
       "      <td>NaN</td>\n",
       "    </tr>\n",
       "    <tr>\n",
       "      <th>46098</th>\n",
       "      <td>201720180ACR6</td>\n",
       "      <td>56</td>\n",
       "      <td>NaN</td>\n",
       "    </tr>\n",
       "    <tr>\n",
       "      <th>46099</th>\n",
       "      <td>201720180ACR1</td>\n",
       "      <td>70</td>\n",
       "      <td>NaN</td>\n",
       "    </tr>\n",
       "  </tbody>\n",
       "</table>\n",
       "<p>46100 rows × 3 columns</p>\n",
       "</div>"
      ],
      "text/plain": [
       "               bill_id  cluster                                subject\n",
       "0        200320040SB73       82                         national guard\n",
       "1      200520060AB1484        5  sexually violent predators definition\n",
       "2      200920100AB2531       32     redevelopment economic development\n",
       "3      200520060SB1576      102       foster care transitional housing\n",
       "4       200920100AB383       34        criminal procedure dna evidence\n",
       "...                ...      ...                                    ...\n",
       "46095   201720180ACR25      115                                    NaN\n",
       "46096   200920100SJR35      115                                    NaN\n",
       "46097   201720180AB291       34                                    NaN\n",
       "46098    201720180ACR6       56                                    NaN\n",
       "46099    201720180ACR1       70                                    NaN\n",
       "\n",
       "[46100 rows x 3 columns]"
      ]
     },
     "execution_count": 17,
     "metadata": {},
     "output_type": "execute_result"
    }
   ],
   "source": [
    "text = labels['bill_id'].map(bill_subjects)\n",
    "labels['subject'] = text"
   ]
  },
  {
   "cell_type": "code",
   "execution_count": 21,
   "id": "4af88a50",
   "metadata": {},
   "outputs": [],
   "source": [
    "sample = labels.groupby('cluster').sample(50).reset_index()\n",
    "sample['count'] = sample.groupby('cluster').cumcount()"
   ]
  },
  {
   "cell_type": "code",
   "execution_count": 23,
   "id": "a7aee460",
   "metadata": {},
   "outputs": [],
   "source": [
    "sample.pivot(index='cluster', columns='count', values='subject').to_csv('sampled_labels.csv', index=True)"
   ]
  },
  {
   "cell_type": "code",
   "execution_count": 20,
   "id": "ef85488c",
   "metadata": {},
   "outputs": [],
   "source": [
    "from collections import defaultdict, Counter\n",
    "from sklearn.feature_extraction.text import CountVectorizer"
   ]
  },
  {
   "cell_type": "code",
   "execution_count": 18,
   "id": "40969fe1",
   "metadata": {},
   "outputs": [],
   "source": [
    "labels.groupby('cluster').sample(50, replace=True).sort_values('cluster').to_csv('sampled_labels.csv', index=False)"
   ]
  },
  {
   "cell_type": "code",
   "execution_count": 133,
   "id": "64d23161",
   "metadata": {},
   "outputs": [],
   "source": [
    "def _clean(text):\n",
    "    if not isinstance(text, str):\n",
    "        return \"\"\n",
    "    text = text.lower().strip()\n",
    "    text = re.sub(r\"\\b(state|bill|act|law|code|section|chapter|california|month)\\b\", \" \", text, flags=re.I)\n",
    "    text = re.sub(r\"\\s+\", \" \", text).lower()\n",
    "    return text\n",
    "\n",
    "def text_cluster(label, ngram_range=(2, 3), max_features=125):\n",
    "    section = labels.loc[labels['cluster'] == label, 'subject'].values\n",
    "    cleaned_texts = [_clean(text) for text in section if text and isinstance(text, str)]\n",
    "\n",
    "    if not cleaned_texts:\n",
    "        return []\n",
    "\n",
    "    vectorizer = CountVectorizer(\n",
    "        ngram_range=ngram_range,\n",
    "        max_features=max_features,\n",
    "        stop_words='english',\n",
    "        min_df=5,\n",
    "        lowercase=True\n",
    "    )\n",
    "\n",
    "    try:\n",
    "        count_matrix = vectorizer.fit_transform(cleaned_texts)\n",
    "        feature_names = vectorizer.get_feature_names_out()\n",
    "\n",
    "        phrase_counts = count_matrix.sum(axis=0).A1\n",
    "\n",
    "        phrase_count_pairs = list(zip(feature_names, phrase_counts))\n",
    "        phrase_count_pairs.sort(key=lambda x: x[1], reverse=True)\n",
    "\n",
    "        return phrase_count_pairs[:3]\n",
    "\n",
    "    except ValueError:\n",
    "        return []"
   ]
  },
  {
   "cell_type": "code",
   "execution_count": 134,
   "id": "e4f4a0e0",
   "metadata": {},
   "outputs": [],
   "source": [
    "cluster_phrases = {}\n",
    "for label in labels['cluster'].unique():\n",
    "    cluster_phrases[label] = text_cluster(label)"
   ]
  },
  {
   "cell_type": "code",
   "execution_count": 135,
   "id": "087801b7",
   "metadata": {},
   "outputs": [],
   "source": [
    "cp = pd.DataFrame.from_dict(cluster_phrases, orient='index', columns=['phrase1', 'phrase2', 'phrase3']).reset_index(names='cluster').sort_values('cluster')"
   ]
  },
  {
   "cell_type": "code",
   "execution_count": null,
   "id": "8493165d",
   "metadata": {},
   "outputs": [],
   "source": [
    "sl = pd.read_csv('sampled_labels - sampled_labels.csv')\n",
    "big_labels = {row['cluster']: row['Unnamed: 1'] for _, row in sl.iterrows()}"
   ]
  },
  {
   "cell_type": "code",
   "execution_count": 23,
   "id": "90710de9",
   "metadata": {},
   "outputs": [],
   "source": [
    "labels['label'] = labels['cluster'].map(big_labels)"
   ]
  }
 ],
 "metadata": {
  "kernelspec": {
   "display_name": "ml",
   "language": "python",
   "name": "python3"
  },
  "language_info": {
   "codemirror_mode": {
    "name": "ipython",
    "version": 3
   },
   "file_extension": ".py",
   "mimetype": "text/x-python",
   "name": "python",
   "nbconvert_exporter": "python",
   "pygments_lexer": "ipython3",
   "version": "3.12.3"
  }
 },
 "nbformat": 4,
 "nbformat_minor": 5
}
