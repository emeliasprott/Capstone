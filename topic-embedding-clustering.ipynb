{
 "cells": [
  {
   "cell_type": "code",
   "execution_count": 26,
   "id": "e10e4af2",
   "metadata": {},
   "outputs": [],
   "source": [
    "import re, torch, json, pickle, itertools\n",
    "import numpy as np\n",
    "import pandas as pd\n",
    "\n",
    "from sentence_transformers import SentenceTransformer\n",
    "from sklearn.cluster import AgglomerativeClustering\n",
    "import warnings\n",
    "from nltk.corpus import stopwords\n",
    "stop_words = set(stopwords.words('english'))\n",
    "\n",
    "warnings.filterwarnings(\"ignore\", category=pd.errors.SettingWithCopyWarning)"
   ]
  },
  {
   "cell_type": "code",
   "execution_count": 27,
   "id": "2bd3f32f",
   "metadata": {},
   "outputs": [],
   "source": [
    "with open('bill_subjects.json', 'r') as f:\n",
    "    bill_subjects = json.load(f)"
   ]
  },
  {
   "cell_type": "code",
   "execution_count": 28,
   "id": "0c5afe66",
   "metadata": {},
   "outputs": [],
   "source": [
    "subject_originals = pickle.load(open('subjects_original.pkl', 'rb'))"
   ]
  },
  {
   "cell_type": "code",
   "execution_count": 29,
   "id": "fb8f7cf2",
   "metadata": {},
   "outputs": [],
   "source": [
    "so = {k: subject_originals[v] for k, v in bill_subjects.items() if v in subject_originals}"
   ]
  },
  {
   "cell_type": "code",
   "execution_count": 30,
   "id": "924ff432",
   "metadata": {},
   "outputs": [],
   "source": [
    "subs = pd.DataFrame.from_dict(so, orient='index', columns=['subject']).reset_index().rename(columns={'index':'bill_id'})\n",
    "subs = subs.loc[subs['subject'].notna()]"
   ]
  },
  {
   "cell_type": "code",
   "execution_count": 31,
   "id": "684cf49c",
   "metadata": {},
   "outputs": [],
   "source": [
    "def canonical(sub, round='first'):\n",
    "    if round == 'first':\n",
    "        val = 0\n",
    "    elif round == 'second':\n",
    "        if len(sub.split(':')) < 2:\n",
    "            val = 0\n",
    "        else:\n",
    "            val = 1\n",
    "    if round == 'third':\n",
    "        if sub.split(':').__len__() > 2:\n",
    "            txt = ' '.join([sub.split(':')[1].lower(), sub.split(':')[2].lower()])\n",
    "        elif len(sub.split(':')) <= 2:\n",
    "            txt = re.sub(r'\\:', ' ', sub.lower()).strip()\n",
    "    else:\n",
    "        txt = sub.split(':')[val].lower()\n",
    "    txt = re.sub(r'\\-', '', txt)\n",
    "    txt = re.sub(r'[^a-z\\s]', ' ', txt)\n",
    "    pattern = r'\\b(?:california|state|bill|law|act|amendment|proposition|measure|initiative|program|code|section|chapter|month|awareness|prevention)\\b'\n",
    "    txt = re.sub(pattern, ' ', txt)\n",
    "    if len(txt) <= 7:\n",
    "        if len(sub.split(':')) <= 2 or round == 'third':\n",
    "            txt = re.sub(r'\\:', ' ', sub.lower()).strip()\n",
    "        elif sub.split(':').__len__() > 2:\n",
    "            txt = ' '.join([sub.split(':')[1].lower(), sub.split(':')[2].lower()])\n",
    "        txt = re.sub(r'\\-', '', txt)\n",
    "        txt = re.sub(r'[^a-z\\s]', ' ', txt)\n",
    "        txt = re.sub(pattern, ' ', txt)\n",
    "    txt = re.sub(r'\\s+', ' ', txt).strip()\n",
    "    return txt\n",
    "\n",
    "def sub_clean(sub):\n",
    "    s = canonical(sub)\n",
    "    if len(s) < 5:\n",
    "        s = canonical(sub, round='second')\n",
    "    if len(s) < 5:\n",
    "        s = canonical(sub, round='third')\n",
    "    s = s.lower().strip()\n",
    "    s = re.sub(r'[^a-z\\s]', ' ', s)\n",
    "    sy = ' '.join([word.strip() for word in s.split() if word not in stop_words]).strip()\n",
    "    return sy\n",
    "\n",
    "subs['top_subject'] = subs['subject'].apply(sub_clean)"
   ]
  },
  {
   "cell_type": "code",
   "execution_count": 32,
   "id": "de1ea5d6",
   "metadata": {},
   "outputs": [],
   "source": [
    "def embed_subjects(subjs):\n",
    "    model = SentenceTransformer('all-MiniLM-L6-v2')\n",
    "    embs = model.encode(subjs, batch_size=128, normalize_embeddings=True, show_progress_bar=True)\n",
    "    return np.asarray(embs)"
   ]
  },
  {
   "cell_type": "code",
   "execution_count": 33,
   "id": "d13e6686",
   "metadata": {},
   "outputs": [
    {
     "data": {
      "application/vnd.jupyter.widget-view+json": {
       "model_id": "f14d6c2fed36486f9f5f2c2537e48ad1",
       "version_major": 2,
       "version_minor": 0
      },
      "text/plain": [
       "Batches:   0%|          | 0/117 [00:00<?, ?it/s]"
      ]
     },
     "metadata": {},
     "output_type": "display_data"
    }
   ],
   "source": [
    "embs = embed_subjects(subs['top_subject'].dropna().unique().tolist())"
   ]
  },
  {
   "cell_type": "code",
   "execution_count": 230,
   "id": "94cbfa74",
   "metadata": {},
   "outputs": [],
   "source": [
    "from sklearn.neighbors import kneighbors_graph\n",
    "\n",
    "X = np.asarray(embs, dtype=np.float32)\n",
    "connectivity = kneighbors_graph(X, n_neighbors=124, metric='cosine')"
   ]
  },
  {
   "cell_type": "code",
   "execution_count": 248,
   "id": "e0502222",
   "metadata": {},
   "outputs": [
    {
     "name": "stdout",
     "output_type": "stream",
     "text": [
      "5.4 77\n"
     ]
    }
   ],
   "source": [
    "for threshold in [5.4]:\n",
    "    m2 = AgglomerativeClustering(n_clusters=None, distance_threshold=threshold, linkage='ward', metric='euclidean', compute_full_tree=True, connectivity=connectivity)\n",
    "    l2 = m2.fit_predict(X)\n",
    "    print(threshold, len(np.unique(l2)))\n",
    "    if (len(np.unique(l2)) < 85) & (len(np.unique(l2)) >=65):\n",
    "        break"
   ]
  },
  {
   "cell_type": "code",
   "execution_count": 249,
   "id": "b777b866",
   "metadata": {},
   "outputs": [],
   "source": [
    "subjs = subs['top_subject'].dropna().unique().tolist()\n",
    "subj_df = pd.DataFrame({'subject': subjs, 'cluster': l2})"
   ]
  },
  {
   "cell_type": "code",
   "execution_count": 250,
   "id": "30d27656",
   "metadata": {},
   "outputs": [],
   "source": [
    "labeling_df = subj_df.groupby('cluster').agg({'subject': lambda x: list(set(x))}).reset_index()"
   ]
  },
  {
   "cell_type": "code",
   "execution_count": null,
   "id": "7929c199",
   "metadata": {},
   "outputs": [],
   "source": [
    "sbs = subs.merge(subj_df, left_on='top_subject', right_on='subject', how='left')\n",
    "bill_labels = {}\n",
    "for _, row in sbs.iterrows():\n",
    "    bill_labels[row['bill_id']] = row['cluster']"
   ]
  },
  {
   "cell_type": "code",
   "execution_count": null,
   "id": "81d4d861",
   "metadata": {},
   "outputs": [],
   "source": [
    "with open('bill_labels.json', 'w') as f:\n",
    "    json.dump(bill_labels, f)"
   ]
  },
  {
   "cell_type": "code",
   "execution_count": 257,
   "id": "7e47ee70",
   "metadata": {},
   "outputs": [],
   "source": [
    "labeling_df.to_csv('subject_clusters.csv', index=False)"
   ]
  },
  {
   "cell_type": "code",
   "execution_count": 34,
   "id": "4a6e8f63",
   "metadata": {},
   "outputs": [],
   "source": [
    "with open('bill_labels.json', 'r') as f:\n",
    "    bill_labels = json.load(f)"
   ]
  },
  {
   "cell_type": "code",
   "execution_count": 35,
   "id": "71bfd8c1",
   "metadata": {},
   "outputs": [],
   "source": [
    "subs['cluster'] = subs['bill_id'].apply(lambda x: bill_labels.get(x, -1))"
   ]
  },
  {
   "cell_type": "code",
   "execution_count": 36,
   "id": "4643ef3b",
   "metadata": {},
   "outputs": [],
   "source": [
    "labeling_df = pd.read_csv('subject_clusters.csv')"
   ]
  },
  {
   "cell_type": "code",
   "execution_count": 37,
   "id": "43f6453b",
   "metadata": {},
   "outputs": [],
   "source": [
    "def normalize(v):\n",
    "    n = np.linalg.norm(v, axis=1, keepdims=True)\n",
    "    n[n == 0] = 1.0\n",
    "    return v / n\n",
    "\n",
    "def cluster_representatives(embs, df, top_k=3):\n",
    "    X = normalize(embs)\n",
    "    df = df.drop_duplicates(subset=['top_subject'])\n",
    "    labels = df['cluster'].to_numpy()\n",
    "    texts = df['top_subject'].to_list()\n",
    "    reps = {}\n",
    "    for c in np.unique(labels):\n",
    "        hl = []\n",
    "        idx = np.where(labels == c)[0]\n",
    "        Xc = X[idx]\n",
    "        centroid = normalize(Xc.mean(axis=0, keepdims=True))\n",
    "        sims = (Xc @ centroid.T).ravel()\n",
    "        order = np.argsort(-sims)[:top_k]\n",
    "        hl += [texts[int(idx[i])] for i in order]\n",
    "        S = Xc @ Xc.T\n",
    "        avg_sim = (S.sum(axis=1) - 1) / max(len(idx) - 1, 1)\n",
    "        i = int(idx[np.argmax(avg_sim)])\n",
    "        hl += [texts[i]]\n",
    "        reps[c] = list(set(hl))\n",
    "\n",
    "    return reps\n",
    "\n",
    "reps = cluster_representatives(embs, subs, top_k=3)"
   ]
  },
  {
   "cell_type": "code",
   "execution_count": 38,
   "id": "08569a99",
   "metadata": {},
   "outputs": [],
   "source": [
    "model = SentenceTransformer('all-MiniLM-L6-v2')\n",
    "\n",
    "embedded_labels = {}\n",
    "for c, texts in reps.items():\n",
    "    text = \" \".join(texts)\n",
    "    embs = model.encode(text, batch_size=32, normalize_embeddings=True, output_dimension=64)\n",
    "    embedded_labels[int(c)] = embs\n",
    "\n",
    "with open('embedded_labels.pkl', 'wb') as f:\n",
    "    pickle.dump(embedded_labels, f)"
   ]
  },
  {
   "cell_type": "code",
   "execution_count": null,
   "id": "26165310",
   "metadata": {},
   "outputs": [],
   "source": []
  }
 ],
 "metadata": {
  "kernelspec": {
   "display_name": "ml",
   "language": "python",
   "name": "python3"
  },
  "language_info": {
   "codemirror_mode": {
    "name": "ipython",
    "version": 3
   },
   "file_extension": ".py",
   "mimetype": "text/x-python",
   "name": "python",
   "nbconvert_exporter": "python",
   "pygments_lexer": "ipython3",
   "version": "3.12.3"
  }
 },
 "nbformat": 4,
 "nbformat_minor": 5
}
