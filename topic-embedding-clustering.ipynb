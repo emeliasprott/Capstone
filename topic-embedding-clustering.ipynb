{
 "cells": [
  {
   "cell_type": "code",
   "execution_count": 183,
   "id": "e10e4af2",
   "metadata": {},
   "outputs": [],
   "source": [
    "import numpy as np\n",
    "import pandas as pd\n",
    "from sklearn.preprocessing import normalize\n",
    "from sklearn.decomposition import PCA\n",
    "from sklearn.cluster import AgglomerativeClustering\n",
    "from sklearn.metrics import silhouette_score, silhouette_samples\n",
    "import torch.nn.functional as F\n",
    "from tqdm import tqdm\n",
    "import re, collections, itertools, torch\n",
    "import json"
   ]
  },
  {
   "cell_type": "code",
   "execution_count": 184,
   "id": "e33c8218",
   "metadata": {},
   "outputs": [],
   "source": [
    "subjects = torch.load('subject_embeddings.pt')"
   ]
  },
  {
   "cell_type": "code",
   "execution_count": 185,
   "id": "6936b376",
   "metadata": {},
   "outputs": [],
   "source": [
    "X = np.stack([subjects[subject].cpu().numpy() for subject in subjects])\n",
    "X = normalize(X, norm='l2', axis=1)\n",
    "X = PCA(n_components=101, random_state=42).fit_transform(X)"
   ]
  },
  {
   "cell_type": "code",
   "execution_count": 186,
   "id": "d2d1652a",
   "metadata": {},
   "outputs": [
    {
     "name": "stderr",
     "output_type": "stream",
     "text": [
      "100%|██████████| 3/3 [01:30<00:00, 30.13s/it]\n"
     ]
    },
    {
     "data": {
      "application/vnd.microsoft.datawrangler.viewer.v0+json": {
       "columns": [
        {
         "name": "index",
         "rawType": "int64",
         "type": "integer"
        },
        {
         "name": "clusters",
         "rawType": "object",
         "type": "unknown"
        },
        {
         "name": "silhouette",
         "rawType": "float32",
         "type": "float"
        }
       ],
       "conversionMethod": "pd.DataFrame",
       "ref": "8bda15b8-1cad-4c40-bd6c-1be7e7f2b121",
       "rows": [
        [
         "360",
         "[119   2  14 ...  67 162 278]",
         "0.065593325"
        ],
        [
         "355",
         "[119  13  14 ...  67 162 278]",
         "0.065074675"
        ],
        [
         "350",
         "[119  13  14 ...  67 162 278]",
         "0.06495712"
        ]
       ],
       "shape": {
        "columns": 2,
        "rows": 3
       }
      },
      "text/html": [
       "<div>\n",
       "<style scoped>\n",
       "    .dataframe tbody tr th:only-of-type {\n",
       "        vertical-align: middle;\n",
       "    }\n",
       "\n",
       "    .dataframe tbody tr th {\n",
       "        vertical-align: top;\n",
       "    }\n",
       "\n",
       "    .dataframe thead th {\n",
       "        text-align: right;\n",
       "    }\n",
       "</style>\n",
       "<table border=\"1\" class=\"dataframe\">\n",
       "  <thead>\n",
       "    <tr style=\"text-align: right;\">\n",
       "      <th></th>\n",
       "      <th>clusters</th>\n",
       "      <th>silhouette</th>\n",
       "    </tr>\n",
       "  </thead>\n",
       "  <tbody>\n",
       "    <tr>\n",
       "      <th>360</th>\n",
       "      <td>[119, 2, 14, 30, 240, 212, 346, 36, 233, 30, 1...</td>\n",
       "      <td>0.065593</td>\n",
       "    </tr>\n",
       "    <tr>\n",
       "      <th>355</th>\n",
       "      <td>[119, 13, 14, 30, 240, 212, 346, 36, 233, 30, ...</td>\n",
       "      <td>0.065075</td>\n",
       "    </tr>\n",
       "    <tr>\n",
       "      <th>350</th>\n",
       "      <td>[119, 13, 14, 30, 240, 212, 346, 36, 233, 30, ...</td>\n",
       "      <td>0.064957</td>\n",
       "    </tr>\n",
       "  </tbody>\n",
       "</table>\n",
       "</div>"
      ],
      "text/plain": [
       "                                              clusters  silhouette\n",
       "360  [119, 2, 14, 30, 240, 212, 346, 36, 233, 30, 1...    0.065593\n",
       "355  [119, 13, 14, 30, 240, 212, 346, 36, 233, 30, ...    0.065075\n",
       "350  [119, 13, 14, 30, 240, 212, 346, 36, 233, 30, ...    0.064957"
      ]
     },
     "execution_count": 186,
     "metadata": {},
     "output_type": "execute_result"
    }
   ],
   "source": [
    "clustering = {}\n",
    "for n in tqdm(range(350, 365, 5)):\n",
    "    clusterer = AgglomerativeClustering(\n",
    "        n_clusters=n,\n",
    "        linkage='ward'\n",
    "    )\n",
    "    clusters = clusterer.fit_predict(X)\n",
    "    silhouette = silhouette_score(X, clusters)\n",
    "    clustering[n] = {'clusters': clusters, 'silhouette': silhouette}\n",
    "pd.DataFrame.from_dict(clustering, orient='index').sort_values('silhouette', ascending=False)"
   ]
  },
  {
   "cell_type": "code",
   "execution_count": 187,
   "id": "e7031e99",
   "metadata": {},
   "outputs": [],
   "source": [
    "clusters = clustering[360]['clusters']\n",
    "silhouettes = silhouette_samples(X, clusters)"
   ]
  },
  {
   "cell_type": "code",
   "execution_count": 188,
   "id": "9d32ec7e",
   "metadata": {},
   "outputs": [],
   "source": [
    "subj = pd.DataFrame({'subject': subjects.keys(), 'label': clusters, 'silhouette': silhouettes})"
   ]
  },
  {
   "cell_type": "code",
   "execution_count": 189,
   "id": "ac48dc84",
   "metadata": {},
   "outputs": [],
   "source": [
    "labels = {k: v.values[0][0] for k, v in subj.sort_values('silhouette', ascending=False).groupby('label').head(1).reset_index(drop=True).groupby('label')[['subject']]}"
   ]
  },
  {
   "cell_type": "code",
   "execution_count": 190,
   "id": "2bd3f32f",
   "metadata": {},
   "outputs": [],
   "source": [
    "with open('bill_subjects.json', 'r') as f:\n",
    "    bill_subjects = json.load(f)"
   ]
  },
  {
   "cell_type": "code",
   "execution_count": 191,
   "id": "c8f3e750",
   "metadata": {},
   "outputs": [],
   "source": [
    "subj_labels = {row['subject']: row['label'] for _, row in subj.iterrows()}\n",
    "\n",
    "bill_subjects_clean = {}\n",
    "for bill, subject in bill_subjects.items():\n",
    "    bill_subjects_clean[bill] = subj_labels.get(subject, -1)"
   ]
  },
  {
   "cell_type": "code",
   "execution_count": 182,
   "id": "beddc84b",
   "metadata": {},
   "outputs": [],
   "source": [
    "with open('bill_labels.json', 'w') as f:\n",
    "    json.dump(bill_subjects_clean, f)"
   ]
  },
  {
   "cell_type": "code",
   "execution_count": 192,
   "id": "8be8dfd2",
   "metadata": {},
   "outputs": [
    {
     "data": {
      "application/vnd.microsoft.datawrangler.viewer.v0+json": {
       "columns": [
        {
         "name": "index",
         "rawType": "int64",
         "type": "integer"
        },
        {
         "name": "subject",
         "rawType": "object",
         "type": "string"
        },
        {
         "name": "label",
         "rawType": "int64",
         "type": "integer"
        },
        {
         "name": "silhouette",
         "rawType": "float32",
         "type": "float"
        }
       ],
       "conversionMethod": "pd.DataFrame",
       "ref": "174aa5cb-715e-473d-8031-3eaaf4ad3690",
       "rows": [
        [
         "0",
         "Public Utilities Commission: reports.",
         "119",
         "0.22452481"
        ],
        [
         "1",
         "Volunteer firefighters: federal reimbursements.",
         "2",
         "0.029722208"
        ],
        [
         "2",
         "Public postsecondary education: Student Civic Engagement and Voter Action Plan.",
         "14",
         "-0.1344312"
        ],
        [
         "3",
         "Income taxes:  exclusion.",
         "30",
         "-0.0064318012"
        ],
        [
         "4",
         "Sale of water by local public entities: excise tax.",
         "240",
         "-0.032011323"
        ],
        [
         "5",
         "Private security services.",
         "212",
         "0.1397275"
        ],
        [
         "6",
         "International trade and investment office: Mexico. ",
         "346",
         "0.28632644"
        ],
        [
         "7",
         " Public lands:  transfer.",
         "36",
         "0.06664038"
        ],
        [
         "8",
         "Charter schools: operation: nonprofit public benefit corporations.",
         "233",
         "0.28908697"
        ],
        [
         "9",
         "Personal income taxes: Fire Safe Home Tax Credits.",
         "30",
         "0.008063246"
        ],
        [
         "10",
         "Income taxation: insurance taxation: credits: California New Market Tax Credit.",
         "12",
         "0.12060766"
        ],
        [
         "11",
         "Privacy: electronic communications.",
         "35",
         "0.037027135"
        ],
        [
         "12",
         "Lower American River Conservancy Program.",
         "116",
         "0.15867259"
        ],
        [
         "13",
         "Public Utilities Commission: audits and reviews.",
         "119",
         "0.18922769"
        ],
        [
         "14",
         "State correctional facilities: metal detection screening.",
         "224",
         "0.037971288"
        ],
        [
         "15",
         "Reproductive Health Emergency Preparedness Program.",
         "90",
         "-0.049743447"
        ],
        [
         "16",
         "Fire prevention:  California Fire Prevention Act  of 2003.",
         "168",
         "0.027725484"
        ],
        [
         "17",
         "Gangs: shared gang databases.",
         "350",
         "0.045085523"
        ],
        [
         "18",
         "Contractors’ State License Law.",
         "264",
         "0.16112381"
        ],
        [
         "19",
         "Telecommunications services.",
         "149",
         "0.13405162"
        ],
        [
         "20",
         "Electricity: rates: low-carbon fuel production facilities.",
         "37",
         "-0.058131136"
        ],
        [
         "21",
         "Renewable energy.",
         "322",
         "0.24235499"
        ],
        [
         "22",
         " Public postsecondary education:  community college fees:  Community Colleges Instructional and Student Services Augmentation Fund.",
         "172",
         "0.03361764"
        ],
        [
         "23",
         "Public safety juvenile justice trailer bill.",
         "110",
         "0.035725195"
        ],
        [
         "24",
         "Small businesses: funds: task force: report.",
         "245",
         "0.066885374"
        ],
        [
         "25",
         "Electricity: natural gas: rates: net energy metering: California Renewables Portfolio Standard Program.",
         "95",
         "0.12045397"
        ],
        [
         "26",
         "Housing financing programs: universal application. ",
         "17",
         "0.041614823"
        ],
        [
         "27",
         "School facilities: athletics: compliance.",
         "98",
         "-0.114734866"
        ],
        [
         "28",
         "Opioid Prevention and Rehabilitation Act.",
         "69",
         "-0.027772343"
        ],
        [
         "29",
         "Parks: outdoor environmental education: grant program. ",
         "355",
         "0.31324536"
        ],
        [
         "30",
         " Workers’ compensation.",
         "65",
         "0.2998677"
        ],
        [
         "31",
         "School facilities: critically overcrowded schools: Concept 6 program.",
         "26",
         "0.08455347"
        ],
        [
         "32",
         "Parks and recreation.",
         "244",
         "0.16219005"
        ],
        [
         "33",
         "Medi-Cal: ambulance transportation services: reimbursement: service levels.",
         "90",
         "0.018786788"
        ],
        [
         "34",
         " Special recall election expenses.",
         "348",
         "0.083713554"
        ],
        [
         "35",
         "CalWORKs: benefits overpayment.",
         "238",
         "0.16542633"
        ],
        [
         "36",
         "Milk:  forward price contracts.",
         "297",
         "-0.057835154"
        ],
        [
         "37",
         "Implicit bias training: peace officers.",
         "256",
         "0.18622382"
        ],
        [
         "38",
         "Retirement: local employees.",
         "359",
         "-0.028502047"
        ],
        [
         "39",
         "Fish and shellfish: labeling and identification.",
         "145",
         "0.15944393"
        ],
        [
         "40",
         "Umbilical cord blood biomedical resources program.",
         "62",
         "0.0698272"
        ],
        [
         "41",
         "California Collaborative for Educational Excellence.",
         "357",
         "-0.17543536"
        ],
        [
         "42",
         "Small Business Advocate: California Disabled Veteran Business Enterprise Program.",
         "121",
         "0.12578222"
        ],
        [
         "43",
         " Telecommunications: mobile data and mobile telephony services: charges for unauthorized services.",
         "149",
         "0.072892986"
        ],
        [
         "44",
         "Traffic: Cities of Burbank, Glendale, and Los Angeles.",
         "159",
         "-0.09079598"
        ],
        [
         "45",
         "Prisoners: trauma-focused programming.",
         "224",
         "0.058142092"
        ],
        [
         "46",
         "Failure to appear in court: fines.",
         "258",
         "0.04293601"
        ],
        [
         "47",
         "State Housing Law: City of Los Angeles: conversion of nonresidential buildings.",
         "335",
         "0.08320856"
        ],
        [
         "48",
         "Transactions and use taxes: County of Humboldt.",
         "214",
         "0.24198385"
        ],
        [
         "49",
         "Crimes: diversion.",
         "40",
         "-0.058526058"
        ]
       ],
       "shape": {
        "columns": 3,
        "rows": 22647
       }
      },
      "text/html": [
       "<div>\n",
       "<style scoped>\n",
       "    .dataframe tbody tr th:only-of-type {\n",
       "        vertical-align: middle;\n",
       "    }\n",
       "\n",
       "    .dataframe tbody tr th {\n",
       "        vertical-align: top;\n",
       "    }\n",
       "\n",
       "    .dataframe thead th {\n",
       "        text-align: right;\n",
       "    }\n",
       "</style>\n",
       "<table border=\"1\" class=\"dataframe\">\n",
       "  <thead>\n",
       "    <tr style=\"text-align: right;\">\n",
       "      <th></th>\n",
       "      <th>subject</th>\n",
       "      <th>label</th>\n",
       "      <th>silhouette</th>\n",
       "    </tr>\n",
       "  </thead>\n",
       "  <tbody>\n",
       "    <tr>\n",
       "      <th>0</th>\n",
       "      <td>Public Utilities Commission: reports.</td>\n",
       "      <td>119</td>\n",
       "      <td>0.224525</td>\n",
       "    </tr>\n",
       "    <tr>\n",
       "      <th>1</th>\n",
       "      <td>Volunteer firefighters: federal reimbursements.</td>\n",
       "      <td>2</td>\n",
       "      <td>0.029722</td>\n",
       "    </tr>\n",
       "    <tr>\n",
       "      <th>2</th>\n",
       "      <td>Public postsecondary education: Student Civic ...</td>\n",
       "      <td>14</td>\n",
       "      <td>-0.134431</td>\n",
       "    </tr>\n",
       "    <tr>\n",
       "      <th>3</th>\n",
       "      <td>Income taxes:  exclusion.</td>\n",
       "      <td>30</td>\n",
       "      <td>-0.006432</td>\n",
       "    </tr>\n",
       "    <tr>\n",
       "      <th>4</th>\n",
       "      <td>Sale of water by local public entities: excise...</td>\n",
       "      <td>240</td>\n",
       "      <td>-0.032011</td>\n",
       "    </tr>\n",
       "    <tr>\n",
       "      <th>...</th>\n",
       "      <td>...</td>\n",
       "      <td>...</td>\n",
       "      <td>...</td>\n",
       "    </tr>\n",
       "    <tr>\n",
       "      <th>22642</th>\n",
       "      <td>State department budgets: zero-based budget pi...</td>\n",
       "      <td>44</td>\n",
       "      <td>-0.091683</td>\n",
       "    </tr>\n",
       "    <tr>\n",
       "      <th>22643</th>\n",
       "      <td>Fire prevention: local assistance grant progra...</td>\n",
       "      <td>168</td>\n",
       "      <td>-0.026203</td>\n",
       "    </tr>\n",
       "    <tr>\n",
       "      <th>22644</th>\n",
       "      <td>Child care and development:  California State ...</td>\n",
       "      <td>67</td>\n",
       "      <td>0.001516</td>\n",
       "    </tr>\n",
       "    <tr>\n",
       "      <th>22645</th>\n",
       "      <td>Department of Motor Vehicles:  records:  confi...</td>\n",
       "      <td>162</td>\n",
       "      <td>-0.054022</td>\n",
       "    </tr>\n",
       "    <tr>\n",
       "      <th>22646</th>\n",
       "      <td>Protective orders.</td>\n",
       "      <td>278</td>\n",
       "      <td>0.160441</td>\n",
       "    </tr>\n",
       "  </tbody>\n",
       "</table>\n",
       "<p>22647 rows × 3 columns</p>\n",
       "</div>"
      ],
      "text/plain": [
       "                                                 subject  label  silhouette\n",
       "0                  Public Utilities Commission: reports.    119    0.224525\n",
       "1        Volunteer firefighters: federal reimbursements.      2    0.029722\n",
       "2      Public postsecondary education: Student Civic ...     14   -0.134431\n",
       "3                              Income taxes:  exclusion.     30   -0.006432\n",
       "4      Sale of water by local public entities: excise...    240   -0.032011\n",
       "...                                                  ...    ...         ...\n",
       "22642  State department budgets: zero-based budget pi...     44   -0.091683\n",
       "22643  Fire prevention: local assistance grant progra...    168   -0.026203\n",
       "22644  Child care and development:  California State ...     67    0.001516\n",
       "22645  Department of Motor Vehicles:  records:  confi...    162   -0.054022\n",
       "22646                                 Protective orders.    278    0.160441\n",
       "\n",
       "[22647 rows x 3 columns]"
      ]
     },
     "execution_count": 192,
     "metadata": {},
     "output_type": "execute_result"
    }
   ],
   "source": [
    "subj"
   ]
  },
  {
   "cell_type": "code",
   "execution_count": null,
   "id": "247feed7",
   "metadata": {},
   "outputs": [],
   "source": []
  }
 ],
 "metadata": {
  "kernelspec": {
   "display_name": "ml",
   "language": "python",
   "name": "python3"
  },
  "language_info": {
   "codemirror_mode": {
    "name": "ipython",
    "version": 3
   },
   "file_extension": ".py",
   "mimetype": "text/x-python",
   "name": "python",
   "nbconvert_exporter": "python",
   "pygments_lexer": "ipython3",
   "version": "3.12.3"
  }
 },
 "nbformat": 4,
 "nbformat_minor": 5
}
